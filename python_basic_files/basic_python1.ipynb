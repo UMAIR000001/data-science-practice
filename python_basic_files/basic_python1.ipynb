{
 "cells": [
  {
   "cell_type": "code",
   "execution_count": 32,
   "metadata": {},
   "outputs": [
    {
     "name": "stdout",
     "output_type": "stream",
     "text": [
      "12 1 23\n",
      "Umair's Section is : A\n",
      "Umair's semester is : First\n",
      "Umair in simple quotation\n",
      "36\n",
      "46\n",
      "In string : 12+12\n"
     ]
    }
   ],
   "source": [
    "#--------------(1)Basic of python--------day_01\n",
    "section='A'#string\n",
    "semester=\"First\"#string\n",
    "x=12#integer\n",
    "a=1#integer\n",
    "f=1.0#float\n",
    "b=23# initializing variable(int) \n",
    "print(x,a,b)\n",
    "print(\"Umair's Section is :\",section)\n",
    "print(\"Umair's semester is :\",semister)\n",
    "print('Umair in simple quotation')\n",
    "print(x+a+b)\n",
    "print(b+b)\n",
    "print('In string : 12+12')\n",
    "#(%whos) This statement is used make a list of used variables in the program "
   ]
  },
  {
   "cell_type": "code",
   "execution_count": 34,
   "metadata": {},
   "outputs": [
    {
     "name": "stdout",
     "output_type": "stream",
     "text": [
      "Variable               Type        Data/Info\n",
      "--------------------------------------------\n",
      "a                      int         1\n",
      "b                      int         23\n",
      "dataframe_columns      function    <function dataframe_colum<...>ns at 0x0000021B7FD456C0>\n",
      "dataframe_hash         function    <function dataframe_hash at 0x0000021B7FD45260>\n",
      "dtypes_str             function    <function dtypes_str at 0x0000021B7D5F9EE0>\n",
      "f                      float       1.0\n",
      "get_dataframes         function    <function get_dataframes at 0x0000021B7FD454E0>\n",
      "getpass                module      <module 'getpass' from 'C<...>conda3\\\\Lib\\\\getpass.py'>\n",
      "hashlib                module      <module 'hashlib' from 'C<...>conda3\\\\Lib\\\\hashlib.py'>\n",
      "import_pandas_safely   function    <function import_pandas_s<...>ly at 0x0000021B7FD45440>\n",
      "is_data_frame          function    <function is_data_frame at 0x0000021B7FD45800>\n",
      "json                   module      <module 'json' from 'C:\\\\<...>\\Lib\\\\json\\\\__init__.py'>\n",
      "section                str         A\n",
      "semister               str         First\n",
      "x                      int         12\n",
      "y                      int         2\n"
     ]
    }
   ],
   "source": [
    "%whos"
   ]
  },
  {
   "cell_type": "code",
   "execution_count": null,
   "metadata": {},
   "outputs": [],
   "source": []
  }
 ],
 "metadata": {
  "kernelspec": {
   "display_name": "Python 3 (ipykernel)",
   "language": "python",
   "name": "python3"
  },
  "language_info": {
   "codemirror_mode": {
    "name": "ipython",
    "version": 3
   },
   "file_extension": ".py",
   "mimetype": "text/x-python",
   "name": "python",
   "nbconvert_exporter": "python",
   "pygments_lexer": "ipython3",
   "version": "3.12.4"
  }
 },
 "nbformat": 4,
 "nbformat_minor": 4
}
