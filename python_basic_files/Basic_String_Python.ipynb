{
 "cells": [
  {
   "cell_type": "markdown",
   "metadata": {},
   "source": [
    "# LECTURE NO : 12"
   ]
  },
  {
   "cell_type": "markdown",
   "metadata": {},
   "source": [
    "# STRING IN PYTHON PART 1"
   ]
  },
  {
   "cell_type": "code",
   "execution_count": 11,
   "metadata": {},
   "outputs": [
    {
     "name": "stdout",
     "output_type": "stream",
     "text": [
      "String  String\n",
      "My Name is written below :\n",
      "Mohammad Umair Hafeez \n"
     ]
    }
   ],
   "source": [
    "A=\"String \"\n",
    "a='String'\n",
    "z='''My Name is written below :\n",
    "Mohammad Umair Hafeez '''\n",
    "print(A,a)\n",
    "print(z)"
   ]
  },
  {
   "cell_type": "code",
   "execution_count": 12,
   "metadata": {},
   "outputs": [
    {
     "name": "stdout",
     "output_type": "stream",
     "text": [
      "Umair  Hafeez\n"
     ]
    }
   ],
   "source": [
    "# String concatenate\n",
    "\n",
    "f_name=\"Umair\"\n",
    "L_name=\"Hafeez\"\n",
    "print(f_name,\"\"+\"\",L_name)"
   ]
  },
  {
   "cell_type": "code",
   "execution_count": 14,
   "metadata": {},
   "outputs": [
    {
     "name": "stdout",
     "output_type": "stream",
     "text": [
      "Umair \n",
      " hafeez\n"
     ]
    }
   ],
   "source": [
    "#for next line we use \\n\n",
    "print(\"Umair \\n hafeez\")\n"
   ]
  },
  {
   "cell_type": "markdown",
   "metadata": {},
   "source": [
    "# multi_line string "
   ]
  },
  {
   "cell_type": "code",
   "execution_count": 16,
   "metadata": {},
   "outputs": [
    {
     "name": "stdout",
     "output_type": "stream",
     "text": [
      "Data science is \"a concept to unify statistics, data analysis,\n",
      " informatics,\n",
      " and their related methods\" to \"understand and analyze actual phenomena\" with data.\n",
      " [5] It uses techniques and theories drawn from many fields within the context of\n",
      "  mathematics, statistics, computer science, information science, and domain knowledge.\n",
      "  [6] However, data science is different from computer science and information science.\n",
      "   Turing Award winner Jim Gray imagined data science as a \"fourth paradigm\" of science\n",
      "    (empirical, theoretical, computational, and now data-driven) and asserted that \n",
      "    \"everything about science is changing because of the impact of information \n",
      "    technology\" and the data deluge.[7][8]\n"
     ]
    }
   ],
   "source": [
    "#IN MULTI_LINE STRING \\n IS NOT REQUIRED \n",
    "paragraph='''Data science is \"a concept to unify statistics, data analysis,\n",
    " informatics,\n",
    " and their related methods\" to \"understand and analyze actual phenomena\" with data.\n",
    " [5] It uses techniques and theories drawn from many fields within the context of\n",
    "  mathematics, statistics, computer science, information science, and domain knowledge.\n",
    "  [6] However, data science is different from computer science and information science.\n",
    "   Turing Award winner Jim Gray imagined data science as a \"fourth paradigm\" of science\n",
    "    (empirical, theoretical, computational, and now data-driven) and asserted that \n",
    "    \"everything about science is changing because of the impact of information \n",
    "    technology\" and the data deluge.[7][8]'''\n",
    "print(paragraph)"
   ]
  },
  {
   "cell_type": "markdown",
   "metadata": {},
   "source": [
    "#Indexing of String"
   ]
  },
  {
   "cell_type": "code",
   "execution_count": 23,
   "metadata": {},
   "outputs": [
    {
     "name": "stdout",
     "output_type": "stream",
     "text": [
      "M\n",
      "o\n",
      "h\n",
      "a\n",
      "m\n",
      "m\n",
      "a\n",
      "d\n",
      " \n",
      "U\n",
      "m\n",
      "a\n"
     ]
    }
   ],
   "source": [
    "# Positive Indexing\n",
    "name=\"Mohammad Umair Hafeez\"\n",
    "print(name[0])\n",
    "print(name[1])\n",
    "print(name[2])\n",
    "print(name[3])\n",
    "print(name[4])\n",
    "print(name[5])\n",
    "print(name[6])\n",
    "print(name[7])\n",
    "print(name[8])\n",
    "print(name[9])\n",
    "print(name[10])\n",
    "print(name[11])\n"
   ]
  },
  {
   "cell_type": "code",
   "execution_count": 24,
   "metadata": {},
   "outputs": [
    {
     "name": "stdout",
     "output_type": "stream",
     "text": [
      "M\n",
      "z\n",
      "e\n",
      "e\n",
      "f\n",
      "a\n",
      "H\n",
      " \n",
      "r\n",
      "i\n",
      "a\n",
      "m\n"
     ]
    }
   ],
   "source": [
    "# Negative Indexing\n",
    "name=\"Mohammad Umair Hafeez\"\n",
    "print(name[0])\n",
    "print(name[-1])\n",
    "print(name[-2])\n",
    "print(name[-3])\n",
    "print(name[-4])\n",
    "print(name[-5])\n",
    "print(name[-6])\n",
    "print(name[-7])\n",
    "print(name[-8])\n",
    "print(name[-9])\n",
    "print(name[-10])\n",
    "print(name[-11])\n"
   ]
  },
  {
   "cell_type": "code",
   "execution_count": 7,
   "metadata": {},
   "outputs": [
    {
     "name": "stdout",
     "output_type": "stream",
     "text": [
      "d l e i f D\n"
     ]
    }
   ],
   "source": [
    "ds=\"Data science is a growing field\"\n",
    "print(ds[-1],ds[-2],ds[-3],ds[-4],ds[-5],ds[0])"
   ]
  },
  {
   "cell_type": "markdown",
   "metadata": {},
   "source": [
    "#Sliceing of String"
   ]
  },
  {
   "cell_type": "code",
   "execution_count": 30,
   "metadata": {},
   "outputs": [
    {
     "name": "stdout",
     "output_type": "stream",
     "text": [
      " zeefaH riamU dammahoM\n",
      "Mohammad\n"
     ]
    }
   ],
   "source": [
    "cs=\"Mohammad Umair Hafeez \"\n",
    "print(cs[::-1]) #Through Sliceing Reversing the words or sentences\n",
    "print(cs[0:8]) # Sliceing a word from a sentence"
   ]
  },
  {
   "cell_type": "code",
   "execution_count": 40,
   "metadata": {},
   "outputs": [
    {
     "name": "stdout",
     "output_type": "stream",
     "text": [
      "2025 , 1 , 25\n"
     ]
    }
   ],
   "source": [
    "#Practice \n",
    "def string(date):\n",
    "    print(date[0:4],\",\",date[5],\",\",date[7:9])\n",
    "date=\"2025-1-25\"\n",
    "string(date)"
   ]
  },
  {
   "cell_type": "code",
   "execution_count": 53,
   "metadata": {},
   "outputs": [
    {
     "name": "stdout",
     "output_type": "stream",
     "text": [
      "Year : 2025\n",
      "Month : 23\n",
      "day : 24\n"
     ]
    }
   ],
   "source": [
    "#Practice \n",
    "def string(date_string):\n",
    "    year=date_string[0:4]\n",
    "    month=date_string[5:7]\n",
    "    day=date_string[8:10]\n",
    "    print(\"Year :\",year)\n",
    "    print(\"Month :\",month)\n",
    "    print(\"day :\",day)\n",
    "    \n",
    "string(\"2025-23-24\")"
   ]
  },
  {
   "cell_type": "code",
   "execution_count": 54,
   "metadata": {},
   "outputs": [
    {
     "name": "stdout",
     "output_type": "stream",
     "text": [
      "ycilop tseb eht si ytsenoH\n"
     ]
    }
   ],
   "source": [
    "# Reversing Example \n",
    "sentence=\"Honesty is the best policy\"\n",
    "print(sentence[::-1])"
   ]
  },
  {
   "cell_type": "code",
   "execution_count": 56,
   "metadata": {},
   "outputs": [
    {
     "name": "stdout",
     "output_type": "stream",
     "text": [
      "m u\n"
     ]
    }
   ],
   "source": [
    "# Write a python program where you takes the input(string) from user and and print 5th and 9th charater\n",
    "str=input(\"Enter a string :\") \n",
    "print(str[5],str[9])"
   ]
  },
  {
   "cell_type": "markdown",
   "metadata": {},
   "source": [
    "# Lecture -13\n",
    "#String part -2"
   ]
  },
  {
   "cell_type": "code",
   "execution_count": 57,
   "metadata": {},
   "outputs": [
    {
     "name": "stdout",
     "output_type": "stream",
     "text": [
      "21\n"
     ]
    }
   ],
   "source": [
    "#Length_method\n",
    "name=\"Mohammad Umair Hafeez\"\n",
    "print(len(name))"
   ]
  },
  {
   "cell_type": "code",
   "execution_count": 58,
   "metadata": {},
   "outputs": [
    {
     "name": "stdout",
     "output_type": "stream",
     "text": [
      "Umair\n",
      " hafeez\n"
     ]
    }
   ],
   "source": [
    "# next line\n",
    "print(\"Umair\\n hafeez\")"
   ]
  },
  {
   "cell_type": "markdown",
   "metadata": {},
   "source": [
    "# Python modify_string\n",
    "Upper-method() AND lower_method()"
   ]
  },
  {
   "cell_type": "code",
   "execution_count": 61,
   "metadata": {},
   "outputs": [
    {
     "name": "stdout",
     "output_type": "stream",
     "text": [
      "MOHAMMAD UMIAR HAFEEZ\n"
     ]
    }
   ],
   "source": [
    "name=\"Mohammad Umiar Hafeez\"\n",
    "print(name.upper())"
   ]
  },
  {
   "cell_type": "code",
   "execution_count": 62,
   "metadata": {},
   "outputs": [
    {
     "name": "stdout",
     "output_type": "stream",
     "text": [
      "mohammad umair hafeez\n"
     ]
    }
   ],
   "source": [
    "name=\"MOHAMMAD UMAIR HAFEEZ\"\n",
    "print(name.lower())"
   ]
  },
  {
   "cell_type": "markdown",
   "metadata": {},
   "source": [
    "# Replace_Method"
   ]
  },
  {
   "cell_type": "code",
   "execution_count": 68,
   "metadata": {},
   "outputs": [
    {
     "name": "stdout",
     "output_type": "stream",
     "text": [
      "I am learning Python\n"
     ]
    }
   ],
   "source": [
    "text=\"I am learning Data Science\"\n",
    "rep=text.replace(\"Data Science\",\"Python\")\n",
    "print(rep)"
   ]
  },
  {
   "cell_type": "code",
   "execution_count": 70,
   "metadata": {},
   "outputs": [
    {
     "name": "stdout",
     "output_type": "stream",
     "text": [
      "Python is a fascinating field that combines statistics,\n",
      "programming, and domain knowledge to extract insights from data. Python helps\n",
      "businesses make informed decisions and solve complex problems. Python uses\n",
      " tools like Python, R, and SQL to manipulate and analyze datasets.\n",
      "Python is essential for fields like healthcare, finance,\n",
      "and marketing, where data drives innovation. Python enables\n",
      "the creation of predictive models that forecast future trends.\n",
      " Python is powered by machine learning algorithms and \n",
      "artificial intelligence. Python thrives on clean,\n",
      "structured, and unstructured data alike. Python\n",
      "is both an art and a science, blending creativity with logic.\n",
      " Python professionals are in high demand as data becomes\n",
      "increasingly valuable. Python truly shapes the modern\n",
      "world by turning raw information into actionable knowledge.\n"
     ]
    }
   ],
   "source": [
    "text_data_science='''Data science is a fascinating field that combines statistics,\n",
    "programming, and domain knowledge to extract insights from data. Data science helps\n",
    "businesses make informed decisions and solve complex problems. Data science uses\n",
    " tools like Python, R, and SQL to manipulate and analyze datasets.\n",
    "Data science is essential for fields like healthcare, finance,\n",
    "and marketing, where data drives innovation. Data science enables\n",
    "the creation of predictive models that forecast future trends.\n",
    " Data science is powered by machine learning algorithms and \n",
    "artificial intelligence. Data science thrives on clean,\n",
    "structured, and unstructured data alike. Data science\n",
    "is both an art and a science, blending creativity with logic.\n",
    " Data science professionals are in high demand as data becomes\n",
    "increasingly valuable. Data science truly shapes the modern\n",
    "world by turning raw information into actionable knowledge.'''\n",
    "rep=text_data_science.replace(\"Data science\",\"Python\")\n",
    "print(rep)\n"
   ]
  },
  {
   "cell_type": "markdown",
   "metadata": {},
   "source": [
    "# Index_Method"
   ]
  },
  {
   "cell_type": "code",
   "execution_count": 86,
   "metadata": {},
   "outputs": [
    {
     "name": "stdout",
     "output_type": "stream",
     "text": [
      "19\n",
      "Science\n"
     ]
    }
   ],
   "source": [
    "a=\"I am learning data Science\"\n",
    "print(a.index(\"Science\"))\n",
    "print(a[19:])"
   ]
  },
  {
   "cell_type": "markdown",
   "metadata": {},
   "source": [
    "# Find  Method "
   ]
  },
  {
   "cell_type": "code",
   "execution_count": 92,
   "metadata": {},
   "outputs": [
    {
     "name": "stdout",
     "output_type": "stream",
     "text": [
      "5\n",
      "0\n"
     ]
    }
   ],
   "source": [
    "a=\"My name is Mohammad Umair Hafeez\"\n",
    "print(a.find(\"m\"))\n",
    "print(a.find(\"M\"))"
   ]
  },
  {
   "cell_type": "markdown",
   "metadata": {},
   "source": [
    "# Practice Of last String "
   ]
  },
  {
   "cell_type": "code",
   "execution_count": 6,
   "metadata": {},
   "outputs": [
    {
     "name": "stdout",
     "output_type": "stream",
     "text": [
      "HelloWorld\n",
      "World\n",
      "dlroW\n",
      "DLROW\n",
      "DXROW\n"
     ]
    }
   ],
   "source": [
    "\n",
    "n=\"Hello\"\n",
    "w=\"World\"\n",
    "contenate=n+w\n",
    "Extract=(n+w)[5:]\n",
    "Reverse=(n+w)[-1:-6:-1]\n",
    "upeer=Reverse.upper()\n",
    "replace=(Reverse.upper()).replace(\"L\", \"X\")\n",
    "print(n+w) # Contenating two string \n",
    "print((n+w)[5:]) # Extracting World from canrenating  string \n",
    "print((n+w)[-1:-6:-1]) # Reversing Substring\n",
    "print((n+w)[-1:-6:-1].upper()) \n",
    "print(((n+w)[-1:-6:-1].upper()).replace(\"L\", \"X\")) \n"
   ]
  },
  {
   "cell_type": "markdown",
   "metadata": {},
   "source": [
    "# Alhumdulillah Video One Completed ...But the struggle Is On"
   ]
  },
  {
   "cell_type": "markdown",
   "metadata": {},
   "source": []
  },
  {
   "cell_type": "code",
   "execution_count": 69,
   "metadata": {},
   "outputs": [
    {
     "name": "stdout",
     "output_type": "stream",
     "text": [
      "4\n",
      "<class 'int'>\n"
     ]
    }
   ],
   "source": []
  },
  {
   "cell_type": "code",
   "execution_count": null,
   "metadata": {},
   "outputs": [],
   "source": []
  }
 ],
 "metadata": {
  "kernelspec": {
   "display_name": "Python 3 (ipykernel)",
   "language": "python",
   "name": "python3"
  },
  "language_info": {
   "codemirror_mode": {
    "name": "ipython",
    "version": 3
   },
   "file_extension": ".py",
   "mimetype": "text/x-python",
   "name": "python",
   "nbconvert_exporter": "python",
   "pygments_lexer": "ipython3",
   "version": "3.12.4"
  }
 },
 "nbformat": 4,
 "nbformat_minor": 4
}
