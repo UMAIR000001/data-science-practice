{
 "cells": [
  {
   "cell_type": "code",
   "execution_count": null,
   "metadata": {},
   "outputs": [],
   "source": [
    "\n",
    "#********Problem Number:01 *********\n",
    "#Create a `Person` class with attributes `name` and `age`. Instantiate an object and print its details.\n",
    "class person:\n",
    "    def __init__(self ,name,age ):\n",
    "        self.name=name\n",
    "        self.age=age\n",
    "person1=person(\"Umair\",20)\n",
    "person2=person(\"sam\",15)\n",
    "person3=person(\"robert\",2)\n",
    "print(f\" My Name is {person1.name} and my age is {person1.age}\")\n",
    "print(f\" My Name is {person2.name} and my age is {person2.age}\")\n",
    "print(f\" My Name is {person3.name} and my age is {person3.age}\")"
   ]
  },
  {
   "cell_type": "code",
   "execution_count": null,
   "metadata": {},
   "outputs": [],
   "source": [
    "#********Problem Number:02 *********\n",
    "#Create a `Book` class with attributes `title`, `author`, and `price`. Print the details.\n",
    "class book :\n",
    "    def __init__(self ,title,author,price):\n",
    "        self.title=title\n",
    "        self.author=author\n",
    "        self.price=price\n",
    "book1=book(\"Quran\",\"Allah\",\"priceless\")\n",
    "book2=book(\"Ego is your biggest enemy\",\"Ryan Holiday\",\"12$\")\n",
    "book3=book(\"Think and grow rich\",\" Napoleon Hill\",\"9$\")\n",
    "\n",
    "print(f\" My first favourit book  is '{book1.title}' written by {book1.author} and its price is {book1.price}.\")\n",
    "\n",
    "print(f\" My second favourit book is '{book2.title}' written by {book2.author} and its price is {book2.price}.\")\n",
    "\n",
    "print(f\" My third favourit book is '{book3.title}' written by {book3.author} and its price is {book3.price}.\")\n"
   ]
  },
  {
   "cell_type": "code",
   "execution_count": null,
   "metadata": {},
   "outputs": [],
   "source": [
    "#********Problem Number:3*********\n",
    "#Create a `Laptop` class with attributes `brand`, `processor`, and `RAM`. Instantiate and print the details.\n",
    "class laptop:\n",
    "    def __init__(self ,brand,processor,RAM ):\n",
    "        self.brand=brand\n",
    "        self.processor=processor\n",
    "        self.RAM=RAM\n",
    "Father_laptop=laptop(\"HP\",\"CORE i7 \",\"16\")\n",
    "Brother_laptop=laptop(\"DELL\",\"CORE i5\",\"16\")\n",
    "Sister_laptop=laptop(\"Prime_minister\",\"CORE I5\",\"16\")\n",
    "print(f\" My Father Laptop is '{Father_laptop.brand}' Company Having Proessor {Father_laptop.processor} and its RAM is {Father_laptop.RAM} GB .\")\n",
    "print(f\" My Brother Laptop is '{Brother_laptop.brand}' Company Having Proessor {Brother_laptop.processor} and its RAM is {Brother_laptop.RAM} GB .\")\n",
    "\n",
    "print(f\" My Father Laptop is '{Sister_laptop.brand}' Company Having Proessor {Sister_laptop.processor} and its RAM is {Sister_laptop.RAM} GB .\")"
   ]
  },
  {
   "cell_type": "code",
   "execution_count": null,
   "metadata": {},
   "outputs": [],
   "source": [
    "\n",
    "    #********Problem Number:4 *********\n",
    "#Create a `Smartphone` class with attributes `brand`, `model`, and `battery_life`. Instantiate and print details.\n",
    "class smart_phone:\n",
    "    def __init__(self ,brand,model,battery_life ):\n",
    "        self.brand=brand\n",
    "        self.model=model\n",
    "        self.battery_life=battery_life\n",
    "Father_phone=smart_phone(\"huwaei\",\" y9 \",\"16_houres\")\n",
    "Brother_phone=smart_phone(\"tecno_sparx\",\"9_ultra\",\"16_hours\")\n",
    "Sister_phone=smart_phone(\"samsung\",\"j7\",\"8_hours\")\n",
    "print(f\" My Father phone is '{Father_phone.brand}' Company Having model {Father_phone.model} and its Battery life is  {Father_phone.battery_life} .\")\n",
    "print(f\" My Brother phone is '{Brother_phone.brand}' Company Having Proessor {Brother_phone.model} and  its Battery life is {Brother_phone.battery_life} .\")\n",
    "\n",
    "print(f\" My Father phone is '{Sister_phone.brand}' Company Having Proessor {Sister_phone.model} and  its Battery life  is {Sister_phone.battery_life}.\")\n"
   ]
  },
  {
   "cell_type": "code",
   "execution_count": null,
   "metadata": {},
   "outputs": [],
   "source": [
    " #Add a method `start_engine()` to `Car` that prints 'Engine started!'.   \n",
    "class Car:\n",
    "    def __init__(self, brand, model, year):\n",
    "        self.brand = brand\n",
    "        self.model = model\n",
    "        self.year = year\n",
    "    def start_engine(self):\n",
    "        print(f\"{self.brand} {self.model}: Engine started!\")\n",
    "# Creating object\n",
    "car1 = Car(\"Honda\", \"Civic\", 2021)\n",
    "car1.start_engine()\n",
    "\n",
    "\n",
    "    "
   ]
  },
  {
   "cell_type": "code",
   "execution_count": 1,
   "metadata": {},
   "outputs": [
    {
     "name": "stdout",
     "output_type": "stream",
     "text": [
      " Name: Umair, Age:20 and my Grade is 3.5\n"
     ]
    }
   ],
   "source": [
    "  #********Problem Number:5 *********\n",
    "'''Create a `Student` class that inherits from `Person` and adds an attribute `grades` with a method\n",
    "`average_grade().'''\n",
    "class person:\n",
    "    def __init__(self ,name,age):\n",
    "        self.__name=name\n",
    "        self.__age=age\n",
    "    def get_name(self):\n",
    "        return self.__name\n",
    "    def get_age(self):\n",
    "        return self.__age\n",
    "    def set_age(self,age):\n",
    "        if age>0:\n",
    "            self.__age=age\n",
    "        else:\n",
    "            print(\"Invalid age\")\n",
    "class student(person):\n",
    "    def __init__(self,name,age,grade):\n",
    "        super().__init__(name,age)\n",
    "        self.grade=grade\n",
    "    def grade_call(self):\n",
    "        return sum(self.grade)/len(self.grade)\n",
    "       \n",
    "    def get_detail(self):\n",
    "        print(f\" Name: {self.get_name()}, Age:{self.get_age()} and my Grade is {self.grade_call()}\")\n",
    "    \n",
    "st1=student(\"Umair\",20,[1,2,3,4,5,6])\n",
    "st1.get_detail()\n",
    "        \n",
    "        "
   ]
  },
  {
   "cell_type": "code",
   "execution_count": 6,
   "metadata": {},
   "outputs": [
    {
     "name": "stdout",
     "output_type": "stream",
     "text": [
      "meow meow\n"
     ]
    }
   ],
   "source": [
    "  #********Problem Number:6 *********\n",
    "#Create an Animal class with a method speak (). Derive Dog and Cat classes that override speak (). \n",
    "#********Problem Number:6 *********\n",
    "#Create an Animal class with a method speak (). Derive Dog and Cat classes that\n",
    "#override speak ().\n",
    "class animal:\n",
    "    def speak(self):\n",
    "      return \"any animal sound\"\n",
    "\n",
    "class dog(animal):\n",
    "    def speak(self):\n",
    "      return \" wowa wowa\"\n",
    "\n",
    "class cat(animal):\n",
    "    def speak(self):\n",
    "      return \"meow meow\"\n",
    "\n",
    "obj1=cat()\n",
    "\n",
    "print(obj1.speak())\n",
    "\n",
    "\n",
    "\n",
    "\n",
    " "
   ]
  },
  {
   "cell_type": "code",
   "execution_count": 9,
   "metadata": {},
   "outputs": [
    {
     "name": "stdout",
     "output_type": "stream",
     "text": [
      "Brand:balochi,Model:1711,Year:2025 \n"
     ]
    }
   ],
   "source": [
    "  #********Problem Number:7 *********\n",
    "#  Create a Vehicle class and derive Car and Bike classes with specific attributes. \n",
    "class vechile:\n",
    "    def __init__(self,brand,model,year):\n",
    "        self.brand=brand\n",
    "        self.model=model\n",
    "        self.year=year\n",
    "    def get_detail(self):\n",
    "        return print(f\"Brand:{self.brand},Model:{self.model},Year:{self.year} \")\n",
    "class car(vechile):\n",
    "    pass\n",
    "class cat(vechile):\n",
    "    pass\n",
    "obj1=car(\"balochi\",\"1711\",2025)\n",
    "obj1.get_detail()"
   ]
  },
  {
   "cell_type": "code",
   "execution_count": 3,
   "metadata": {},
   "outputs": [
    {
     "name": "stdout",
     "output_type": "stream",
     "text": [
      "Title: Python Basics\n",
      "Author: John Doe\n",
      "Pages: 300\n",
      "\n",
      "Title: Data Science Guide\n",
      "Author: Jane Smith\n",
      "Duration: 120 minutes\n"
     ]
    }
   ],
   "source": [
    "  #********Problem Number:8 *********\n",
    "  #Implement a LibraryItem class and derive Book and DVD classes.0\n",
    "class LibraryItem:\n",
    "    def __init__(self, title, author):\n",
    "        self.title = title\n",
    "        self.author = author\n",
    "    \n",
    "    def display_info(self):\n",
    "        print(f\"Title: {self.title}\")\n",
    "        print(f\"Author: {self.author}\")\n",
    "\n",
    "class Book(LibraryItem):\n",
    "    def __init__(self, title, author, pages):\n",
    "        super().__init__(title, author)\n",
    "        self.pages = pages\n",
    "    \n",
    "    def display_info(self):\n",
    "        super().display_info()\n",
    "        print(f\"Pages: {self.pages}\")\n",
    "\n",
    "class DVD(LibraryItem):\n",
    "    def __init__(self, title, author, duration):\n",
    "        super().__init__(title, author)\n",
    "        self.duration = duration\n",
    "    \n",
    "    def display_info(self):\n",
    "        super().display_info()\n",
    "        print(f\"Duration: {self.duration} minutes\")\n",
    "\n",
    "# Example usage\n",
    "book = Book(\"Python Basics\", \"John Doe\", 300)\n",
    "dvd = DVD(\"Data Science Guide\", \"Jane Smith\", 120)\n",
    "\n",
    "book.display_info()\n",
    "print()\n",
    "dvd.display_info()\n"
   ]
  }
 ],
 "metadata": {
  "kernelspec": {
   "display_name": "base",
   "language": "python",
   "name": "python3"
  },
  "language_info": {
   "codemirror_mode": {
    "name": "ipython",
    "version": 3
   },
   "file_extension": ".py",
   "mimetype": "text/x-python",
   "name": "python",
   "nbconvert_exporter": "python",
   "pygments_lexer": "ipython3",
   "version": "3.12.4"
  }
 },
 "nbformat": 4,
 "nbformat_minor": 2
}
