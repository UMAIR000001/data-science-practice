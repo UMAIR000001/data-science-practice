{
 "cells": [
  {
   "cell_type": "code",
   "execution_count": null,
   "id": "d1bc74ea",
   "metadata": {},
   "outputs": [],
   "source": [
    "not clear topic also its test is remaining too!"
   ]
  }
 ],
 "metadata": {
  "language_info": {
   "name": "python"
  }
 },
 "nbformat": 4,
 "nbformat_minor": 5
}
