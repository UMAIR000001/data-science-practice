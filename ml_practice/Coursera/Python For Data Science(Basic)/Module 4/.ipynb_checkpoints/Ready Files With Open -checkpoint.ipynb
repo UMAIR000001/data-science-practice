{
 "cells": [
  {
   "cell_type": "markdown",
   "id": "b868c6a9-f55b-44e6-8b17-0fe779e8c34a",
   "metadata": {},
   "source": [
    "# 📄 Reading Files in Python (Revision Notes)\n",
    "\n",
    "## 1️⃣ Using `open()` function\n",
    "\n",
    "- `open(filename, mode)` opens a file.\n",
    "- Common modes:\n",
    "  - `'r'` → read (default)\n",
    "  - `'w'` → write\n",
    "  - `'a'` → append\n",
    "  - `'rb'` / `'wb'` → read/write binary\n",
    "- After reading, always close the file using `close()`.\n",
    "\n",
    "**Example workflow**:\n",
    "1. Open the file\n",
    "2. Read its content\n",
    "3. Close the file\n",
    "\n",
    "---\n",
    "\n",
    "## 2️⃣ Using `with open()` (Recommended)\n",
    "\n",
    "- Automatically closes the file after the block.\n",
    "- Less error-prone.\n",
    "- Syntax:\n",
    "```python\n",
    "with open(\"filename\", \"r\") as file:\n",
    "    content = file.read()\n"
   ]
  },
  {
   "cell_type": "code",
   "execution_count": 29,
   "id": "f55923c2-5fd2-47f9-9cec-66ad05c0f297",
   "metadata": {},
   "outputs": [],
   "source": [
    "## **Code Cell 1: Write something to `demo.txt`**\n",
    "\n",
    "# Writing some content to demo.txt\n",
    "with open(\"demo.txt\", \"w\") as file:\n",
    "    file.write(\"Hello Umair!\\n\")\n",
    "    file.write(\"This is a demo file for file handling revision.\\n\")\n",
    "    file.write(\"We will read this file in the next examples.\\n\")\n"
   ]
  },
  {
   "cell_type": "markdown",
   "id": "ecc474df-86ee-46fd-b9c2-fd57405db08a",
   "metadata": {},
   "source": [
    "## Read file using simple open()"
   ]
  },
  {
   "cell_type": "code",
   "execution_count": 30,
   "id": "eded6859-5c12-4dff-99c7-c49f1d4cc0dd",
   "metadata": {},
   "outputs": [
    {
     "name": "stdout",
     "output_type": "stream",
     "text": [
      "Hello Umair!\n",
      "This is a demo file for file handling revision.\n",
      "We will read this file in the next examples.\n",
      "\n"
     ]
    }
   ],
   "source": [
    "# Reading using simple open() function\n",
    "file = open(\"demo.txt\", \"r\")  # Open the file in read mode\n",
    "content = file.read()          # Read all content\n",
    "print(content)\n",
    "file.close()                   # Close the file\n"
   ]
  },
  {
   "cell_type": "markdown",
   "id": "2d7fa628-0fed-400e-b394-751a9f22c3aa",
   "metadata": {},
   "source": [
    "## Read file using with open()"
   ]
  },
  {
   "cell_type": "code",
   "execution_count": 31,
   "id": "b3d914c8-eb6f-4288-ab44-fe7654607a46",
   "metadata": {},
   "outputs": [
    {
     "name": "stdout",
     "output_type": "stream",
     "text": [
      "Hello Umair!\n",
      "This is a demo file for file handling revision.\n",
      "We will read this file in the next examples.\n",
      "\n"
     ]
    }
   ],
   "source": [
    "# Reading using with open() (recommended)\n",
    "with open(\"demo.txt\", \"r\") as file:\n",
    "    content = file.read()\n",
    "    print(content)\n"
   ]
  },
  {
   "cell_type": "markdown",
   "id": "51ca5bd3-b68d-4207-96e9-a4ea87e528e1",
   "metadata": {},
   "source": [
    "## Summary\n",
    "\n",
    "- Use with open() whenever possible — it’s cleaner and safer.\n",
    "\n",
    "- open() + close() works but you must remember to close the file.\n",
    "\n",
    "- You can read the whole file (read()) or line by line (readline() / readlines())."
   ]
  },
  {
   "cell_type": "markdown",
   "id": "2f95dc74-e5cd-4d2e-97eb-2209c1692836",
   "metadata": {},
   "source": [
    "# ============================================================================================================"
   ]
  },
  {
   "cell_type": "markdown",
   "id": "a1c630bb-f04f-4413-8e2d-f1dbbd8127c4",
   "metadata": {},
   "source": [
    "# ✍️ Writing Files in Python (Revision Notes)\r\n",
    "\r\n",
    "## 1️⃣ Writing to a File (`w` mode)\r\n",
    "\r\n",
    "- `open(filename, 'w')` → opens a file in **write mode**.\r\n",
    "- If the file exists → **content will be erased**.\r\n",
    "- If the file does not exist → it will **create a new file**.\r\n",
    "- You can write **single or multiple lines** using `write()` or a loop.\r\n",
    "\r\n",
    "**Example workflow**:\r\n",
    "1. Open the file in write mode\r\n",
    "2. Write data\r\n",
    "3. Close the file\r\n",
    "\r\n",
    "---\r\n",
    "\r\n",
    "## 2️⃣ Appending to a File (`a` mode)\r\n",
    "\r\n",
    "- `open(filename, 'a')` → opens a file in **append mode**.\r\n",
    "- Existing content **is preserved**, new data is **added at the end**.\r\n",
    "- Often used to log information without erasing previous data.\r\n",
    "\r\n",
    "---\r\n",
    "\r\n",
    "## 3️⃣ Writing multiple lines from a list\r\n",
    "\r\n",
    "- You can store lines in a list and write them using a loop:\r\n",
    "```python\r\n",
    "lines = [\"Line 1\\n\", \"Line 2\\n\", \"Line 3\\n\"]\r\n",
    "for line in lines:\r\n",
    "    file.write(line)\r\n"
   ]
  },
  {
   "cell_type": "markdown",
   "id": "aa536e2a-880b-4878-9e44-e7f416b9052f",
   "metadata": {},
   "source": [
    "## 4️⃣ Using with open() for writing (Recommended)\n",
    "\n",
    "- Automatically closes the file.\n",
    "\n",
    "- Syntax:"
   ]
  },
  {
   "cell_type": "code",
   "execution_count": 71,
   "id": "0632f321-20c6-4843-81da-4f1d1154999f",
   "metadata": {},
   "outputs": [],
   "source": [
    "with open(\"filename\", \"w\") as file:\n",
    "    file.write(\"Some text here\\n\")\n"
   ]
  },
  {
   "cell_type": "markdown",
   "id": "ec2cf13b-baa9-4db4-86b0-08e7105f937b",
   "metadata": {},
   "source": [
    "- For appending:"
   ]
  },
  {
   "cell_type": "code",
   "execution_count": null,
   "id": "050cf5eb-ac14-4f36-91f9-2861e4e57d1c",
   "metadata": {},
   "outputs": [],
   "source": [
    "with open(\"filename\", \"a\") as file:\n",
    "    file.write(\"This will be added at the end\\n\")\n"
   ]
  },
  {
   "cell_type": "code",
   "execution_count": 73,
   "id": "23fbf6a3-37c1-4e8d-8704-9aa764afac03",
   "metadata": {},
   "outputs": [],
   "source": [
    "## **Code Cell 1: Write some text to `demo.txt`**\n",
    "\n",
    "# Writing multiple lines to demo.txt (overwrite mode)\n",
    "lines = [\n",
    "    \"Python file handling is fun!\\n\",\n",
    "    \"We can write, read, and append to files.\\n\",\n",
    "    \"This is our demo file for revision.\\n\"\n",
    "]\n",
    "\n",
    "with open(\"demo.txt\", \"w\") as file:\n",
    "    for line in lines:\n",
    "        file.write(line)\n"
   ]
  },
  {
   "cell_type": "markdown",
   "id": "e8849a24-deb6-4144-b16d-eab3c73f35ad",
   "metadata": {},
   "source": [
    "##  Append new information to the same file"
   ]
  },
  {
   "cell_type": "code",
   "execution_count": 74,
   "id": "8b035e85-210e-46d0-90ad-bca11dedd24c",
   "metadata": {},
   "outputs": [],
   "source": [
    "# Appending new information without erasing previous content\n",
    "new_lines = [\n",
    "    \"We just added these lines using append mode.\\n\",\n",
    "    \"Appending keeps old content intact!\\n\"\n",
    "]\n",
    "\n",
    "with open(\"demo.txt\", \"a\") as file:\n",
    "    for line in new_lines:\n",
    "        file.write(line)\n"
   ]
  },
  {
   "cell_type": "markdown",
   "id": "b28016d7-3331-4dce-b2d1-9c88e2bb8bda",
   "metadata": {},
   "source": [
    "## Read the file to check content"
   ]
  },
  {
   "cell_type": "code",
   "execution_count": 75,
   "id": "7c2f34a0-3eaf-4de6-9b85-3f95c82f1db9",
   "metadata": {},
   "outputs": [
    {
     "name": "stdout",
     "output_type": "stream",
     "text": [
      "Python file handling is fun!\n",
      "We can write, read, and append to files.\n",
      "This is our demo file for revision.\n",
      "We just added these lines using append mode.\n",
      "Appending keeps old content intact!\n",
      "\n"
     ]
    }
   ],
   "source": [
    "# Reading to confirm write and append worked\n",
    "with open(\"demo.txt\", \"r\") as file:\n",
    "    content = file.read()\n",
    "    print(content)\n"
   ]
  },
  {
   "cell_type": "markdown",
   "id": "080c61e2-e3d1-4871-bedc-6e353d773497",
   "metadata": {},
   "source": [
    "## Summary\n",
    "\n",
    "- 'w' → overwrite / create new file\n",
    "\n",
    "- 'a' → append / preserve old content\n",
    "\n",
    "- 'with open()' → always recommended to avoid forgetting close()\n",
    "\n",
    "- Writing multiple lines → use lists + loops"
   ]
  },
  {
   "cell_type": "code",
   "execution_count": null,
   "id": "cbdd497f-5228-46b0-a851-5d67137fc8a5",
   "metadata": {},
   "outputs": [],
   "source": []
  }
 ],
 "metadata": {
  "kernelspec": {
   "display_name": "Python 3 (ipykernel)",
   "language": "python",
   "name": "python3"
  },
  "language_info": {
   "codemirror_mode": {
    "name": "ipython",
    "version": 3
   },
   "file_extension": ".py",
   "mimetype": "text/x-python",
   "name": "python",
   "nbconvert_exporter": "python",
   "pygments_lexer": "ipython3",
   "version": "3.12.4"
  }
 },
 "nbformat": 4,
 "nbformat_minor": 5
}
