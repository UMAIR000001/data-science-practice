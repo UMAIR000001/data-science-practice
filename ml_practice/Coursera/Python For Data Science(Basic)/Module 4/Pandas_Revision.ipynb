{
 "cells": [
  {
   "cell_type": "markdown",
   "id": "57203ab8-8329-4f24-90c7-f562544b2430",
   "metadata": {},
   "source": [
    "# 📒 Pandas Series & DataFrame Revision Notes\r\n",
    "\r\n",
    "## 1. Pandas Series\r\n",
    "- **Definition:** A one-dimensional labeled array holding any type of data.\r\n",
    "- **Think of it as:** A single column in a spreadsheet.\r\n",
    "- **Creation Sources:**\r\n",
    "  - From a list\r\n",
    "  - From a NumPy array\r\n",
    "  - From a dictionary\r\n",
    "- **Access Methods:**\r\n",
    "  - By index label: `s[\"label\"]`\r\n",
    "  - By integer position: `s[0]`\r\n",
    "  - By slice: `s[1:3]`\r\n",
    "- **Operations:** Vectorized (e.g., `s + 5`, `s * 2`)\r\n",
    "\r\n",
    "---\r\n",
    "\r\n",
    "## 2. Pandas DataFrame\r\n",
    "- **Definition:** A two-dimensional labeled data structure with columns of possibly different types.\r\n",
    "- **Think of it as:** A spreadsheet or SQL table.\r\n",
    "- **Creation Sources:**\r\n",
    "  - List of dictionaries\r\n",
    "  - External files (CSV, Excel, SQL)\r\n",
    "- **Access Methods:**\r\n",
    "  - Column: `df[\"col_name\"]`\r\n",
    "  - Row by label: `df.loc[label]`\r\n",
    "  - Row by position: `df.iloc[index]`\r\n",
    "- **Modify DataFrame:**\r\n",
    "  - Add column: `df[\"new_col\"] = values`\r\n",
    "  - Drop column: `df.drop(\"col_name\", axis=1, inplace=True)`\r\n",
    "\r\n",
    "---\r\n",
    "\r\n",
    "## 3. Common Attributes & Methods\r\n",
    "- `df.shape` → (rows, columns)\r\n",
    "- `df.head(n)` → First n rows\r\n",
    "- `df.tail(n)` → Last n rows\r\n",
    "- `df.info()` → DataFrame summary\r\n",
    "- `df.describe()` → Statistical summary of numeric data\r\n",
    "- `df.columns` → List of column names\r\n",
    "- `df.index` → List of row labels\r\n",
    "\r\n",
    "---\r\n",
    "\r\n",
    "## ✅ Summary Table\r\n",
    "\r\n",
    "| Feature        | Series                  | DataFrame                     |\r\n",
    "|----------------|-------------------------|--------------------------------|\r\n",
    "| Dimensionality | 1D                      | 2D                             |\r\n",
    "| Structure      | Values + Index          | Rows + Columns                 |\r\n",
    "| Sources        | List, Dict, NumPy Array | Dict of Lists, List of Dicts   |\r\n",
    "| Access         | Index/Label             | `.loc[]`, `.iloc[]`, col name  |\r\n"
   ]
  },
  {
   "cell_type": "code",
   "execution_count": 4,
   "id": "375314f8-e7c6-4de6-b75d-73eddeda3257",
   "metadata": {},
   "outputs": [
    {
     "name": "stdout",
     "output_type": "stream",
     "text": [
      "Series from List:\n",
      " 0    10\n",
      "1    20\n",
      "2    30\n",
      "3    40\n",
      "dtype: int64 \n",
      "\n",
      "Series from Dictionary:\n",
      " a    100\n",
      "b    200\n",
      "c    300\n",
      "dtype: int64 \n",
      "\n"
     ]
    }
   ],
   "source": [
    "import pandas as pd\n",
    "\n",
    "# --- Series Examples ---\n",
    "# From list\n",
    "s1 = pd.Series([10, 20, 30, 40])\n",
    "print(\"Series from List:\\n\", s1, \"\\n\")\n",
    "\n",
    "# From dictionary\n",
    "s2 = pd.Series({\"a\": 100, \"b\": 200, \"c\": 300})\n",
    "print(\"Series from Dictionary:\\n\", s2, \"\\n\")\n"
   ]
  },
  {
   "cell_type": "code",
   "execution_count": 10,
   "id": "4090a35b-ee35-461b-a29f-a4de85b492e5",
   "metadata": {},
   "outputs": [
    {
     "name": "stdout",
     "output_type": "stream",
     "text": [
      "DataFrame:\n",
      "      Name  Age     City\n",
      "0   Umair   20   Quetta\n",
      "1  Baloch   21  Karachi\n",
      "2    Khan   22   Lahore \n",
      "\n",
      "Access 'Name' column:\n",
      " 0     Umair\n",
      "1    Baloch\n",
      "2      Khan\n",
      "Name: Name, dtype: object \n",
      "\n",
      "DataFrame after adding 'Score':\n",
      "      Name  Age     City  Score\n",
      "0   Umair   20   Quetta     85\n",
      "1  Baloch   21  Karachi     90\n",
      "2    Khan   22   Lahore     95 \n",
      "\n",
      "DataFrame after dropping 'Age':\n",
      "      Name     City  Score\n",
      "0   Umair   Quetta     85\n",
      "1  Baloch  Karachi     90\n",
      "2    Khan   Lahore     95\n"
     ]
    }
   ],
   "source": [
    "# --- DataFrame Examples ---\n",
    "data = {\n",
    "    \"Name\": [\"Umair\", \"Baloch\", \"Khan\"],\n",
    "    \"Age\": [20, 21, 22],\n",
    "    \"City\": [\"Quetta\", \"Karachi\", \"Lahore\"]\n",
    "}\n",
    "\n",
    "df = pd.DataFrame(data)\n",
    "print(\"DataFrame:\\n\", df, \"\\n\")\n",
    "\n",
    "# Access column\n",
    "print(\"Access 'Name' column:\\n\", df[\"Name\"], \"\\n\")\n",
    "\n",
    "# Add new column\n",
    "df[\"Score\"] = [85, 90, 95]\n",
    "print(\"DataFrame after adding 'Score':\\n\", df, \"\\n\")\n",
    "\n",
    "# Drop column\n",
    "df.drop(\"Age\", axis=1, inplace=True)\n",
    "print(\"DataFrame after dropping 'Age':\\n\", df)\n"
   ]
  },
  {
   "cell_type": "code",
   "execution_count": 21,
   "id": "1a5a2a8a-828b-4301-a429-dc51c41e56bc",
   "metadata": {},
   "outputs": [
    {
     "name": "stdout",
     "output_type": "stream",
     "text": [
      "Karachi\n",
      "Karachi\n"
     ]
    }
   ],
   "source": [
    "data = {\n",
    "    \"Name\": [\"Umair\", \"Ali\", \"Sam\"],\n",
    "    \"Age\": [20, 25, 22],\n",
    "    \"City\": [\"Quetta\", \"Karachi\", \"Lahore\"]\n",
    "}\n",
    "df = pd.DataFrame(data)\n",
    "\n",
    "# loc (label-based)\n",
    "print(df.loc[1, \"City\"])  \n",
    "\n",
    "# iloc (position-based)\n",
    "print(df.iloc[1, 2])  \n"
   ]
  },
  {
   "cell_type": "code",
   "execution_count": null,
   "id": "f83f5839-d142-4aaa-baa0-4bc96faf39f3",
   "metadata": {},
   "outputs": [],
   "source": []
  },
  {
   "cell_type": "code",
   "execution_count": null,
   "id": "68e5f2ad-65e4-4619-b25c-cf9c049fe4dd",
   "metadata": {},
   "outputs": [],
   "source": []
  }
 ],
 "metadata": {
  "kernelspec": {
   "display_name": "Python 3 (ipykernel)",
   "language": "python",
   "name": "python3"
  },
  "language_info": {
   "codemirror_mode": {
    "name": "ipython",
    "version": 3
   },
   "file_extension": ".py",
   "mimetype": "text/x-python",
   "name": "python",
   "nbconvert_exporter": "python",
   "pygments_lexer": "ipython3",
   "version": "3.12.4"
  }
 },
 "nbformat": 4,
 "nbformat_minor": 5
}
