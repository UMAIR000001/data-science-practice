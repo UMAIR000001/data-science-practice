{
 "cells": [
  {
   "cell_type": "markdown",
   "id": "cea13383-9b2b-4a3c-96fe-ec93de3e9b11",
   "metadata": {},
   "source": [
    "# List in Python – Quick Revision"
   ]
  },
  {
   "cell_type": "markdown",
   "id": "2dc78a0e-f585-4cd4-9623-316fdb891ab9",
   "metadata": {},
   "source": [
    "- **append(x)** → Add an element at the end of the list.\n",
    "\n",
    "- **extend(iterable)** → Add all elements of an iterable (list, tuple, set, etc.) to the end of the list.\n",
    "\n",
    "- **insert(i, x)** → Insert an element at a specific index.\n",
    "\n",
    "- **remove(x)** → Remove the first occurrence of an element.\n",
    "\n",
    "- **pop([i])** → Remove and return element at index **i** (default last).\n",
    "\n",
    "- **clear()** → Remove all elements.\n",
    "\n",
    "- **index(x)** → Return the index of the first occurrence of **x**.\n",
    "\n",
    "- **count(x)** → Return how many times **x** appears in the list.\n",
    "\n",
    "- **sort()** → Sort the list in place (ascending by default).\n",
    "\n",
    "- **reverse()** → Reverse the list in place.\n",
    "\n",
    "- **Mutable** → Lists can change their elements (my_list[i] = new_value).\n",
    "\n",
    "- **Clone a list** → Best way: **B = A[:]** (creates a shallow copy).\n",
    "\n",
    "- **split(delimiter)** → Splits a string into a list (string method, not list method).\n",
    "\n",
    "- **del list[i]** → Delete element at index **i**."
   ]
  },
  {
   "cell_type": "code",
   "execution_count": 1,
   "id": "85600ce4-1c9f-40a0-a4c7-605ba08a97c8",
   "metadata": {},
   "outputs": [
    {
     "name": "stdout",
     "output_type": "stream",
     "text": [
      "Original: [1, 2, 3]\n",
      "append: [1, 2, 3, 4]\n",
      "extend: [1, 2, 3, 4, 5, 6]\n",
      "insert: [1, 10, 2, 3, 4, 5, 6]\n",
      "remove: [1, 2, 3, 4, 5, 6]\n",
      "pop: [1, 2, 3, 4, 5] | popped: 6\n",
      "clear: []\n",
      "index of 3: 2\n",
      "count of 2: 1\n",
      "sort: [1, 2, 3, 4]\n",
      "reverse: [4, 3, 2, 1]\n",
      "mutable change: [100, 2, 3, 4, 5]\n",
      "clone: [1, 2, 3]\n",
      "split: ['apple', 'banana', 'cherry']\n",
      "del: [100, 3, 4, 5]\n"
     ]
    }
   ],
   "source": [
    "# Create a list\n",
    "my_list = [1, 2, 3]\n",
    "print(\"Original:\", my_list)\n",
    "\n",
    "# append()\n",
    "my_list.append(4)\n",
    "print(\"append:\", my_list)  # [1, 2, 3, 4]\n",
    "\n",
    "# extend()\n",
    "my_list.extend([5, 6])\n",
    "print(\"extend:\", my_list)  # [1, 2, 3, 4, 5, 6]\n",
    "\n",
    "# insert()\n",
    "my_list.insert(1, 10)\n",
    "print(\"insert:\", my_list)  # [1, 10, 2, 3, 4, 5, 6]\n",
    "\n",
    "# remove()\n",
    "my_list.remove(10)\n",
    "print(\"remove:\", my_list)  # [1, 2, 3, 4, 5, 6]\n",
    "\n",
    "# pop()\n",
    "last_item = my_list.pop()\n",
    "print(\"pop:\", my_list, \"| popped:\", last_item)  # [1, 2, 3, 4, 5] | popped: 6\n",
    "\n",
    "# clear()\n",
    "temp_list = my_list[:]\n",
    "temp_list.clear()\n",
    "print(\"clear:\", temp_list)  # []\n",
    "\n",
    "# index()\n",
    "print(\"index of 3:\", my_list.index(3))  # 2\n",
    "\n",
    "# count()\n",
    "print(\"count of 2:\", my_list.count(2))  # 1\n",
    "\n",
    "# sort()\n",
    "unsorted_list = [3, 1, 4, 2]\n",
    "unsorted_list.sort()\n",
    "print(\"sort:\", unsorted_list)  # [1, 2, 3, 4]\n",
    "\n",
    "# reverse()\n",
    "unsorted_list.reverse()\n",
    "print(\"reverse:\", unsorted_list)  # [4, 3, 2, 1]\n",
    "\n",
    "# Mutable example\n",
    "my_list[0] = 100\n",
    "print(\"mutable change:\", my_list)  # [100, 2, 3, 4, 5]\n",
    "\n",
    "# Clone list\n",
    "A = [1, 2, 3]\n",
    "B = A[:]\n",
    "print(\"clone:\", B)  # [1, 2, 3]\n",
    "\n",
    "# split() example (string → list)\n",
    "text = \"apple,banana,cherry\"\n",
    "fruits = text.split(\",\")\n",
    "print(\"split:\", fruits)  # ['apple', 'banana', 'cherry']\n",
    "\n",
    "# del example\n",
    "del my_list[1]\n",
    "print(\"del:\", my_list)  # [100, 3, 4, 5]\n"
   ]
  },
  {
   "cell_type": "code",
   "execution_count": null,
   "id": "242fd478-fd4d-4a49-a8d1-e4e565cfb07e",
   "metadata": {},
   "outputs": [],
   "source": []
  }
 ],
 "metadata": {
  "kernelspec": {
   "display_name": "Python (Data Science)",
   "language": "python",
   "name": "ds_env"
  },
  "language_info": {
   "codemirror_mode": {
    "name": "ipython",
    "version": 3
   },
   "file_extension": ".py",
   "mimetype": "text/x-python",
   "name": "python",
   "nbconvert_exporter": "python",
   "pygments_lexer": "ipython3",
   "version": "3.13.1"
  }
 },
 "nbformat": 4,
 "nbformat_minor": 5
}
