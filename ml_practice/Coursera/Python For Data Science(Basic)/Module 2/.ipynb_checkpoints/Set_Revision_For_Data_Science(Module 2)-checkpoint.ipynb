{
 "cells": [
  {
   "cell_type": "markdown",
   "id": "20b1de16-cff3-4dd2-81ef-891c31c7de94",
   "metadata": {},
   "source": [
    "# Set in Python\r\n",
    "\r\n",
    "**Definition:**  \r\n",
    "A set is an **unordered**, **mutable** collection of **unique** and **immutable** elements.  \r\n",
    "- No duplicate elements.\r\n",
    "- Order is not guaranteed (cannot access by index).\r\n",
    "- Useful for membership tests and eliminating duplicates.\r\n",
    "\r\n",
    "## Key Points:\r\n",
    "- Created using `{}` (e.g., `{1, 2, 3}`) or `set()` constructor.\r\n",
    "- Cannot contain mutable items (e.g., lists, dicts) as elements.\r\n",
    "- Supports mathematical set operations.\r\n",
    "\r\n",
    "## Common Set Operations:\r\n",
    "- **Adding elements**:\r\n",
    "  - `set.add(elem)` → adds a single element.\r\n",
    "  - `set.update(iterable)` → adds multiple elements.\r\n",
    "- **Removing elements**:\r\n",
    "  - `set.remove(elem)` → removes element (error if not found).\r\n",
    "  - `set.discard(elem)` → removes element (no error if not found).\r\n",
    "  - `set.pop()` → removes and returns an arbitrary element.\r\n",
    "  - `set.clear()` → removes all elements.\r\n",
    "- **Set operations**:\r\n",
    "  - Union → `set1 | set2` or `set1.union(set2)`\r\n",
    "  - Intersection → `set1 & set2` or `set1.intersection(set2)`\r\n",
    "  - Difference → `set1 - set2` or `set1.difference(set2)`\r\n",
    "  - Symmetric difference → `set1 ^ set2` or `set1.symmetric_difference(set2)`\r\n",
    "- **Subset / Superset**:\r\n",
    "  - `set1.issubset(set2)`\r\n",
    "  - `set1.issuperset(set2)`\r\n",
    "- **Copying** → `set.copy()`\r\n"
   ]
  },
  {
   "cell_type": "code",
   "execution_count": 1,
   "id": "1a18793c-a5f9-482a-919b-e6bfe493f6d3",
   "metadata": {},
   "outputs": [
    {
     "name": "stdout",
     "output_type": "stream",
     "text": [
      "{1, 2, 3, 4, 5, 6}\n",
      "{1, 2, 3, 4, 5}\n",
      "Removed: 1\n",
      "Union: {2, 3, 4, 5}\n",
      "Intersection: {3, 4, 5}\n",
      "Difference: {2}\n",
      "Symmetric Difference: {2}\n",
      "False\n",
      "True\n",
      "{2, 3, 4, 5}\n"
     ]
    }
   ],
   "source": [
    "# Creating sets\n",
    "s1 = {1, 2, 3}\n",
    "s2 = set([3, 4, 5])\n",
    "\n",
    "# Adding elements\n",
    "s1.add(4)\n",
    "s1.update([5, 6])\n",
    "print(s1)\n",
    "\n",
    "# Removing elements\n",
    "s1.remove(6)     # Error if 6 not present\n",
    "s1.discard(10)   # No error if not present\n",
    "print(s1)\n",
    "\n",
    "# Pop element\n",
    "removed = s1.pop()\n",
    "print(\"Removed:\", removed)\n",
    "\n",
    "# Set operations\n",
    "print(\"Union:\", s1 | s2)\n",
    "print(\"Intersection:\", s1 & s2)\n",
    "print(\"Difference:\", s1 - s2)\n",
    "print(\"Symmetric Difference:\", s1 ^ s2)\n",
    "\n",
    "# Subset and Superset\n",
    "print(s1.issubset(s2))\n",
    "print(s1.issuperset(s2))\n",
    "\n",
    "# Copying\n",
    "copy_s1 = s1.copy()\n",
    "print(copy_s1)\n"
   ]
  },
  {
   "cell_type": "code",
   "execution_count": null,
   "id": "fae4ca82-9e28-4afe-bf24-1b60b2195d2d",
   "metadata": {},
   "outputs": [],
   "source": []
  }
 ],
 "metadata": {
  "kernelspec": {
   "display_name": "Python 3 (ipykernel)",
   "language": "python",
   "name": "python3"
  },
  "language_info": {
   "codemirror_mode": {
    "name": "ipython",
    "version": 3
   },
   "file_extension": ".py",
   "mimetype": "text/x-python",
   "name": "python",
   "nbconvert_exporter": "python",
   "pygments_lexer": "ipython3",
   "version": "3.12.4"
  }
 },
 "nbformat": 4,
 "nbformat_minor": 5
}
