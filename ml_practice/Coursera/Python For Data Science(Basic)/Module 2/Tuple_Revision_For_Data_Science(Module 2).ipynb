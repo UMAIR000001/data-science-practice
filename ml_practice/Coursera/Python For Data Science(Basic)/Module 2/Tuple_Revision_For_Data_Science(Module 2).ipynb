{
 "cells": [
  {
   "cell_type": "markdown",
   "id": "37b2eba4-45a6-4657-90a3-072accd6b2e2",
   "metadata": {},
   "source": [
    "# Tuple in Python\r\n",
    "\r\n",
    "**Definition:**  \r\n",
    "A tuple is an **ordered**, **immutable** collection of elements in Python.  \r\n",
    "It can contain duplicate items and elements of different data types.  \r\n",
    "Once created, its elements **cannot be changed** (immutable).\r\n",
    "\r\n",
    "## Key Points:\r\n",
    "- Created using `()` (parentheses) or `tuple()` function.\r\n",
    "- Allows duplicates.\r\n",
    "- Indexed and ordered (supports slicing).\r\n",
    "- Can store any data type (mixed allowed).\r\n",
    "- Supports unpacking.\r\n",
    "- Immutable → You cannot add, remove, or change elements after creation.\r\n",
    "- Can be nested (tuple inside tuple).\r\n",
    "- Useful when you want fixed data.\r\n",
    "\r\n",
    "## Common Tuple Operations:\r\n",
    "- **`count(x)`** → Returns number of times `x` appears.\r\n",
    "- **`index(x)`** → Returns index of first occurrence of `x`.\r\n",
    "- **Slicing** → Access a range of elements.\r\n",
    "- **Concatenation** → Combine tuples with `+`.\r\n",
    "- **Repetition** → Repeat tuple elements with `*`.\r\n",
    "- **Membership** → Check with `in` / `not in`.\r\n",
    "- **len()`** → Get length of tuple.\r\n",
    "\n"
   ]
  },
  {
   "cell_type": "code",
   "execution_count": 1,
   "id": "d6c7dcc3-13ce-4b63-8fd3-baaa762f5312",
   "metadata": {},
   "outputs": [
    {
     "name": "stdout",
     "output_type": "stream",
     "text": [
      "1\n",
      "cherry\n",
      "(1, 2)\n",
      "2\n",
      "1\n",
      "(1, 2, 3, 4, 5)\n",
      "('apple', 'banana', 'cherry', 'apple', 'banana', 'cherry')\n",
      "True\n",
      "True\n",
      "1 2 3\n",
      "2\n",
      "3\n"
     ]
    }
   ],
   "source": [
    "# Creating tuples\n",
    "t1 = (1, 2, 3)\n",
    "t2 = (\"apple\", \"banana\", \"cherry\")\n",
    "t3 = (1, \"apple\", 3.5, True)  # mixed types\n",
    "\n",
    "# Accessing elements\n",
    "print(t1[0])      # 1\n",
    "print(t2[-1])     # cherry\n",
    "\n",
    "# Slicing\n",
    "print(t1[0:2])    # (1, 2)\n",
    "\n",
    "# count()\n",
    "print((1, 2, 1, 3).count(1))  # 2\n",
    "\n",
    "# index()\n",
    "print((\"a\", \"b\", \"c\", \"b\").index(\"b\"))  # 1\n",
    "\n",
    "# Concatenation\n",
    "print(t1 + (4, 5))  # (1, 2, 3, 4, 5)\n",
    "\n",
    "# Repetition\n",
    "print(t2 * 2)  # ('apple', 'banana', 'cherry', 'apple', 'banana', 'cherry')\n",
    "\n",
    "# Membership\n",
    "print(\"apple\" in t2)   # True\n",
    "print(\"mango\" not in t2)  # True\n",
    "\n",
    "# Tuple unpacking\n",
    "a, b, c = t1\n",
    "print(a, b, c)  # 1 2 3\n",
    "\n",
    "# Nested tuples\n",
    "nested = (1, (2, 3), 4)\n",
    "print(nested[1][0])  # 2\n",
    "\n",
    "# Length\n",
    "print(len(t2))  # 3\n"
   ]
  },
  {
   "cell_type": "code",
   "execution_count": 5,
   "id": "38d1caaf-b00e-4223-a78f-004944024129",
   "metadata": {},
   "outputs": [
    {
     "data": {
      "text/plain": [
       "[1, 2, 3]"
      ]
     },
     "execution_count": 5,
     "metadata": {},
     "output_type": "execute_result"
    }
   ],
   "source": [
    "l=[1,2,3]\n",
    "sorted(l)"
   ]
  },
  {
   "cell_type": "code",
   "execution_count": null,
   "id": "054390b9-daaa-40e8-a880-944aa4620571",
   "metadata": {},
   "outputs": [],
   "source": []
  }
 ],
 "metadata": {
  "kernelspec": {
   "display_name": "Python 3 (ipykernel)",
   "language": "python",
   "name": "python3"
  },
  "language_info": {
   "codemirror_mode": {
    "name": "ipython",
    "version": 3
   },
   "file_extension": ".py",
   "mimetype": "text/x-python",
   "name": "python",
   "nbconvert_exporter": "python",
   "pygments_lexer": "ipython3",
   "version": "3.12.4"
  }
 },
 "nbformat": 4,
 "nbformat_minor": 5
}
