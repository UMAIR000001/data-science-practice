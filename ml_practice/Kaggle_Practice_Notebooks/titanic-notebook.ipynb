{
 "cells": [
  {
   "cell_type": "code",
   "execution_count": 1,
   "id": "b30eec32",
   "metadata": {
    "_cell_guid": "bf67d9e4-b99b-4723-bcfa-367792c99ea0",
    "_uuid": "240619b9-4e7a-4a00-94cc-937ccbe53763",
    "collapsed": false,
    "execution": {
     "iopub.execute_input": "2025-07-24T10:38:21.831778Z",
     "iopub.status.busy": "2025-07-24T10:38:21.831566Z",
     "iopub.status.idle": "2025-07-24T10:38:26.881038Z",
     "shell.execute_reply": "2025-07-24T10:38:26.880383Z"
    },
    "jupyter": {
     "outputs_hidden": false
    },
    "papermill": {
     "duration": 5.055393,
     "end_time": "2025-07-24T10:38:26.882541",
     "exception": false,
     "start_time": "2025-07-24T10:38:21.827148",
     "status": "completed"
    },
    "tags": []
   },
   "outputs": [],
   "source": [
    "import pandas as pd\n",
    "import numpy as np\n",
    "from xgboost import XGBClassifier\n",
    "from sklearn.model_selection import cross_val_score\n",
    "from sklearn.preprocessing import LabelEncoder\n",
    "from sklearn.ensemble import RandomForestClassifier\n",
    "from sklearn.model_selection import cross_val_score\n",
    "\n"
   ]
  },
  {
   "cell_type": "markdown",
   "id": "b0cc4403",
   "metadata": {
    "_cell_guid": "aa04ba42-6da9-4d61-8186-137cc3c8f63d",
    "_uuid": "a6b043cb-b4e3-4c0f-9ee4-21472311770f",
    "collapsed": false,
    "jupyter": {
     "outputs_hidden": false
    },
    "papermill": {
     "duration": 0.00351,
     "end_time": "2025-07-24T10:38:26.889978",
     "exception": false,
     "start_time": "2025-07-24T10:38:26.886468",
     "status": "completed"
    },
    "tags": []
   },
   "source": [
    "### Loading The Data"
   ]
  },
  {
   "cell_type": "code",
   "execution_count": 2,
   "id": "4b4583ef",
   "metadata": {
    "execution": {
     "iopub.execute_input": "2025-07-24T10:38:26.897094Z",
     "iopub.status.busy": "2025-07-24T10:38:26.896742Z",
     "iopub.status.idle": "2025-07-24T10:38:26.992537Z",
     "shell.execute_reply": "2025-07-24T10:38:26.991536Z"
    },
    "papermill": {
     "duration": 0.100737,
     "end_time": "2025-07-24T10:38:26.994034",
     "exception": false,
     "start_time": "2025-07-24T10:38:26.893297",
     "status": "completed"
    },
    "tags": []
   },
   "outputs": [],
   "source": [
    "train_data = pd.read_csv(\"/kaggle/input/titanic/train.csv\")\n",
    "test_data = pd.read_csv(\"/kaggle/input/titanic/test.csv\")\n"
   ]
  },
  {
   "cell_type": "markdown",
   "id": "4f925b20",
   "metadata": {
    "_cell_guid": "73e76246-4fa4-4ad0-b034-3f282bfb4739",
    "_uuid": "52f55783-bebb-4a9f-9f12-64026f8da9fe",
    "collapsed": false,
    "jupyter": {
     "outputs_hidden": false
    },
    "papermill": {
     "duration": 0.002703,
     "end_time": "2025-07-24T10:38:26.999826",
     "exception": false,
     "start_time": "2025-07-24T10:38:26.997123",
     "status": "completed"
    },
    "tags": []
   },
   "source": [
    "### Exploring Patterns in data"
   ]
  },
  {
   "cell_type": "code",
   "execution_count": 3,
   "id": "470f4f2b",
   "metadata": {
    "_cell_guid": "0b4c9762-bf16-4031-b768-1f8476b43e0e",
    "_uuid": "7ef19525-bbf4-40d4-8055-9770c4cf9ad3",
    "collapsed": false,
    "execution": {
     "iopub.execute_input": "2025-07-24T10:38:27.006447Z",
     "iopub.status.busy": "2025-07-24T10:38:27.006168Z",
     "iopub.status.idle": "2025-07-24T10:38:27.026402Z",
     "shell.execute_reply": "2025-07-24T10:38:27.025673Z"
    },
    "jupyter": {
     "outputs_hidden": false
    },
    "papermill": {
     "duration": 0.024672,
     "end_time": "2025-07-24T10:38:27.027518",
     "exception": false,
     "start_time": "2025-07-24T10:38:27.002846",
     "status": "completed"
    },
    "tags": []
   },
   "outputs": [
    {
     "name": "stdout",
     "output_type": "stream",
     "text": [
      "% of women who survived: 0.7420382165605095\n",
      "% of men who survived: 0.18890814558058924\n"
     ]
    }
   ],
   "source": [
    "women = train_data.loc[train_data.Sex == 'female'][\"Survived\"]\n",
    "rate_women = sum(women)/len(women)\n",
    "print(\"% of women who survived:\", rate_women)\n",
    "\n",
    "men = train_data.loc[train_data.Sex == 'male'][\"Survived\"]\n",
    "rate_men = sum(men)/len(men)\n",
    "print(\"% of men who survived:\", rate_men)\n"
   ]
  },
  {
   "cell_type": "markdown",
   "id": "c9336476",
   "metadata": {
    "_cell_guid": "e664de30-fb30-49de-b277-62fa0baa2021",
    "_uuid": "745de6df-1eef-442d-b04d-33a6257f8e38",
    "collapsed": false,
    "jupyter": {
     "outputs_hidden": false
    },
    "papermill": {
     "duration": 0.00272,
     "end_time": "2025-07-24T10:38:27.032932",
     "exception": false,
     "start_time": "2025-07-24T10:38:27.030212",
     "status": "completed"
    },
    "tags": []
   },
   "source": []
  },
  {
   "cell_type": "markdown",
   "id": "ad083adc",
   "metadata": {
    "_cell_guid": "bf3347dc-463c-4e66-9355-43b95e7c34b7",
    "_uuid": "03eb9355-9e5b-4e00-80e9-2391a736d0d7",
    "collapsed": false,
    "jupyter": {
     "outputs_hidden": false
    },
    "papermill": {
     "duration": 0.002581,
     "end_time": "2025-07-24T10:38:27.038135",
     "exception": false,
     "start_time": "2025-07-24T10:38:27.035554",
     "status": "completed"
    },
    "tags": []
   },
   "source": [
    "### Data Processing "
   ]
  },
  {
   "cell_type": "code",
   "execution_count": 4,
   "id": "73f3da1b",
   "metadata": {
    "_cell_guid": "0b4b6bc6-26c9-4742-a6a7-28caaae8dc28",
    "_uuid": "a2880579-9851-476c-b729-5e225780879d",
    "collapsed": false,
    "execution": {
     "iopub.execute_input": "2025-07-24T10:38:27.044374Z",
     "iopub.status.busy": "2025-07-24T10:38:27.044139Z",
     "iopub.status.idle": "2025-07-24T10:38:27.061617Z",
     "shell.execute_reply": "2025-07-24T10:38:27.060606Z"
    },
    "jupyter": {
     "outputs_hidden": false
    },
    "papermill": {
     "duration": 0.02209,
     "end_time": "2025-07-24T10:38:27.062909",
     "exception": false,
     "start_time": "2025-07-24T10:38:27.040819",
     "status": "completed"
    },
    "tags": []
   },
   "outputs": [
    {
     "name": "stderr",
     "output_type": "stream",
     "text": [
      "/tmp/ipykernel_19/321568947.py:12: FutureWarning: A value is trying to be set on a copy of a DataFrame or Series through chained assignment using an inplace method.\n",
      "The behavior will change in pandas 3.0. This inplace method will never work because the intermediate object on which we are setting values always behaves as a copy.\n",
      "\n",
      "For example, when doing 'df[col].method(value, inplace=True)', try using 'df.method({col: value}, inplace=True)' or df[col] = df[col].method(value) instead, to perform the operation inplace on the original object.\n",
      "\n",
      "\n",
      "  dataset['Embarked'].fillna('S', inplace=True)\n",
      "/tmp/ipykernel_19/321568947.py:19: FutureWarning: A value is trying to be set on a copy of a DataFrame or Series through chained assignment using an inplace method.\n",
      "The behavior will change in pandas 3.0. This inplace method will never work because the intermediate object on which we are setting values always behaves as a copy.\n",
      "\n",
      "For example, when doing 'df[col].method(value, inplace=True)', try using 'df.method({col: value}, inplace=True)' or df[col] = df[col].method(value) instead, to perform the operation inplace on the original object.\n",
      "\n",
      "\n",
      "  dataset['Age'].fillna(dataset['Age'].median(), inplace=True)\n",
      "/tmp/ipykernel_19/321568947.py:20: FutureWarning: A value is trying to be set on a copy of a DataFrame or Series through chained assignment using an inplace method.\n",
      "The behavior will change in pandas 3.0. This inplace method will never work because the intermediate object on which we are setting values always behaves as a copy.\n",
      "\n",
      "For example, when doing 'df[col].method(value, inplace=True)', try using 'df.method({col: value}, inplace=True)' or df[col] = df[col].method(value) instead, to perform the operation inplace on the original object.\n",
      "\n",
      "\n",
      "  test_df['Fare'].fillna(test_df['Fare'].median(), inplace=True)\n"
     ]
    }
   ],
   "source": [
    "# 🧹 Data Cleaning and Feature Engineering\n",
    "train_df = train_data.copy()\n",
    "test_df = test_data.copy()\n",
    "combine = [train_df, test_df]\n",
    "\n",
    "# Encode 'Sex' column\n",
    "for dataset in combine:\n",
    "    dataset['Sex'] = dataset['Sex'].map({'male': 0, 'female': 1})\n",
    "\n",
    "# Fill and encode 'Embarked'\n",
    "for dataset in combine:\n",
    "    dataset['Embarked'].fillna('S', inplace=True)\n",
    "embarked_encoder = LabelEncoder()\n",
    "train_df['Embarked'] = embarked_encoder.fit_transform(train_df['Embarked'])\n",
    "test_df['Embarked'] = embarked_encoder.transform(test_df['Embarked'])\n",
    "\n",
    "# Fill missing 'Age' and 'Fare'\n",
    "for dataset in combine:\n",
    "    dataset['Age'].fillna(dataset['Age'].median(), inplace=True)\n",
    "test_df['Fare'].fillna(test_df['Fare'].median(), inplace=True)\n",
    "\n",
    "# Create new features\n",
    "for dataset in combine:\n",
    "    dataset['FamilySize'] = dataset['SibSp'] + dataset['Parch'] + 1\n",
    "    dataset['IsAlone'] = 0\n",
    "    dataset.loc[dataset['FamilySize'] == 1, 'IsAlone'] = 1\n"
   ]
  },
  {
   "cell_type": "markdown",
   "id": "60af23cb",
   "metadata": {
    "papermill": {
     "duration": 0.002818,
     "end_time": "2025-07-24T10:38:27.068624",
     "exception": false,
     "start_time": "2025-07-24T10:38:27.065806",
     "status": "completed"
    },
    "tags": []
   },
   "source": [
    "### Extract and Encode “Title” from Name"
   ]
  },
  {
   "cell_type": "code",
   "execution_count": 5,
   "id": "961b2eb7",
   "metadata": {
    "execution": {
     "iopub.execute_input": "2025-07-24T10:38:27.075232Z",
     "iopub.status.busy": "2025-07-24T10:38:27.074747Z",
     "iopub.status.idle": "2025-07-24T10:38:27.087880Z",
     "shell.execute_reply": "2025-07-24T10:38:27.087367Z"
    },
    "papermill": {
     "duration": 0.017474,
     "end_time": "2025-07-24T10:38:27.088944",
     "exception": false,
     "start_time": "2025-07-24T10:38:27.071470",
     "status": "completed"
    },
    "tags": []
   },
   "outputs": [],
   "source": [
    "# Extract Title from Name\n",
    "for dataset in [train_df, test_df]:\n",
    "    dataset['Title'] = dataset['Name'].str.extract(' ([A-Za-z]+)\\.', expand=False)\n",
    "\n",
    "# Replace rare and similar titles\n",
    "for dataset in [train_df, test_df]:\n",
    "    dataset['Title'] = dataset['Title'].replace(['Lady', 'Countess','Capt', 'Col',\n",
    "                                                  'Don', 'Dr', 'Major', 'Rev', 'Sir',\n",
    "                                                  'Jonkheer', 'Dona'], 'Rare')\n",
    "    dataset['Title'] = dataset['Title'].replace('Mlle', 'Miss')\n",
    "    dataset['Title'] = dataset['Title'].replace('Ms', 'Miss')\n",
    "    dataset['Title'] = dataset['Title'].replace('Mme', 'Mrs')\n",
    "\n",
    "# Encode title\n",
    "title_encoder = LabelEncoder()\n",
    "train_df['Title'] = title_encoder.fit_transform(train_df['Title'])\n",
    "test_df['Title'] = title_encoder.transform(test_df['Title'])\n"
   ]
  },
  {
   "cell_type": "markdown",
   "id": "97287890",
   "metadata": {
    "papermill": {
     "duration": 0.00273,
     "end_time": "2025-07-24T10:38:27.095459",
     "exception": false,
     "start_time": "2025-07-24T10:38:27.092729",
     "status": "completed"
    },
    "tags": []
   },
   "source": [
    "### Define Features & Labels"
   ]
  },
  {
   "cell_type": "code",
   "execution_count": 6,
   "id": "73398445",
   "metadata": {
    "execution": {
     "iopub.execute_input": "2025-07-24T10:38:27.102623Z",
     "iopub.status.busy": "2025-07-24T10:38:27.101755Z",
     "iopub.status.idle": "2025-07-24T10:38:27.110214Z",
     "shell.execute_reply": "2025-07-24T10:38:27.109620Z"
    },
    "papermill": {
     "duration": 0.013067,
     "end_time": "2025-07-24T10:38:27.111319",
     "exception": false,
     "start_time": "2025-07-24T10:38:27.098252",
     "status": "completed"
    },
    "tags": []
   },
   "outputs": [],
   "source": [
    "'''features = [\"Pclass\", \"Sex\", \"Age\", \"Fare\", \"Embarked\", \"FamilySize\", \"IsAlone\", \"Title\"]\n",
    "X = train_df[features]\n",
    "y = train_df[\"Survived\"]\n",
    "X_test = test_df[features]'''\n",
    "\n",
    "\n",
    "# Add new features first (if not already present)\n",
    "train_df[\"FarePerPerson\"] = train_df[\"Fare\"] / (train_df[\"FamilySize\"] + 1)\n",
    "test_df[\"FarePerPerson\"] = test_df[\"Fare\"] / (test_df[\"FamilySize\"] + 1)\n",
    "\n",
    "train_df[\"Age*Class\"] = train_df[\"Age\"] * train_df[\"Pclass\"]\n",
    "test_df[\"Age*Class\"] = test_df[\"Age\"] * test_df[\"Pclass\"]\n",
    "\n",
    "# Final feature list\n",
    "features = [\n",
    "    \"Pclass\", \"Sex\", \"Age\", \"Fare\", \"Embarked\",\n",
    "    \"FamilySize\", \"IsAlone\", \"Title\", \"SibSp\", \"Parch\",\n",
    "    \"FarePerPerson\", \"Age*Class\"\n",
    "]\n",
    "\n",
    "X = train_df[features]\n",
    "y = train_df[\"Survived\"]\n",
    "X_test = test_df[features]\n",
    "\n",
    "\n"
   ]
  },
  {
   "cell_type": "markdown",
   "id": "60b82d44",
   "metadata": {
    "papermill": {
     "duration": 0.002813,
     "end_time": "2025-07-24T10:38:27.117016",
     "exception": false,
     "start_time": "2025-07-24T10:38:27.114203",
     "status": "completed"
    },
    "tags": []
   },
   "source": [
    "### 6. 🤖 Train Model with Cross Validation"
   ]
  },
  {
   "cell_type": "code",
   "execution_count": 7,
   "id": "b72db4bd",
   "metadata": {
    "execution": {
     "iopub.execute_input": "2025-07-24T10:38:27.123400Z",
     "iopub.status.busy": "2025-07-24T10:38:27.123178Z",
     "iopub.status.idle": "2025-07-24T10:38:28.038366Z",
     "shell.execute_reply": "2025-07-24T10:38:28.037778Z"
    },
    "papermill": {
     "duration": 0.920418,
     "end_time": "2025-07-24T10:38:28.040173",
     "exception": false,
     "start_time": "2025-07-24T10:38:27.119755",
     "status": "completed"
    },
    "tags": []
   },
   "outputs": [
    {
     "name": "stdout",
     "output_type": "stream",
     "text": [
      "Cross-validation accuracy: 0.8227\n"
     ]
    }
   ],
   "source": [
    "model = XGBClassifier(n_estimators=300, learning_rate=0.5, max_depth=5, use_label_encoder=False, eval_metric='logloss')\n",
    "scores = cross_val_score(model, X, y, cv=5)\n",
    "print(f\"Cross-validation accuracy: {scores.mean():.4f}\")\n"
   ]
  },
  {
   "cell_type": "markdown",
   "id": "4943e2e2",
   "metadata": {
    "papermill": {
     "duration": 0.003858,
     "end_time": "2025-07-24T10:38:28.048620",
     "exception": false,
     "start_time": "2025-07-24T10:38:28.044762",
     "status": "completed"
    },
    "tags": []
   },
   "source": [
    "### 7. 🧠 Train on Full Data and Predict"
   ]
  },
  {
   "cell_type": "code",
   "execution_count": 8,
   "id": "f783fe67",
   "metadata": {
    "execution": {
     "iopub.execute_input": "2025-07-24T10:38:28.056707Z",
     "iopub.status.busy": "2025-07-24T10:38:28.056371Z",
     "iopub.status.idle": "2025-07-24T10:38:28.197817Z",
     "shell.execute_reply": "2025-07-24T10:38:28.197322Z"
    },
    "papermill": {
     "duration": 0.146191,
     "end_time": "2025-07-24T10:38:28.199125",
     "exception": false,
     "start_time": "2025-07-24T10:38:28.052934",
     "status": "completed"
    },
    "tags": []
   },
   "outputs": [],
   "source": [
    "model.fit(X, y)\n",
    "predictions = model.predict(X_test)\n"
   ]
  },
  {
   "cell_type": "markdown",
   "id": "4d847923",
   "metadata": {
    "papermill": {
     "duration": 0.003661,
     "end_time": "2025-07-24T10:38:28.207119",
     "exception": false,
     "start_time": "2025-07-24T10:38:28.203458",
     "status": "completed"
    },
    "tags": []
   },
   "source": [
    "## 🔹  8. 💾 Create Submission File"
   ]
  },
  {
   "cell_type": "code",
   "execution_count": 9,
   "id": "c8d31f6b",
   "metadata": {
    "execution": {
     "iopub.execute_input": "2025-07-24T10:38:28.215774Z",
     "iopub.status.busy": "2025-07-24T10:38:28.215604Z",
     "iopub.status.idle": "2025-07-24T10:38:28.226198Z",
     "shell.execute_reply": "2025-07-24T10:38:28.225392Z"
    },
    "papermill": {
     "duration": 0.016213,
     "end_time": "2025-07-24T10:38:28.227530",
     "exception": false,
     "start_time": "2025-07-24T10:38:28.211317",
     "status": "completed"
    },
    "tags": []
   },
   "outputs": [
    {
     "name": "stdout",
     "output_type": "stream",
     "text": [
      "Your submission was successfully saved!\n"
     ]
    }
   ],
   "source": [
    "output = pd.DataFrame({'PassengerId': test_df.PassengerId, 'Survived': predictions})\n",
    "output.to_csv('submission.csv', index=False)\n",
    "print(\"Your submission was successfully saved!\")\n"
   ]
  }
 ],
 "metadata": {
  "kaggle": {
   "accelerator": "nvidiaTeslaT4",
   "dataSources": [
    {
     "databundleVersionId": 26502,
     "sourceId": 3136,
     "sourceType": "competition"
    }
   ],
   "dockerImageVersionId": 31089,
   "isGpuEnabled": true,
   "isInternetEnabled": true,
   "language": "python",
   "sourceType": "notebook"
  },
  "kernelspec": {
   "display_name": "Python 3",
   "language": "python",
   "name": "python3"
  },
  "language_info": {
   "codemirror_mode": {
    "name": "ipython",
    "version": 3
   },
   "file_extension": ".py",
   "mimetype": "text/x-python",
   "name": "python",
   "nbconvert_exporter": "python",
   "pygments_lexer": "ipython3",
   "version": "3.11.13"
  },
  "papermill": {
   "default_parameters": {},
   "duration": 12.726543,
   "end_time": "2025-07-24T10:38:28.747743",
   "environment_variables": {},
   "exception": null,
   "input_path": "__notebook__.ipynb",
   "output_path": "__notebook__.ipynb",
   "parameters": {},
   "start_time": "2025-07-24T10:38:16.021200",
   "version": "2.6.0"
  }
 },
 "nbformat": 4,
 "nbformat_minor": 5
}
