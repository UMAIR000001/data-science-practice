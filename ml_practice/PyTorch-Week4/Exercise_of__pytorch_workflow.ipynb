{
  "nbformat": 4,
  "nbformat_minor": 0,
  "metadata": {
    "colab": {
      "provenance": [],
      "gpuType": "T4",
      "authorship_tag": "ABX9TyPzypwQPskjJTH3gykW82pC",
      "include_colab_link": true
    },
    "kernelspec": {
      "name": "python3",
      "display_name": "Python 3"
    },
    "language_info": {
      "name": "python"
    },
    "accelerator": "GPU"
  },
  "cells": [
    {
      "cell_type": "markdown",
      "metadata": {
        "id": "view-in-github",
        "colab_type": "text"
      },
      "source": [
        "<a href=\"https://colab.research.google.com/github/UMAIR000001/PyTorch-Week4/blob/main/Exercise_of__pytorch_workflow.ipynb\" target=\"_parent\"><img src=\"https://colab.research.google.com/assets/colab-badge.svg\" alt=\"Open In Colab\"/></a>"
      ]
    },
    {
      "cell_type": "code",
      "execution_count": 1,
      "metadata": {
        "colab": {
          "base_uri": "https://localhost:8080/",
          "height": 35
        },
        "id": "845dqEMiYxqZ",
        "outputId": "e9f0e07e-b736-4a7f-c85c-7b4579ee9640"
      },
      "outputs": [
        {
          "output_type": "execute_result",
          "data": {
            "text/plain": [
              "'2.6.0+cu124'"
            ],
            "application/vnd.google.colaboratory.intrinsic+json": {
              "type": "string"
            }
          },
          "metadata": {},
          "execution_count": 1
        }
      ],
      "source": [
        "import torch\n",
        "from torch import nn\n",
        "import matplotlib.pyplot as plt\n",
        "\n",
        "#version of torch\n",
        "torch.__version__"
      ]
    },
    {
      "cell_type": "markdown",
      "source": [
        "# Preparing of simple data:"
      ],
      "metadata": {
        "id": "rsR_2pk8ZrGO"
      }
    },
    {
      "cell_type": "code",
      "source": [
        "# parameters initialization\n",
        "weight=0.7\n",
        "bais=0.3\n",
        "\n",
        "#Create Data\n",
        "start=0\n",
        "end=1\n",
        "step=0.1\n",
        "X=torch.arange(start,end,step).unsqueeze(dim=1)\n",
        "y=weight*X+bais\n",
        "\n",
        "print(X[:10],y[:10])"
      ],
      "metadata": {
        "colab": {
          "base_uri": "https://localhost:8080/"
        },
        "id": "N0AcBP_FZn6H",
        "outputId": "fef65d7d-5eb4-431c-cfcf-c0160ad58018"
      },
      "execution_count": 2,
      "outputs": [
        {
          "output_type": "stream",
          "name": "stdout",
          "text": [
            "tensor([[0.0000],\n",
            "        [0.1000],\n",
            "        [0.2000],\n",
            "        [0.3000],\n",
            "        [0.4000],\n",
            "        [0.5000],\n",
            "        [0.6000],\n",
            "        [0.7000],\n",
            "        [0.8000],\n",
            "        [0.9000]]) tensor([[0.3000],\n",
            "        [0.3700],\n",
            "        [0.4400],\n",
            "        [0.5100],\n",
            "        [0.5800],\n",
            "        [0.6500],\n",
            "        [0.7200],\n",
            "        [0.7900],\n",
            "        [0.8600],\n",
            "        [0.9300]])\n"
          ]
        }
      ]
    }
  ]
}