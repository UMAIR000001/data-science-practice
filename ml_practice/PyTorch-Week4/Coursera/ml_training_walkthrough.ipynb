{
 "cells": [
  {
   "cell_type": "markdown",
   "id": "eee5666c",
   "metadata": {},
   "source": [
    "What is Forward Propagation?\n",
    "Forward propagation is the process of passing inputs through the neural network to get the output.\n",
    "\n",
    "Here's what happens in forward propagation (simplified):\n",
    "\n",
    "Inputs are multiplied by weights.\n",
    "\n",
    "Biases are added.\n",
    "\n",
    "The result is passed through an activation function (like sigmoid or ReLU).\n",
    "\n",
    "This repeats layer by layer until the output layer."
   ]
  },
  {
   "cell_type": "code",
   "execution_count": 164,
   "id": "c5115b87",
   "metadata": {},
   "outputs": [
    {
     "name": "stdout",
     "output_type": "stream",
     "text": [
      "PyTorch version: 2.7.1+cpu\n",
      "NumPy version: 2.3.1\n",
      "Pandas version: 2.3.1\n"
     ]
    }
   ],
   "source": [
    "import torch\n",
    "import numpy as np\n",
    "import pandas as pd\n",
    "import matplotlib.pyplot as plt\n",
    "\n",
    "print(\"PyTorch version:\", torch.__version__)\n",
    "print(\"NumPy version:\", np.__version__)\n",
    "print(\"Pandas version:\", pd.__version__)\n"
   ]
  },
  {
   "cell_type": "markdown",
   "id": "f61d36e1",
   "metadata": {},
   "source": [
    "💡 Real-Life Example with Forward Propagation :\n",
    "You run an ice cream shop. You noticed when the temperature increases, you sell more ice cream. Now, you want a simple neural network to predict ice cream sales based on temperature.\n",
    "\n"
   ]
  },
  {
   "cell_type": "code",
   "execution_count": 165,
   "id": "78849347",
   "metadata": {},
   "outputs": [],
   "source": [
    "import torch\n",
    "import torch.nn as nn\n",
    "\n"
   ]
  },
  {
   "cell_type": "code",
   "execution_count": 166,
   "id": "cda07412",
   "metadata": {},
   "outputs": [],
   "source": [
    "temperature = torch.tensor([50.0])  # 25 degrees Celsius\n"
   ]
  },
  {
   "cell_type": "code",
   "execution_count": 167,
   "id": "03fc1f3c",
   "metadata": {},
   "outputs": [],
   "source": [
    "model = nn.Linear(in_features=1, out_features=1)  # 1 input → 1 output\n"
   ]
  },
  {
   "cell_type": "code",
   "execution_count": 168,
   "id": "2f244b67",
   "metadata": {},
   "outputs": [
    {
     "name": "stdout",
     "output_type": "stream",
     "text": [
      "Predicted Ice Cream Sales: 15.28094482421875\n"
     ]
    }
   ],
   "source": [
    "sales_prediction = model(temperature)\n",
    "print(\"Predicted Ice Cream Sales:\", sales_prediction.item())\n"
   ]
  },
  {
   "cell_type": "code",
   "execution_count": 169,
   "id": "d942b6d4",
   "metadata": {},
   "outputs": [
    {
     "name": "stdout",
     "output_type": "stream",
     "text": [
      "Weight: 0.31653058528900146\n",
      "Bias: -0.5455845594406128\n"
     ]
    }
   ],
   "source": [
    "print(\"Weight:\", model.weight.item())\n",
    "print(\"Bias:\", model.bias.item())\n"
   ]
  },
  {
   "cell_type": "markdown",
   "id": "3465dd17",
   "metadata": {},
   "source": [
    "## Predicting Ice Cream Sales Using Linear Model in PyTorch\n"
   ]
  },
  {
   "cell_type": "code",
   "execution_count": 170,
   "id": "f46421df",
   "metadata": {},
   "outputs": [
    {
     "name": "stdout",
     "output_type": "stream",
     "text": [
      "Predicted Ice Cream Sell is 3.3125979900360107\n",
      "Weight: 0.12279200553894043 \n",
      "Bias: 0.2427978515625 \n"
     ]
    }
   ],
   "source": [
    "# Import PyTorch core library and the neural network module\n",
    "import torch \n",
    "import torch.nn as nn\n",
    "\n",
    "# Step 1: Define input data (e.g., temperature in Celsius)\n",
    "temperature = torch.tensor([25.0])  # This is our input feature\n",
    "\n",
    "# Step 2: Create a simple linear model with 1 input and 1 output (y = wx + b)\n",
    "model = nn.Linear(in_features=1, out_features=1)\n",
    "\n",
    "# Step 3: Use the model to predict ice cream sales based on temperature\n",
    "sale_price = model(temperature)  # Forward propagation: input is passed through the model\n",
    "\n",
    "# Step 4: Print the predicted value\n",
    "print(f\"Predicted Ice Cream Sell is {sale_price.item()}\")  # .item() gets the Python float from the tensor\n",
    "\n",
    "# Step 5: Print the current weight (w) and bias (b) used by the model\n",
    "print(f\"Weight: {model.weight.item()} \")  # Weight (w) of the model\n",
    "print(f\"Bias: {model.bias.item()} \")      # Bias (b) of the model\n"
   ]
  },
  {
   "cell_type": "markdown",
   "id": "e355e33e",
   "metadata": {},
   "source": [
    "### 🧠 Exersise: Predict Exam Score Based on Hours Studied\n",
    "You're building a simple model that predicts a student's exam score based on how many hours they studied. Use PyTorch's nn.Linear layer to simulate this relationship."
   ]
  },
  {
   "cell_type": "code",
   "execution_count": 171,
   "id": "d584904a",
   "metadata": {},
   "outputs": [
    {
     "name": "stdout",
     "output_type": "stream",
     "text": [
      "Predicted Exam Score is -2.711352825164795\n",
      "Weight: -0.7240625619888306\n",
      "Bias: 0.9089598655700684\n"
     ]
    }
   ],
   "source": [
    "#importing Essential Libraries\n",
    "import torch \n",
    "import torch.nn as nn\n",
    "\n",
    "#Inilizing input\n",
    "hours_of_studied = torch.tensor([5.0])\n",
    "\n",
    "#Building Simple Model\n",
    "model = nn.Linear(in_features=1, out_features=1)\n",
    "\n",
    "#Passing input data to our model\n",
    "Predicted_ExamScore = model(hours_of_studied)\n",
    "print(f\"Predicted Exam Score is {Predicted_ExamScore.item()}\")\n",
    "\n",
    "#printing the random generated weight and bias by our model\n",
    "print(f\"Weight: {model.weight.item()}\")\n",
    "print(f\"Bias: {model.bias.item()}\")\n"
   ]
  },
  {
   "cell_type": "markdown",
   "id": "c57154ea",
   "metadata": {},
   "source": [
    "### 🏆 Rating: 8.5 / 10 for The Exersise\n",
    "Great logic and structure! ✅\n",
    "\n",
    "Just need to fix the import alias and correct the bias print line. After that, it'll be a 10/10! 💯\n",
    "\n",
    "Would you like another challenge now?"
   ]
  },
  {
   "cell_type": "markdown",
   "id": "87675b2a",
   "metadata": {},
   "source": [
    "## Loss Funtion :\n",
    "To measure how wrong your prediction is (e.g., MSELoss, CrossEntropyLoss)\n",
    "### Mean Squared Error(MSELoss):"
   ]
  },
  {
   "cell_type": "code",
   "execution_count": 172,
   "id": "f88d7b1c",
   "metadata": {},
   "outputs": [
    {
     "name": "stdout",
     "output_type": "stream",
     "text": [
      "The Mean Squared Error Loss is 5.946666717529297\n"
     ]
    }
   ],
   "source": [
    "#Importing Essential Libraries\n",
    "import torch \n",
    "import torch.nn as nn\n",
    "\n",
    "#inilizing Inputs with their labels\n",
    "x=torch.tensor([10.0,20.0,30.0],requires_grad=True)\n",
    "y=torch.tensor([12.2,22.0,33.0])\n",
    "\n",
    "#inilizaing Loss Fintion (MSELoss)\n",
    "loss_funtion=nn.MSELoss()\n",
    "loss=loss_funtion(x,y)\n",
    "\n",
    "#printing the difference between the predicted label to input (x)\n",
    "print(f\"The Mean Squared Error Loss is {loss.item()}\")\n",
    "\n"
   ]
  },
  {
   "cell_type": "code",
   "execution_count": 173,
   "id": "da404338",
   "metadata": {},
   "outputs": [
    {
     "name": "stdout",
     "output_type": "stream",
     "text": [
      "Predicted y values:\n",
      "tensor([[-2.9052],\n",
      "        [-5.9368],\n",
      "        [-8.9683]], grad_fn=<AddmmBackward0>)\n",
      "Initial Weight: -0.30315160751342773\n",
      "Initial Bias: 0.12627220153808594\n",
      "The Mean Squared Error Loss is: 923.3224487304688\n"
     ]
    }
   ],
   "source": [
    "# Importing Essential Libraries\n",
    "import torch \n",
    "import torch.nn as nn\n",
    "\n",
    "# Step 1: Initializing Inputs (features) and their Labels (targets)\n",
    "# These are our example data points: x (input) and y (actual labels)\n",
    "x = torch.tensor([[10.0], [20.0], [30.0]])  # Inputs (features)\n",
    "y = torch.tensor([[12.2], [22.0], [33.0]])  # Actual labels (targets)\n",
    "\n",
    "# Step 2: Building a Simple Linear Model with 1 input and 1 output feature\n",
    "model = nn.Linear(in_features=1, out_features=1)\n",
    "\n",
    "# Step 3: Using the model to make predictions on the input data\n",
    "predicted_y = model(x)\n",
    "\n",
    "# Step 4: Printing the predicted values\n",
    "print(f\"Predicted y values:\\n{predicted_y}\")\n",
    "\n",
    "# Step 5: Printing the current weight and bias used by the model\n",
    "print(f\"Initial Weight: {model.weight.item()}\")\n",
    "print(f\"Initial Bias: {model.bias.item()}\")\n",
    "\n",
    "# Step 6: Initializing the Loss Function (Mean Squared Error Loss)\n",
    "loss_function = nn.MSELoss()\n",
    "\n",
    "# Step 7: Calculating the loss between predicted and actual labels\n",
    "loss = loss_function(predicted_y, y)\n",
    "\n",
    "# Step 8: Printing the loss value\n",
    "print(f\"The Mean Squared Error Loss is: {loss.item()}\")\n"
   ]
  },
  {
   "cell_type": "markdown",
   "id": "0cb245a6",
   "metadata": {},
   "source": [
    "### Task: Predict Car Prices Based on Age\n",
    "You are given:\n",
    "\n",
    "Ages of some used cars (in years)\n",
    "\n",
    "Their corresponding prices (in thousands of PKR)\n",
    "\n",
    "Your goal:\n",
    "\n",
    "Use a simple linear model to predict car prices from age.\n",
    "\n",
    "Calculate the Mean Squared Error (MSE) between predicted and actual prices."
   ]
  },
  {
   "cell_type": "code",
   "execution_count": 174,
   "id": "79435cb7",
   "metadata": {},
   "outputs": [
    {
     "name": "stdout",
     "output_type": "stream",
     "text": [
      "The predicted Car's Prices are:\n",
      "tensor([[-0.5931],\n",
      "        [-1.3325],\n",
      "        [-2.0720],\n",
      "        [-2.8114],\n",
      "        [-3.5509]], grad_fn=<AddmmBackward0>)\n",
      "Initial Weight: -0.7394462823867798\n",
      "Initial Bias: 0.14637994766235352\n",
      "The Mean Squared Error is: 585317.5625\n"
     ]
    }
   ],
   "source": [
    "# 🔹 Importing Required Libraries\n",
    "import torch\n",
    "import torch.nn as nn  # nn = Neural Network module from PyTorch\n",
    "\n",
    "# 🔹 Initializing Inputs (Feature: Car Age) and Labels (Target: Car Price)\n",
    "# Each age-price pair represents one training example\n",
    "cars_age = torch.tensor([[1.0], [2.0], [3.0], [4.0], [5.0]])       # Input feature (in years)\n",
    "cars_price = torch.tensor([[950.0], [850.0], [750.0], [650.0], [550.0]])  # Target prices\n",
    "\n",
    "# 🔹 Creating a Simple Linear Regression Model\n",
    "# This model will learn the relationship: Price = Weight * Age + Bias\n",
    "model = nn.Linear(in_features=1, out_features=1)\n",
    "\n",
    "# 🔹 Forward Pass: Making predictions using the untrained model\n",
    "# The model calculates predicted prices based on initial random weights and bias\n",
    "predicted_car_price = model(cars_age)\n",
    "\n",
    "# 🔹 Displaying the Predicted Prices\n",
    "print(f\"The predicted Car's Prices are:\\n{predicted_car_price}\")\n",
    "\n",
    "# 🔹 Displaying the Current Weight and Bias of the Model (Before Training)\n",
    "print(f\"Initial Weight: {model.weight.item()}\")\n",
    "print(f\"Initial Bias: {model.bias.item()}\")\n",
    "\n",
    "# 🔹 Initializing the Loss Function\n",
    "# We'll use Mean Squared Error (MSE) which measures the average squared difference between actual and predicted prices\n",
    "loss_function = nn.MSELoss()\n",
    "\n",
    "# 🔹 Calculating the Loss (How far off our predictions are)\n",
    "loss = loss_function(predicted_car_price, cars_price)\n",
    "\n",
    "# 🔹 Displaying the Loss Value\n",
    "print(f\"The Mean Squared Error is: {loss.item()}\")\n"
   ]
  },
  {
   "cell_type": "markdown",
   "id": "d103c66a",
   "metadata": {},
   "source": [
    "# Exersise :\n",
    "## 🔧 Exercise: Predict Student Marks Based on Hours Studied\n",
    "You’re given the number of study hours and the corresponding marks of students.\n",
    "Use a Linear Model to predict the marks and calculate the MSE Loss.\n",
    "Hours studied=[1.0,2.0,3.0,4.0]\n",
    "Marks Scored=[2,4,6,8]✅ Your Task:\n",
    "Convert the above data to tensors.\n",
    "\n",
    "Build a simple linear model using nn.Linear.\n",
    "\n",
    "Use the model to predict the output.\n",
    "\n",
    "Calculate the Mean Squared Error (MSE) between predicted and actual marks.\n",
    "\n",
    "Print the predicted values, model weight & bias, and the loss.\n"
   ]
  },
  {
   "cell_type": "code",
   "execution_count": 175,
   "id": "108e7eac",
   "metadata": {},
   "outputs": [
    {
     "name": "stdout",
     "output_type": "stream",
     "text": [
      "The Predicted Marks are : tensor([[0.1404],\n",
      "        [0.1947],\n",
      "        [0.2490],\n",
      "        [0.3033]], grad_fn=<AddmmBackward0>)\n",
      "Weight: 0.054276108741760254\n",
      "Bias: 0.08616042137145996\n",
      "The Loss between Predicted and Actual Marks is : 27.56301498413086\n"
     ]
    }
   ],
   "source": [
    "# Importing required libraries\n",
    "import torch \n",
    "import torch.nn as nn\n",
    "\n",
    "# Initializing input features (Hours Studied) and corresponding labels (marks Scored)\n",
    "hours_studied = torch.tensor([[1.0], [2.0], [3.0], [4.0]])\n",
    "marks_scored = torch.tensor([[2.0], [4.0], [6.0], [8.0]])\n",
    "\n",
    "# Defining a simple linear model with 1 input and 1 output\n",
    "model = nn.Linear(in_features=1, out_features=1)\n",
    "\n",
    "# Forward pass: Predict marks based on hours studied\n",
    "predicted_scored = model(hours_studied)\n",
    "\n",
    "# Printing the predicted scores, current weight and bias of the model\n",
    "print(f\"The Predicted Marks are : {predicted_scored}\")\n",
    "print(f\"Weight: {model.weight.item()}\")\n",
    "print(f\"Bias: {model.bias.item()}\")  \n",
    "\n",
    "# Initializing Mean Squared Error Loss function\n",
    "loss_function = nn.MSELoss()\n",
    "\n",
    "# Calculating the loss between predicted marks and actual marks\n",
    "loss = loss_function(predicted_scored, marks_scored)\n",
    "\n",
    "# Printing the loss value\n",
    "print(f\"The Loss between Predicted and Actual Marks is : {loss.item()}\")\n"
   ]
  },
  {
   "cell_type": "markdown",
   "id": "10d2379d",
   "metadata": {},
   "source": [
    "## 🔢 Your Score: 8.5 / 10\n",
    "📈 Why not 10?\n",
    "Minor typo in variable name and comment formatting.\n",
    "\n",
    "A clearer final print statement would improve readability."
   ]
  }
 ],
 "metadata": {
  "kernelspec": {
   "display_name": "Python (ml)",
   "language": "python",
   "name": "ml"
  },
  "language_info": {
   "codemirror_mode": {
    "name": "ipython",
    "version": 3
   },
   "file_extension": ".py",
   "mimetype": "text/x-python",
   "name": "python",
   "nbconvert_exporter": "python",
   "pygments_lexer": "ipython3",
   "version": "3.13.1"
  }
 },
 "nbformat": 4,
 "nbformat_minor": 5
}
