{
 "cells": [
  {
   "cell_type": "markdown",
   "id": "1837db93-a18d-4886-af08-573d1efe362d",
   "metadata": {},
   "source": [
    "# ----------Boolean Operators------------ Day No 3"
   ]
  },
  {
   "cell_type": "code",
   "execution_count": 12,
   "id": "b188a5c3-0a4b-4e44-9c8a-c91e14baa1ab",
   "metadata": {},
   "outputs": [
    {
     "name": "stdout",
     "output_type": "stream",
     "text": [
      "True False\n",
      "True   False\n"
     ]
    }
   ],
   "source": [
    "a=True\n",
    "b=False\n",
    "print(a,b)\n",
    "print(a,\" \",b)"
   ]
  },
  {
   "cell_type": "code",
   "execution_count": null,
   "id": "b16867a4-f7d7-4912-9fc3-0a319c77727a",
   "metadata": {},
   "outputs": [],
   "source": [
    "-----Comparison Operators and logical Operators------\n",
    "\n",
    "Comparison operators: ==,>,>=,<,<=\n",
    "Logical Operators: and ,or, not\n"
   ]
  },
  {
   "cell_type": "code",
   "execution_count": 22,
   "id": "7900fa3b-5f40-4420-a0ee-565cf03d7cca",
   "metadata": {},
   "outputs": [
    {
     "name": "stdout",
     "output_type": "stream",
     "text": [
      "False\n",
      "False\n",
      "True\n"
     ]
    }
   ],
   "source": [
    "print(5==2)\n",
    "x=2\n",
    "print(x>=10)\n",
    "print(x<=100)\n",
    "x=y=2\n",
    "print(x==y)\n",
    "print(x==2)\n"
   ]
  },
  {
   "cell_type": "code",
   "execution_count": 70,
   "id": "60dc831b-fa82-4e05-9f1b-20429ef90a47",
   "metadata": {},
   "outputs": [
    {
     "name": "stdout",
     "output_type": "stream",
     "text": [
      " Using (AND) operator : False\n",
      " Using (OR) opearator:  True\n",
      "Using (NOT) operator False\n"
     ]
    }
   ],
   "source": [
    "num1=2\n",
    "num2=12\n",
    "print(\" Using (AND) operator :\",num1==2 and num2==3) # LOGICAL AND OPERATOR\n",
    "num3=12\n",
    "num4=11\n",
    "print(\" Using (OR) opearator: \",num3==1 or num4==11) # LOGICAL OR OPERATOR\n",
    "print(\"Using (NOT) operator\",12!=12)"
   ]
  },
  {
   "cell_type": "code",
   "execution_count": 72,
   "id": "1184a9a3-df0e-4c57-92da-25c264443c72",
   "metadata": {},
   "outputs": [
    {
     "name": "stdout",
     "output_type": "stream",
     "text": [
      "452.16\n"
     ]
    }
   ],
   "source": [
    "radius=12\n",
    "print(3.14*radius**2)"
   ]
  },
  {
   "cell_type": "markdown",
   "id": "31a48ac9-badd-4ec6-90ad-2e9c1ad9c805",
   "metadata": {},
   "source": [
    "# Type_Casting of Variables"
   ]
  },
  {
   "cell_type": "code",
   "execution_count": 96,
   "id": "c7e72435-04f6-4b2b-9c10-758076a0d595",
   "metadata": {},
   "outputs": [
    {
     "name": "stdout",
     "output_type": "stream",
     "text": [
      "112.345342\n",
      "<class 'float'>\n",
      "112\n",
      "<class 'int'>\n",
      "112\n"
     ]
    }
   ],
   "source": [
    "# INTEGERS ,FLOAT AND STRING\n",
    "num=112.345342\n",
    "print(num)\n",
    "print(type(num))\n",
    "print(int(num)) # Conversion from float to integer \n",
    "tc=int(num)   \n",
    "print(type(tc)) #Converting float to integer type then assigning to (tc) from (num)\n",
    "print(tc)"
   ]
  },
  {
   "cell_type": "markdown",
   "id": "181a1ca8-5798-48c3-875f-b30098adc803",
   "metadata": {},
   "source": [
    "pocket_money=\"100\"\n",
    "print(int(pocket_money)*2) #Calculation can not be performed on string thus, converting first then performing calculation\n"
   ]
  },
  {
   "cell_type": "code",
   "execution_count": 102,
   "id": "90bc8dc2-faa5-4043-aa6e-eb0c8faa0159",
   "metadata": {},
   "outputs": [
    {
     "name": "stdout",
     "output_type": "stream",
     "text": [
      "1711\n"
     ]
    }
   ],
   "source": [
    "num1=17\n",
    "num2=11\n",
    "print(str(num1)+str(num2)) #Conversion of integer to string type\n"
   ]
  },
  {
   "cell_type": "code",
   "execution_count": 118,
   "id": "d5c85e9a-5819-4789-8054-d1a066112edf",
   "metadata": {},
   "outputs": [
    {
     "name": "stdout",
     "output_type": "stream",
     "text": [
      "(2+4j)\n",
      "Power of   (2+4j)  is : (-12+16j)\n"
     ]
    }
   ],
   "source": [
    "#Type_Casting on (Complex Number)\n",
    "test=complex(2,4)\n",
    "print(test)\n",
    "print(\"Power of  \",test,\" is :\",test**2)#power of(2+4j)\n",
    "      "
   ]
  },
  {
   "cell_type": "markdown",
   "id": "b5e2860d-0bc6-48f1-8caa-71560e98e769",
   "metadata": {},
   "source": [
    "# -------abs function-------------"
   ]
  },
  {
   "cell_type": "markdown",
   "id": "b7f67ba6-8ad0-407a-a8be-450c279aeeb9",
   "metadata": {},
   "source": [
    "*abs function is used to convert a negative number to positive one\n",
    "*Also used to find the absulote value of complex function\n"
   ]
  },
  {
   "cell_type": "code",
   "execution_count": 161,
   "id": "65d973de-1008-4af0-bcbf-cab778e76285",
   "metadata": {},
   "outputs": [
    {
     "name": "stdout",
     "output_type": "stream",
     "text": [
      "23\n",
      "The absulote value of  (2+3j) is : 3.605551275463989\n"
     ]
    }
   ],
   "source": [
    "a=-23\n",
    "print(abs(a)) # -23 to +23\n",
    "com=2+3j\n",
    "print(\"The absulote value of \",com ,\"is :\"  ,abs(com))"
   ]
  },
  {
   "cell_type": "markdown",
   "id": "4acd2248-0d2e-4658-b66b-4065f19672d2",
   "metadata": {},
   "source": [
    "# Length Function ( len() )"
   ]
  },
  {
   "cell_type": "code",
   "execution_count": null,
   "id": "55fb04ec-dc7c-4d53-9cfc-1098a98478d8",
   "metadata": {},
   "outputs": [],
   "source": [
    "* USED TO TELL THE USER ABOUT THE LENGTH OF STRING,LIST \n",
    "* CAN'T BE USED AGAINST INT AND FLOAT\n"
   ]
  },
  {
   "cell_type": "code",
   "execution_count": 181,
   "id": "a52ef983-5374-4a07-b18a-df4c2548c228",
   "metadata": {},
   "outputs": [
    {
     "name": "stdout",
     "output_type": "stream",
     "text": [
      "21\n"
     ]
    }
   ],
   "source": [
    "name=\"Mohammad Umair Hafeez\"\n",
    "print(len(name))"
   ]
  },
  {
   "cell_type": "code",
   "execution_count": 186,
   "id": "742d760b-67ae-4d44-a75e-a51d670a537c",
   "metadata": {},
   "outputs": [
    {
     "name": "stdout",
     "output_type": "stream",
     "text": [
      "3\n"
     ]
    }
   ],
   "source": [
    "marks=[29,22,23]\n",
    "print(len(marks))"
   ]
  },
  {
   "cell_type": "code",
   "execution_count": 190,
   "id": "b610c1d3-17e1-48f0-a3fc-d009deb5094f",
   "metadata": {},
   "outputs": [
    {
     "name": "stdin",
     "output_type": "stream",
     "text": [
      "Enter the value for num1 :  12\n",
      "Enter the value for num2 :  22\n"
     ]
    },
    {
     "name": "stdout",
     "output_type": "stream",
     "text": [
      "34\n"
     ]
    }
   ],
   "source": [
    "num1=int(input(\"Enter the value for num1 : \"))\n",
    "num2=int(input(\"Enter the value for num2 : \"))\n",
    "print(num1+num2) #sum() function is only used to find the sum of iterable objects only\n",
    "\n"
   ]
  },
  {
   "cell_type": "markdown",
   "id": "a6e0cf2d-df40-4766-ae28-79e3c0928268",
   "metadata": {},
   "source": [
    "# BULID IN FUNCTION PART 2"
   ]
  },
  {
   "cell_type": "markdown",
   "id": "91cb1aa6-d3d8-426e-a6c6-477fc15b22fc",
   "metadata": {},
   "source": [
    "# BIN FUNCTION"
   ]
  },
  {
   "cell_type": "code",
   "execution_count": null,
   "id": "bab20a1a-8f4e-47df-ac0e-9d3d9ba114c0",
   "metadata": {},
   "outputs": [],
   "source": [
    "The bin() function in python is used to convert integer number into binary representation as a string prefix  with '0b'\n",
    "it takes an integer as argument and return its binary representation"
   ]
  },
  {
   "cell_type": "code",
   "execution_count": 194,
   "id": "591b0f03-c63f-4779-9227-2786416ed4e0",
   "metadata": {},
   "outputs": [
    {
     "name": "stdout",
     "output_type": "stream",
     "text": [
      "THe binary representation of num1 is : 0b10111\n"
     ]
    }
   ],
   "source": [
    "num1=23\n",
    "print(\"THe binary representation of num1 is :\",bin(num1))"
   ]
  },
  {
   "cell_type": "code",
   "execution_count": 198,
   "id": "9b5dd3e0-7183-4086-a6c3-c7ba6ab425b1",
   "metadata": {
    "scrolled": true
   },
   "outputs": [
    {
     "name": "stdin",
     "output_type": "stream",
     "text": [
      "Enter a number and gets its binary representation : 23\n"
     ]
    },
    {
     "name": "stdout",
     "output_type": "stream",
     "text": [
      "The binary representation of given number is : 0b10111\n"
     ]
    }
   ],
   "source": [
    "num1=int(input(\"Enter a number and gets its binary representation :\" ))\n",
    "print(\"The binary representation of given number is :\",bin(num1))"
   ]
  },
  {
   "cell_type": "markdown",
   "id": "20efd2d9-554c-46db-89c5-448c64130a2b",
   "metadata": {},
   "source": [
    "# Sum Function"
   ]
  },
  {
   "cell_type": "code",
   "execution_count": null,
   "id": "656d1293-d553-4896-9e55-a4676f5708b3",
   "metadata": {},
   "outputs": [],
   "source": [
    "The sum() function in python is used to calculate the sum of elements in an iterable,such as list ,tuple and other iterable objects"
   ]
  },
  {
   "cell_type": "code",
   "execution_count": 14,
   "id": "f5946ff6-5e87-42fa-ade0-1186f3473a3a",
   "metadata": {},
   "outputs": [
    {
     "name": "stdout",
     "output_type": "stream",
     "text": [
      "10\n",
      "20\n",
      "210\n"
     ]
    }
   ],
   "source": [
    "money=[1,2,3,5,-1]\n",
    "num=2\n",
    "print(sum(money))\n",
    "print(sum(money,10))\n",
    "num1=100\n",
    "num2=200\n",
    "total=sum(money,num2)\n",
    "print(total)"
   ]
  },
  {
   "cell_type": "code",
   "execution_count": 236,
   "id": "a7340a3c-0d6c-48ae-9df3-ccb80f4b1420",
   "metadata": {},
   "outputs": [
    {
     "name": "stdout",
     "output_type": "stream",
     "text": [
      "35\n"
     ]
    }
   ],
   "source": [
    "num=[1,2,3,4,5]\n",
    "starting_value=20\n",
    "total=sum(num,starting_value)\n",
    "print(total)"
   ]
  },
  {
   "cell_type": "markdown",
   "id": "da6f592e-8774-497d-8898-ed26c16a6eab",
   "metadata": {},
   "source": [
    "# Eval Function"
   ]
  },
  {
   "cell_type": "code",
   "execution_count": null,
   "id": "4fb821c7-c562-45dd-99e7-1ff2fba3b4db",
   "metadata": {},
   "outputs": [],
   "source": [
    "eval():Evaluates a python expression stored in a string"
   ]
  },
  {
   "cell_type": "code",
   "execution_count": 255,
   "id": "32335594-9271-4878-943f-891f4ea14d10",
   "metadata": {},
   "outputs": [
    {
     "name": "stdout",
     "output_type": "stream",
     "text": [
      "15\n",
      "12.0\n",
      "12.0\n"
     ]
    }
   ],
   "source": [
    "num=\"2+3+1+4+5\"\n",
    "print(eval(num))\n",
    "num1=\"12+12*5/3%3//3\"\n",
    "print(eval(num1)) #if the data is in string form then it is compulsory to use eval() function\n",
    "print(12+12*5/3%3//3)# Evaluating without eval function "
   ]
  },
  {
   "cell_type": "markdown",
   "id": "18cc3cec-e8b9-4881-a6ed-1d558fe8946a",
   "metadata": {},
   "source": [
    "# help() Function"
   ]
  },
  {
   "cell_type": "code",
   "execution_count": null,
   "id": "717e7651-e819-4f02-af3f-a06ae01b2a5a",
   "metadata": {},
   "outputs": [],
   "source": [
    "The python help function is used to display the documentation of modules functions, classes, keywords, etc"
   ]
  },
  {
   "cell_type": "code",
   "execution_count": 268,
   "id": "ec089daa-a34a-4891-8ce3-8b4f38b756f2",
   "metadata": {},
   "outputs": [],
   "source": [
    "help(print) # This function now can share all functions of print in python "
   ]
  },
  {
   "cell_type": "markdown",
   "id": "a722555e-abee-49bb-ab22-7868d098bb84",
   "metadata": {},
   "source": [
    "# Input Function() "
   ]
  },
  {
   "cell_type": "code",
   "execution_count": null,
   "id": "4fa7dbcc-4118-4feb-95d9-60db7d9aafe0",
   "metadata": {},
   "outputs": [],
   "source": [
    "input(): It is used to get input from user .\n",
    "*Initialy the input  entered is in the form of string thus, to get non stringe values we use type_casting"
   ]
  },
  {
   "cell_type": "code",
   "execution_count": 285,
   "id": "8e52fa99-5e27-43dd-bff2-a4518d34deea",
   "metadata": {},
   "outputs": [
    {
     "name": "stdin",
     "output_type": "stream",
     "text": [
      "Enter a number:  12\n",
      "Enter a number:  1\n"
     ]
    },
    {
     "name": "stdout",
     "output_type": "stream",
     "text": [
      "THe sum of num1 and num2 is   121\n"
     ]
    }
   ],
   "source": [
    "num1=input(\"Enter a number: \")#used as string \n",
    "num2=input(\"Enter a number: \")# Used as string \n",
    "print(\"THe sum of num1 and num2 is  \",num1+num2) # thus num1 and num2 value will not added as they are just conanetate as as behavior of string "
   ]
  },
  {
   "cell_type": "code",
   "execution_count": 277,
   "id": "9bc9543d-f744-4877-9c53-3160a5af2165",
   "metadata": {},
   "outputs": [
    {
     "name": "stdin",
     "output_type": "stream",
     "text": [
      "Enter  your age : 17\n"
     ]
    },
    {
     "name": "stdout",
     "output_type": "stream",
     "text": [
      "Is your age is  19\n"
     ]
    }
   ],
   "source": [
    "age=int(input(\"Enter  your age :\"))# Used as an integer thus,we can performed calculation as for integers values...\n",
    "print(\"Is your age is \",age+2)"
   ]
  },
  {
   "cell_type": "code",
   "execution_count": null,
   "id": "c6c4cc51-4d7f-4a85-bdba-86bdae07bf54",
   "metadata": {},
   "outputs": [],
   "source": []
  }
 ],
 "metadata": {
  "kernelspec": {
   "display_name": "Python 3 (ipykernel)",
   "language": "python",
   "name": "python3"
  },
  "language_info": {
   "codemirror_mode": {
    "name": "ipython",
    "version": 3
   },
   "file_extension": ".py",
   "mimetype": "text/x-python",
   "name": "python",
   "nbconvert_exporter": "python",
   "pygments_lexer": "ipython3",
   "version": "3.12.4"
  }
 },
 "nbformat": 4,
 "nbformat_minor": 5
}
