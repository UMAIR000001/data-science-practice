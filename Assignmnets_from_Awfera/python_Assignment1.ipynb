{
 "cells": [
  {
   "cell_type": "markdown",
   "metadata": {},
   "source": [
    " # Question 1: Code Along\n",
    " #  Problem: Write a Python program that takes a string as input and prints out the\n",
    " following:\n",
    "1. The string in reverse order.\n",
    "2. The number of vowels in the string.\n",
    "Instructions:\n",
    "● Use basic string manipulation techniques such as loops, conditionals, and\n",
    "string methods.\n",
    "● Ensure that the program counts both uppercase and lowercase vowels (a, e,\n",
    "i, o, u).\n",
    "Example Input:\n",
    "Enter a string: Hello World\n",
    "Example Output:\n",
    "Reversed string: dlroW olleH\n",
    "Number of vowels: 3 \n"
   ]
  },
  {
   "cell_type": "code",
   "execution_count": 1,
   "metadata": {},
   "outputs": [
    {
     "name": "stdout",
     "output_type": "stream",
     "text": [
      "Reversed string:  \n",
      "number of Vowels:  0\n"
     ]
    }
   ],
   "source": [
    "# Q No:1 Solution\n",
    "string_1=input(\"Enter a string:\")\n",
    "ans=\"\"\n",
    "for x in string_1:\n",
    "    if  x in \"AEIOUaeiou\":\n",
    "        ans+=x\n",
    "print(\"Reversed string: \",string_1[::-1])\n",
    "print(\"number of Vowels: \",len(ans))\n",
    "\n",
    "       \n"
   ]
  },
  {
   "cell_type": "markdown",
   "metadata": {},
   "source": [
    "# Question 2: Hands-on Coding Project\n",
    "# Problem: Create a Python program that:\n",
    "● Takes an input number from the user.\n",
    "● Checks whether the number is even or odd.\n",
    "● Prints the result.\n",
    "Instructions:\n",
    "● Write a Python script that accepts a number from the user, determines\n",
    "whether it is even or odd, and prints the result.\n",
    "● Use conditionals to check if the number is even or odd.\n",
    "Example Input:\n",
    "Enter a number: 5\n",
    "Example Output:\n",
    "The number 5 is Odd"
   ]
  },
  {
   "cell_type": "code",
   "execution_count": 2,
   "metadata": {},
   "outputs": [
    {
     "name": "stdout",
     "output_type": "stream",
     "text": [
      "The number 7 is Odd\n"
     ]
    }
   ],
   "source": [
    "#Q No:2 Solution\n",
    "number=int(input(\"Enter a number: \"))\n",
    "if number%2==0:\n",
    "    print(f\"The number {number} is Even\")\n",
    "elif number%2==1:\n",
    "    print(f\"The number {number} is Odd\")"
   ]
  },
  {
   "cell_type": "markdown",
   "metadata": {},
   "source": [
    "#  Question 3: Virtual Environment Application\n",
    "#  Problem: Create a Python program that:\n",
    "1. Takes a list of integers as input.\n",
    "2. Creates a new virtual environment called sortenv.\n",
    "3. Installs a package (such as numpy) in the virtual environment.\n",
    "4. Sorts the list using a numpy method (numpy.sort()).\n",
    "5. Prints the sorted list.\n",
    "Instructions:\n",
    "● You will not be expected to actually run the environment creation commands\n",
    "but rather simulate what would happen by describing the steps in your code\n",
    "and then focusing on the sorting operation.\n",
    "● Make sure that your program explains each step as comments and performs\n",
    "sorting using numpy.\n",
    "Example Input:\n",
    "Enter a list of numbers: [4, 2, 7, 1, 3]\n",
    "Example Output:\n",
    "Sorted list: [1, 2, 3, 4, 7]"
   ]
  },
  {
   "cell_type": "code",
   "execution_count": 4,
   "metadata": {},
   "outputs": [
    {
     "name": "stdout",
     "output_type": "stream",
     "text": [
      "Sorted list: [0 1 2 3 4 5 6 7 8 9]\n"
     ]
    }
   ],
   "source": [
    "import numpy as np  \n",
    "\n",
    "# Taking a list of integers as input\n",
    "list_of_integer = list(map(int, input(\"Enter a list of numbers separated by spaces: \").split()))\n",
    "# Sorting using NumPy\n",
    "sorted_list = np.sort(list_of_integer)\n",
    "# Printing the sorted list\n",
    "print(\"Sorted list:\", sorted_list)"
   ]
  },
  {
   "cell_type": "markdown",
   "metadata": {},
   "source": [
    "# Alhumdulillah Assignment No:1 Completed"
   ]
  }
 ],
 "metadata": {
  "kernelspec": {
   "display_name": "base",
   "language": "python",
   "name": "python3"
  },
  "language_info": {
   "codemirror_mode": {
    "name": "ipython",
    "version": 3
   },
   "file_extension": ".py",
   "mimetype": "text/x-python",
   "name": "python",
   "nbconvert_exporter": "python",
   "pygments_lexer": "ipython3",
   "version": "3.12.4"
  }
 },
 "nbformat": 4,
 "nbformat_minor": 2
}
