{
 "cells": [
  {
   "cell_type": "markdown",
   "metadata": {},
   "source": [
    "Question 1: Variables and Data Types\n",
    "Problem: Write a Python program that:\n",
    "1. Accepts a string, an integer, a float, and a boolean from the user.\n",
    "2. Initializes variables for each type, and prints them out.\n",
    "3. Convert the string to uppercase and print it.\n",
    "4. Check if the integer is even or odd and print the result.\n",
    "5. Multiply the float by 2 and print the result.\n",
    "Example Input:\n",
    "Enter a string: python\n",
    "Enter an integer: 25\n",
    "Enter a float: 3.14\n",
    "Enter a boolean (True/False): True\n",
    "Example Output:\n",
    "Uppercase String: PYTHON\n",
    "The number 25 is Odd\n",
    "Doubled float: 6.28"
   ]
  },
  {
   "cell_type": "code",
   "execution_count": null,
   "metadata": {},
   "outputs": [
    {
     "name": "stdout",
     "output_type": "stream",
     "text": [
      "Uppercase String :  UMAIR\n",
      "The number 2085 is Odd\n",
      "Doubled float:  5.0\n"
     ]
    }
   ],
   "source": [
    "#Input Block of code\n",
    "string_1=input(\"Enter a string:\")\n",
    "number=int(input(\"Enter an integer:\"))\n",
    "decimal_number=float(input(\"Enter a float:\"))\n",
    "boolean_number=bool(input(\"Enter a boolean (True/False):\"))\n",
    "#Output Display Block of code\n",
    "print(\"Uppercase String : \",string_1.upper())\n",
    "if number%2==0:\n",
    "    print(f\"The number {number} is Even\")\n",
    "else:\n",
    "    print(f\"The number {number} is Odd\")\n",
    "print(\"Doubled float: \",decimal_number*2)\n",
    "\n",
    "\n"
   ]
  },
  {
   "cell_type": "markdown",
   "metadata": {},
   "source": [
    " Question 2: Operators\n",
    " Problem: Write a Python program that:\n",
    "1. Accepts two numbers as input from the user.\n",
    "2. Performs and prints the result of all the arithmetic operations (addition,\n",
    "subtraction, multiplication, division, modulus, flow division) between these\n",
    "two numbers.\n",
    "3. Use comparison operators to check if the first number is greater than the\n",
    "second, and if they are equal.\n",
    "4. Use logical operators to combine two conditions (e.g., the first number is\n",
    "greater than the second, and the second number is less than 10).\n",
    "Example Input:\n",
    "Enter the first number: 10\n",
    "Enter the second number: 3\n",
    "Example Output:\n",
    "Addition: 13\n",
    "Subtraction: 7\n",
    "Multiplication: 30\n",
    "Division: 3.3333333333333335\n",
    "Modulus: 1\n",
    "Flow Division: 3\n",
    "First number is greater than second: True\n",
    "First number is equal to second: False\n",
    "Both conditions are true: True"
   ]
  },
  {
   "cell_type": "code",
   "execution_count": null,
   "metadata": {},
   "outputs": [
    {
     "name": "stdout",
     "output_type": "stream",
     "text": [
      "Addition 13\n",
      "Subtraction 7\n",
      "Multiplication 30\n",
      "Division 3.3333333333333335\n",
      "Modulus 1\n",
      "Flow Division 3\n",
      "First number is grater than second :  True\n",
      "First number is equal to second : False\n",
      "Both conditions are true : True\n"
     ]
    }
   ],
   "source": [
    "#Taking numbers from user\n",
    "num1=int(input(\"Enter the first number :\"))\n",
    "num2=int(input(\"Enter the second number :\"))\n",
    "#Performing Arithematic Operations\n",
    "print(\"Addition\",num1+num2)\n",
    "print(\"Subtraction\",num1-num2)\n",
    "print(\"Multiplication\",num1*num2)\n",
    "print(\"Division\",num1/num2)\n",
    "print(\"Modulus\",num1%num2)\n",
    "print(\"Flow Division\",num1//num2)\n",
    "#use of Comparison Logical Operatiosn\n",
    "print(f\"First number is grater than second : \",num1>num2)\n",
    "print(f\"First number is equal to second :\",num1==num2)\n",
    "print(\"Both conditions are true :\",num1>num2 and num2<10)"
   ]
  },
  {
   "cell_type": "code",
   "execution_count": null,
   "metadata": {},
   "outputs": [],
   "source": [
    "'''Question 3: Loops\n",
    "Problem: Write a Python program that:\n",
    "1. Accepts a list of integers from the user.\n",
    "2. Loops through the list and prints out each number.\n",
    "3. If a number is greater than 10, skip it using the continue statement.\n",
    "4. Stop the loop if the number is 20 using the break statement.\n",
    "5. After the loop ends, print a message that the loop ended naturally.\n",
    "Example Input:\n",
    "Enter a list of numbers separated by spaces: 5 10 12 15 20 8\n",
    "Example Output:\n",
    "5\n",
    "10\n",
    "Skipping 12\n",
    "15\n",
    "Breaking at 20\n",
    "\n",
    "Loop ended naturally'''"
   ]
  },
  {
   "cell_type": "code",
   "execution_count": 5,
   "metadata": {},
   "outputs": [
    {
     "name": "stdout",
     "output_type": "stream",
     "text": [
      "5\n",
      "10\n",
      "8\n",
      "Loop ended naturally\n"
     ]
    }
   ],
   "source": [
    "#taking a list from user\n",
    "list_of_integer = list(map(int, input(\"Enter a list of numbers separated by spaces: \").split()))\n",
    "for x in list_of_integer:\n",
    "    \n",
    "    if x>10:\n",
    "        continue\n",
    "    print(x)\n",
    "    if x==20:\n",
    "        break\n",
    "    #message will be printed after thr lopp ended\n",
    "print(\"Loop ended naturally\")"
   ]
  }
 ],
 "metadata": {
  "kernelspec": {
   "display_name": "Python 3",
   "language": "python",
   "name": "python3"
  },
  "language_info": {
   "codemirror_mode": {
    "name": "ipython",
    "version": 3
   },
   "file_extension": ".py",
   "mimetype": "text/x-python",
   "name": "python",
   "nbconvert_exporter": "python",
   "pygments_lexer": "ipython3",
   "version": "3.13.1"
  }
 },
 "nbformat": 4,
 "nbformat_minor": 2
}
