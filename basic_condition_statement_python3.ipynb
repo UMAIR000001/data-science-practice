{
 "cells": [
  {
   "cell_type": "code",
   "execution_count": 1,
   "id": "e9ef61e5-1e54-489c-ad13-839ef75c41b0",
   "metadata": {},
   "outputs": [
    {
     "ename": "SyntaxError",
     "evalue": "invalid syntax (2514686296.py, line 1)",
     "output_type": "error",
     "traceback": [
      "\u001b[1;36m  Cell \u001b[1;32mIn[1], line 1\u001b[1;36m\u001b[0m\n\u001b[1;33m    -----Day No 4------\u001b[0m\n\u001b[1;37m             ^\u001b[0m\n\u001b[1;31mSyntaxError\u001b[0m\u001b[1;31m:\u001b[0m invalid syntax\n"
     ]
    }
   ],
   "source": [
    " -----Day No 4------"
   ]
  },
  {
   "cell_type": "code",
   "execution_count": null,
   "id": "0d2ac083-4c6c-4f44-9f29-5c7bed43e9ff",
   "metadata": {},
   "outputs": [
    {
     "name": "stdout",
     "output_type": "stream",
     "text": [
      "Enter your expression that you are going to evaluate : 2+3\n",
      "Enter your Answer : 4\n"
     ]
    },
    {
     "name": "stdout",
     "output_type": "stream",
     "text": [
      "Try agian,your evauation is not correct \n"
     ]
    }
   ],
   "source": [
    "Lecture---No:6 Speical class for developing a project using day 1,2 and 3 stuffs \n"
   ]
  },
  {
   "cell_type": "code",
   "execution_count": null,
   "id": "085ab051-6607-487f-9bfe-a5a12f1d9edf",
   "metadata": {},
   "outputs": [],
   "source": [
    "                          #  ****Q No:01****\n",
    "expression=input(\"Enter the mathematical expression that you are going to solve : \")\n",
    "result=eval(expression)\n",
    "print(\"The result of the expression is : \",result)\n",
    "print(\"Thank you for participating in the math competition \")"
   ]
  },
  {
   "cell_type": "code",
   "execution_count": null,
   "id": "593968c4-1892-449c-97bd-6761ee17a84a",
   "metadata": {},
   "outputs": [
    {
     "name": "stdout",
     "output_type": "stream",
     "text": [
      "Enter your expression that you are going to evaluate : a\n",
      "Enter your Answer : 1\n"
     ]
    },
    {
     "ename": "NameError",
     "evalue": "name 'a' is not defined",
     "output_type": "error",
     "traceback": [
      "\u001b[1;31m---------------------------------------------------------------------------\u001b[0m",
      "\u001b[1;31mNameError\u001b[0m                                 Traceback (most recent call last)",
      "Cell \u001b[1;32mIn[35], line 5\u001b[0m\n\u001b[0;32m      3\u001b[0m exp\u001b[38;5;241m=\u001b[39m(\u001b[38;5;28minput\u001b[39m(\u001b[38;5;124m\"\u001b[39m\u001b[38;5;124mEnter your expression that you are going to evaluate :\u001b[39m\u001b[38;5;124m\"\u001b[39m))\n\u001b[0;32m      4\u001b[0m ans\u001b[38;5;241m=\u001b[39m\u001b[38;5;28mint\u001b[39m(\u001b[38;5;28minput\u001b[39m(\u001b[38;5;124m\"\u001b[39m\u001b[38;5;124mEnter your Answer :\u001b[39m\u001b[38;5;124m\"\u001b[39m))\n\u001b[1;32m----> 5\u001b[0m correct_exp\u001b[38;5;241m=\u001b[39m\u001b[38;5;28meval\u001b[39m(exp)\n\u001b[0;32m      6\u001b[0m \u001b[38;5;28;01mif\u001b[39;00m(correct_exp\u001b[38;5;241m==\u001b[39mans):\n\u001b[0;32m      7\u001b[0m     \u001b[38;5;28mprint\u001b[39m(\u001b[38;5;124m\"\u001b[39m\u001b[38;5;124mCongratulation you evaluates the expression correctly ...\u001b[39m\u001b[38;5;124m\"\u001b[39m)\n",
      "File \u001b[1;32m<string>:1\u001b[0m\n",
      "\u001b[1;31mNameError\u001b[0m: name 'a' is not defined"
     ]
    }
   ],
   "source": [
    "                          #  ****Q No:01****\n",
    "#Using Conditional Statements \n",
    "exp=(input(\"Enter your expression that you are going to evaluate :\"))\n",
    "ans=int(input(\"Enter your Answer :\"))\n",
    "correct_exp=eval(exp)\n",
    "if(correct_exp==ans):\n",
    "    print(\"Congratulation you evaluates the expression correctly ...\")\n",
    "else:\n",
    "    print(\"Try agian,your evauation is not correct \")"
   ]
  },
  {
   "cell_type": "markdown",
   "id": "ffac8b85-95ff-4124-a465-fef25affe874",
   "metadata": {},
   "source": [
    "# LECTURE NO 7"
   ]
  },
  {
   "cell_type": "code",
   "execution_count": null,
   "id": "d7ecd24e-f88a-43b5-ad21-25309eafba91",
   "metadata": {},
   "outputs": [
    {
     "name": "stdout",
     "output_type": "stream",
     "text": [
      "Enter your marks[0-100] : 11\n"
     ]
    },
    {
     "name": "stdout",
     "output_type": "stream",
     "text": [
      "Try next time! you are failed... \n"
     ]
    }
   ],
   "source": [
    "#Day -----\n",
    "#CONDITIONAL STATEMENTS IN PYTHON\n",
    "#1:if statement\n",
    "#2:if-else statement \n",
    "#3:if elif else statemnet\n",
    "#4:nested statement\n",
    "#Using if elif else\n",
    "marks=int(input(\"Enter your marks[0-100] :\"))\n",
    "if(marks>=90 ):\n",
    "    print(\"Mubarak hu ap nay achieve keya A grade\")\n",
    "elif(marks>=80):\n",
    "    print(\"Mubarak hu ap nay achieve keya B grade\")\n",
    "elif(marks>=70):\n",
    "    print(\"Mubarak hu ap nay achieve keya C grade\")\n",
    "elif(marks>=60):\n",
    "    print(\"Mubarak hu ap nay achieve keya D grade\")\n",
    "elif(marks>=50):\n",
    "    print(\"Mubarak hu ap nay achieve keya E grade\")\n",
    "elif(marks<50):\n",
    "    print(\"Try next time! you are failed... \")\n",
    "else:\n",
    "    print(\"Invaild marks\")"
   ]
  },
  {
   "cell_type": "code",
   "execution_count": null,
   "id": "22564f99-1846-4894-bf26-3a3a73021f34",
   "metadata": {},
   "outputs": [],
   "source": [
    " -----Day No 5------"
   ]
  },
  {
   "cell_type": "code",
   "execution_count": null,
   "id": "36ecdde0-3785-4c9a-a6a1-a464fbe192ea",
   "metadata": {},
   "outputs": [
    {
     "name": "stdout",
     "output_type": "stream",
     "text": [
      "Enter your marks[0-100] : 00\n"
     ]
    },
    {
     "name": "stdout",
     "output_type": "stream",
     "text": [
      "Try next time! you are failed... \n"
     ]
    }
   ],
   "source": [
    "\n",
    "#CONDITIONAL STATEMENTS IN PYTHON\n",
    "#1:if statement\n",
    "#2:if-else statement \n",
    "#3:if elif else statemnet\n",
    "#4:nested statement\n",
    "#Using if elif else\n",
    "marks=int(input(\"Enter your marks[0-100] :\"))\n",
    "if(marks>=90):\n",
    "    print(\"Mubarak hu ap nay achieve keya A grade\")5\n",
    "elif(marks>=80):\n",
    "    print(\"Mubarak hu ap nay achieve keya B grade\")\n",
    "elif(marks>=70):\n",
    "    print(\"Mubarak hu ap nay achieve keya C grade\")\n",
    "elif(marks>=60):\n",
    "    print(\"Mubarak hu ap nay achieve keya D grade\")\n",
    "elif(marks>=50):\n",
    "    print(\"Mubarak hu ap nay achieve keya E grade\")\n",
    "elif(marks<50):\n",
    "    print(\"Try next time! you are failed... \")\n",
    "else:\n",
    "    print(\"Invaild marks\")"
   ]
  },
  {
   "cell_type": "code",
   "execution_count": null,
   "id": "cdd1816b-8d42-4c1d-9048-e01f05ed797c",
   "metadata": {},
   "outputs": [
    {
     "name": "stdout",
     "output_type": "stream",
     "text": [
      "Enter Your charater and gets its status : u\n"
     ]
    },
    {
     "name": "stdout",
     "output_type": "stream",
     "text": [
      "You Entered a Vowel\n"
     ]
    }
   ],
   "source": [
    "# Using if elif else satement for Vowel and and Consonant Charater of English Alphamets \n",
    "ch=input(\"Enter Your charater and gets its status :\")\n",
    "if(ch==\"A\" or ch==\"a\"):\n",
    " print(\"You Entered a Vowel\")\n",
    "elif(ch==\"E\" or ch==\"e\"):\n",
    " print(\"You Entered a Vowel\")\n",
    "elif(ch==\"I\" or ch==\"i\"):\n",
    " print(\"You Entered a Vowel\")\n",
    "elif(ch==\"O\" or ch==\"o\"):\n",
    " print(\"You Entered a Vowel\")\n",
    "elif(ch==\"U\" or ch==\"u\"):\n",
    " print(\"You Entered a Vowel\")\n",
    "else:\n",
    " print(\"You Entered a Consonant\")\n"
   ]
  },
  {
   "cell_type": "markdown",
   "id": "c107250c-7d90-4d33-8c7c-1f91e5223d75",
   "metadata": {},
   "source": [
    "# LECTURE 8"
   ]
  },
  {
   "cell_type": "markdown",
   "id": "d6c58f24-3817-4ee9-9a6e-395240b1811c",
   "metadata": {},
   "source": [
    "# LOOP IN PYTHON"
   ]
  },
  {
   "cell_type": "code",
   "execution_count": null,
   "id": "04220886-c07e-4019-9c7e-ffaa5d0b0e41",
   "metadata": {},
   "outputs": [
    {
     "ename": "IndentationError",
     "evalue": "unexpected indent (1108464327.py, line 6)",
     "output_type": "error",
     "traceback": [
      "\u001b[1;36m  Cell \u001b[1;32mIn[53], line 6\u001b[1;36m\u001b[0m\n\u001b[1;33m    if(num%2==0):\u001b[0m\n\u001b[1;37m    ^\u001b[0m\n\u001b[1;31mIndentationError\u001b[0m\u001b[1;31m:\u001b[0m unexpected indent\n"
     ]
    }
   ],
   "source": [
    "#THERE ARE ONLY TWO LOOPS IN PYTHON \n",
    "#1:While Loop :Used When the number of iteration is \"Unknown\"\n",
    "#2:For Loop:Used When the number of iteration is \"Known\"\n",
    "num=1\n",
    "while(num<=50):\n",
    "    if(num%2==0):# Condition for printing only even numbers\n",
    "        print(num);\n",
    "    num+=1"
   ]
  },
  {
   "cell_type": "code",
   "execution_count": null,
   "id": "5e9bd33d-f4b2-499c-aeea-e3f54be06f91",
   "metadata": {},
   "outputs": [
    {
     "name": "stdout",
     "output_type": "stream",
     "text": [
      "Enter your email ID : Umairhafeez951@com\n"
     ]
    },
    {
     "name": "stdout",
     "output_type": "stream",
     "text": [
      "Sorry brother! your email is invalid. Try again... \n"
     ]
    },
    {
     "name": "stdout",
     "output_type": "stream",
     "text": [
      "Enter your valid email again Umair@\n"
     ]
    },
    {
     "name": "stdout",
     "output_type": "stream",
     "text": [
      "Sorry brother! your email is invalid. Try again... \n"
     ]
    },
    {
     "name": "stdout",
     "output_type": "stream",
     "text": [
      "Enter your valid email again @.\n"
     ]
    },
    {
     "name": "stdout",
     "output_type": "stream",
     "text": [
      "Waha bhai ! your email is valid \n"
     ]
    }
   ],
   "source": [
    "email=input(\"Enter your email ID :\")\n",
    "valid_email=True\n",
    "while(valid_email==True):\n",
    "    if(\"@\" in email and \".\" in email):\n",
    "        print(\"Waha bhai ! your email is valid \")\n",
    "        valid_email=False\n",
    "    else:\n",
    "        print(\"Sorry brother! your email is invalid. Try again... \")\n",
    "        email=input(\"Enter your valid email again\")"
   ]
  },
  {
   "cell_type": "code",
   "execution_count": null,
   "id": "efa37416-d2b1-406b-a4ae-5be9a477a499",
   "metadata": {},
   "outputs": [
    {
     "name": "stdout",
     "output_type": "stream",
     "text": [
      "Enter a number and gets its table : 12\n"
     ]
    },
    {
     "name": "stdout",
     "output_type": "stream",
     "text": [
      "12 X 1 = 12\n",
      "12 X 2 = 24\n",
      "12 X 3 = 36\n",
      "12 X 4 = 48\n",
      "12 X 5 = 60\n",
      "12 X 6 = 72\n",
      "12 X 7 = 84\n",
      "12 X 8 = 96\n",
      "12 X 9 = 108\n",
      "12 X 10 = 120\n"
     ]
    }
   ],
   "source": [
    "table=int(input(\"Enter a number and gets its table :\"))\n",
    "i=1\n",
    "while(i<=10):\n",
    "   # print(table,\"X\",i,\"=\",table*i)\n",
    "  # Using f-string formatting  print(f\"{table} X {i} = {table*i}\")\n",
    "    i+=1"
   ]
  },
  {
   "cell_type": "markdown",
   "id": "7ac889ff-68c3-4c08-9ead-46584ebfe3ba",
   "metadata": {},
   "source": [
    "# For Loop"
   ]
  },
  {
   "cell_type": "code",
   "execution_count": null,
   "id": "116d9626-a1a4-43ab-a812-ddf76142dac6",
   "metadata": {},
   "outputs": [],
   "source": [
    "def:It is used in python to iterate in the sequences such as lists,tubles,strings,dictionaries and ranges.It allows you to executes a block of code for\n",
    "each iteam in the sequence                                                                                                                                              "
   ]
  },
  {
   "cell_type": "code",
   "execution_count": null,
   "id": "ed93be28-dd01-4641-be72-7cd580f8d56d",
   "metadata": {},
   "outputs": [
    {
     "name": "stdout",
     "output_type": "stream",
     "text": [
      "M\n",
      "o\n",
      "h\n",
      "a\n",
      "m\n",
      "m\n",
      "a\n",
      "d\n"
     ]
    }
   ],
   "source": [
    "name=\"Mohammad\" # String\n",
    "for x in name:\n",
    "  print(x)"
   ]
  },
  {
   "cell_type": "code",
   "execution_count": null,
   "id": "7bfbe996-9f74-47db-8018-0c1579157a3e",
   "metadata": {},
   "outputs": [
    {
     "name": "stdout",
     "output_type": "stream",
     "text": [
      "1\n",
      "2\n",
      "3\n",
      "4\n",
      "5\n"
     ]
    }
   ],
   "source": [
    "n=[1,2,3,4,5] # list\n",
    "for x in n:\n",
    "    print(x)"
   ]
  },
  {
   "cell_type": "code",
   "execution_count": null,
   "id": "bce06f60-b7d4-4eea-95a8-af36f1f9995f",
   "metadata": {},
   "outputs": [
    {
     "name": "stdout",
     "output_type": "stream",
     "text": [
      "1\n",
      "2\n",
      "3\n",
      "4\n",
      "5\n",
      "6\n",
      "7\n",
      "8\n",
      "9\n",
      "10\n"
     ]
    }
   ],
   "source": [
    "for x in range(1,11): # Using Range With For Loop\n",
    "    print(x)"
   ]
  },
  {
   "cell_type": "markdown",
   "id": "45179676-738f-4a6d-9720-ac6b54f0fb63",
   "metadata": {},
   "source": [
    "# For and If Condition"
   ]
  },
  {
   "cell_type": "code",
   "execution_count": 1,
   "id": "a1ce45e8-3977-4c70-8cf1-61ceeb98323b",
   "metadata": {},
   "outputs": [
    {
     "name": "stdout",
     "output_type": "stream",
     "text": [
      "The number is even : 0\n",
      "The number is odd : 1\n",
      "The number is even : 2\n",
      "The number is odd : 3\n",
      "The number is even : 4\n",
      "The number is odd : 5\n",
      "The number is even : 6\n",
      "The number is odd : 7\n",
      "The number is even : 8\n",
      "The number is odd : 9\n",
      "The number is even : 10\n",
      "The number is odd : 11\n",
      "The number is even : 12\n",
      "The number is odd : 13\n",
      "The number is even : 14\n",
      "The number is odd : 15\n",
      "The number is even : 16\n",
      "The number is odd : 17\n",
      "The number is even : 18\n",
      "The number is odd : 19\n",
      "The number is even : 20\n",
      "The number is odd : 21\n",
      "The number is even : 22\n",
      "The number is odd : 23\n",
      "The number is even : 24\n",
      "The number is odd : 25\n"
     ]
    }
   ],
   "source": [
    "for x in range(26):\n",
    "    if(x%2==0):\n",
    "        print(\"The number is even :\",x)\n",
    "    else:\n",
    "      print(\"The number is odd :\",x)"
   ]
  },
  {
   "cell_type": "code",
   "execution_count": null,
   "id": "ad9afad0-ea53-48fc-a469-73bec3ff79d1",
   "metadata": {},
   "outputs": [
    {
     "name": "stdout",
     "output_type": "stream",
     "text": [
      "Enter a number and generate its table : 9\n"
     ]
    },
    {
     "name": "stdout",
     "output_type": "stream",
     "text": [
      "9 X 1 = 9\n",
      "9 X 2 = 18\n",
      "9 X 3 = 27\n",
      "9 X 4 = 36\n",
      "9 X 5 = 45\n",
      "9 X 6 = 54\n",
      "9 X 7 = 63\n",
      "9 X 8 = 72\n",
      "9 X 9 = 81\n",
      "9 X 10 = 90\n"
     ]
    }
   ],
   "source": [
    "# Using Range and for loop for generating a user_given Table \n",
    "num=int(input(\"Enter a number and generate its table :\"))\n",
    "for x in range(1,11):\n",
    "  # f-string formatting \n",
    "    print(f\"{num} X {x} = {num*x}\")"
   ]
  },
  {
   "cell_type": "code",
   "execution_count": null,
   "id": "e90cfa6a-83f6-45b7-a148-450743a37559",
   "metadata": {},
   "outputs": [
    {
     "name": "stdout",
     "output_type": "stream",
     "text": [
      "Enter a number a generate its table : 12\n"
     ]
    },
    {
     "name": "stdout",
     "output_type": "stream",
     "text": [
      "12  X  1  =  12\n",
      "12  X  2  =  24\n",
      "12  X  3  =  36\n",
      "12  X  4  =  48\n",
      "12  X  5  =  60\n",
      "12  X  6  =  72\n",
      "12  X  7  =  84\n",
      "12  X  8  =  96\n",
      "12  X  9  =  108\n",
      "12  X  10  =  120\n"
     ]
    }
   ],
   "source": [
    "num=int(input(\"Enter a number a generate its table :\"))\n",
    "for x in range(1,11):\n",
    "    print( num,\" X \" ,x,\" = \", num*x)"
   ]
  },
  {
   "cell_type": "code",
   "execution_count": null,
   "id": "3b127dfb-76d1-4e8e-8d6b-85efc0fa54a6",
   "metadata": {},
   "outputs": [
    {
     "name": "stdout",
     "output_type": "stream",
     "text": [
      "The Sum of 12 and 12 = 24\n"
     ]
    }
   ],
   "source": [
    "# Used of f-string formatting in the program .\n",
    "# Why should we use it ?\n",
    "# Answer: Makes the codes more readable and focuses on simplicity.\n",
    "#Usage: Performing Calculations,Combining Text and Expressions\n",
    "\n",
    "num1=12\n",
    "num2=12\n",
    "print(f\"The Sum of {num1} and {num2} = {num1+num2}\")"
   ]
  },
  {
   "cell_type": "code",
   "execution_count": null,
   "id": "0d394fc1-6b42-44d6-9546-c52482814b22",
   "metadata": {},
   "outputs": [
    {
     "name": "stdout",
     "output_type": "stream",
     "text": [
      "Enter the number of items you are going to purchase:  2\n",
      "Enter the price of item 1: $ 50\n",
      "Enter the price of item 2: $ 50\n"
     ]
    },
    {
     "name": "stdout",
     "output_type": "stream",
     "text": [
      "The Sub-Total price after a 50% discount is: $50.00\n"
     ]
    }
   ],
   "source": [
    "# Code generated by Chatgpt\n",
    "items = int(input(\"Enter the number of items you are going to purchase: \"))\n",
    "i = 1\n",
    "total = 0\n",
    "\n",
    "while i <= items:\n",
    "    sale = float(input(f\"Enter the price of item {i}: $\"))\n",
    "    total += sale\n",
    "    i += 1\n",
    "\n",
    "# Applying discount based on total\n",
    "if total >= 100:\n",
    "    discounted_total = total - (0.5 * total)  # 50% discount\n",
    "    print(f\"The Sub-Total price after a 50% discount is: ${discounted_total:.2f}\")\n",
    "elif 50 < total < 100:\n",
    "    discounted_total = total - (0.1 * total)  # 10% discount\n",
    "    print(f\"The Sub-Total price after a 10% discount is: ${discounted_total:.2f}\")\n",
    "else:\n",
    "    print(f\"The Total price is: ${total:.2f}\")\n"
   ]
  },
  {
   "cell_type": "code",
   "execution_count": null,
   "id": "1ea7ac21-393a-467e-9304-a6c4cf41d296",
   "metadata": {},
   "outputs": [
    {
     "name": "stdout",
     "output_type": "stream",
     "text": [
      "Enter the number of items you are going to purchase :  2\n",
      "Enter the item price $ 10\n",
      "Enter the item price $ 10\n"
     ]
    },
    {
     "name": "stdout",
     "output_type": "stream",
     "text": [
      "The Sub-Total price is  20.0\n"
     ]
    }
   ],
   "source": [
    "# -----Code By Umair------ \n",
    "items=int(input(\"Enter the number of items you are going to purchase : \"))\n",
    "total=0.0\n",
    "sales=0\n",
    "i=1\n",
    "while i<=items:\n",
    "    sales=float(input(\"Enter the item price $\"))\n",
    "    i+=1\n",
    "    total=total+sales\n",
    "if(total>=100):\n",
    "    discount=total-(0.5*total)\n",
    "    print(\"The Sub-Total price after the 50% Discount is\",discount)\n",
    "elif(50<total<100):\n",
    "    discount=total-(0.1*total)\n",
    "    print(\"The Sub-Total price after the 10% Discount is \",discount)\n",
    "else:\n",
    "     print(\"The Sub-Total price is \",total)\n",
    "\n",
    "\n",
    "    \n"
   ]
  },
  {
   "cell_type": "code",
   "execution_count": null,
   "id": "56669d83-50ed-4d14-a668-2034a556de87",
   "metadata": {},
   "outputs": [
    {
     "ename": "KeyboardInterrupt",
     "evalue": "Interrupted by user",
     "output_type": "error",
     "traceback": [
      "\u001b[1;31m---------------------------------------------------------------------------\u001b[0m",
      "\u001b[1;31mKeyboardInterrupt\u001b[0m                         Traceback (most recent call last)",
      "Cell \u001b[1;32mIn[10], line 1\u001b[0m\n\u001b[1;32m----> 1\u001b[0m num_items\u001b[38;5;241m=\u001b[39m\u001b[38;5;28mint\u001b[39m(\u001b[38;5;28minput\u001b[39m(\u001b[38;5;124m\"\u001b[39m\u001b[38;5;124mEnter the number of item :\u001b[39m\u001b[38;5;124m\"\u001b[39m))\n\u001b[0;32m      2\u001b[0m total_price\u001b[38;5;241m=\u001b[39m\u001b[38;5;241m0\u001b[39m\n\u001b[0;32m      3\u001b[0m \u001b[38;5;28;01mfor\u001b[39;00m x \u001b[38;5;129;01min\u001b[39;00m \u001b[38;5;28mrange\u001b[39m(num_items):\n",
      "File \u001b[1;32m~\\anaconda3\\Lib\\site-packages\\ipykernel\\kernelbase.py:1262\u001b[0m, in \u001b[0;36mKernel.raw_input\u001b[1;34m(self, prompt)\u001b[0m\n\u001b[0;32m   1260\u001b[0m     msg \u001b[38;5;241m=\u001b[39m \u001b[38;5;124m\"\u001b[39m\u001b[38;5;124mraw_input was called, but this frontend does not support input requests.\u001b[39m\u001b[38;5;124m\"\u001b[39m\n\u001b[0;32m   1261\u001b[0m     \u001b[38;5;28;01mraise\u001b[39;00m StdinNotImplementedError(msg)\n\u001b[1;32m-> 1262\u001b[0m \u001b[38;5;28;01mreturn\u001b[39;00m \u001b[38;5;28mself\u001b[39m\u001b[38;5;241m.\u001b[39m_input_request(\n\u001b[0;32m   1263\u001b[0m     \u001b[38;5;28mstr\u001b[39m(prompt),\n\u001b[0;32m   1264\u001b[0m     \u001b[38;5;28mself\u001b[39m\u001b[38;5;241m.\u001b[39m_parent_ident[\u001b[38;5;124m\"\u001b[39m\u001b[38;5;124mshell\u001b[39m\u001b[38;5;124m\"\u001b[39m],\n\u001b[0;32m   1265\u001b[0m     \u001b[38;5;28mself\u001b[39m\u001b[38;5;241m.\u001b[39mget_parent(\u001b[38;5;124m\"\u001b[39m\u001b[38;5;124mshell\u001b[39m\u001b[38;5;124m\"\u001b[39m),\n\u001b[0;32m   1266\u001b[0m     password\u001b[38;5;241m=\u001b[39m\u001b[38;5;28;01mFalse\u001b[39;00m,\n\u001b[0;32m   1267\u001b[0m )\n",
      "File \u001b[1;32m~\\anaconda3\\Lib\\site-packages\\ipykernel\\kernelbase.py:1305\u001b[0m, in \u001b[0;36mKernel._input_request\u001b[1;34m(self, prompt, ident, parent, password)\u001b[0m\n\u001b[0;32m   1302\u001b[0m \u001b[38;5;28;01mexcept\u001b[39;00m \u001b[38;5;167;01mKeyboardInterrupt\u001b[39;00m:\n\u001b[0;32m   1303\u001b[0m     \u001b[38;5;66;03m# re-raise KeyboardInterrupt, to truncate traceback\u001b[39;00m\n\u001b[0;32m   1304\u001b[0m     msg \u001b[38;5;241m=\u001b[39m \u001b[38;5;124m\"\u001b[39m\u001b[38;5;124mInterrupted by user\u001b[39m\u001b[38;5;124m\"\u001b[39m\n\u001b[1;32m-> 1305\u001b[0m     \u001b[38;5;28;01mraise\u001b[39;00m \u001b[38;5;167;01mKeyboardInterrupt\u001b[39;00m(msg) \u001b[38;5;28;01mfrom\u001b[39;00m \u001b[38;5;28;01mNone\u001b[39;00m\n\u001b[0;32m   1306\u001b[0m \u001b[38;5;28;01mexcept\u001b[39;00m \u001b[38;5;167;01mException\u001b[39;00m:\n\u001b[0;32m   1307\u001b[0m     \u001b[38;5;28mself\u001b[39m\u001b[38;5;241m.\u001b[39mlog\u001b[38;5;241m.\u001b[39mwarning(\u001b[38;5;124m\"\u001b[39m\u001b[38;5;124mInvalid Message:\u001b[39m\u001b[38;5;124m\"\u001b[39m, exc_info\u001b[38;5;241m=\u001b[39m\u001b[38;5;28;01mTrue\u001b[39;00m)\n",
      "\u001b[1;31mKeyboardInterrupt\u001b[0m: Interrupted by user"
     ]
    }
   ],
   "source": [
    "num_items=int(input(\"Enter the number of item :\"))\n",
    "total_price=0\n",
    "for x in range(num_items):\n",
    "    price=float(input(\"Enter the price of item :\"))\n",
    "    total_price=total_price+price\n",
    "    x=x+1\n",
    "if(total_price>=100):\n",
    "    discount=total_price-(0.5*total_price)\n",
    "    print(\"after 50% discount is :\",discount)\n",
    "elif(50<total_price<100):\n",
    "    discount=total_price-(0.1*total_price)\n",
    "    print(\"after 10% discount is :\",discount)\n",
    "else:\n",
    "    print(\"The Sub_total price is :\",total_price)\n",
    "    \n",
    "\n",
    "\n",
    "    "
   ]
  },
  {
   "cell_type": "markdown",
   "id": "526fd191-6412-4875-a323-27fea262c8e7",
   "metadata": {},
   "source": [
    "# Break and Continue Statement"
   ]
  },
  {
   "cell_type": "code",
   "execution_count": null,
   "id": "48b37400-0da3-4f52-9382-4176fc9153e6",
   "metadata": {},
   "outputs": [],
   "source": [
    "# Break Statement: We can use Break Statement with the loop to terminates\n",
    "# the \"loop\" when a certain  condition is met. \n",
    "#* Whenever we start a loop we want it to stop and exit at a speciified spot.\n",
    "#Continue Statement : Whenever in loop we wants to skip \"A particular\n",
    "# iteration of a loop\" then we use continue Statement \n"
   ]
  },
  {
   "cell_type": "code",
   "execution_count": null,
   "id": "dccd75d5-e3dd-4fd7-b861-3d186a475705",
   "metadata": {},
   "outputs": [],
   "source": [
    "marks=int(input(\"Enter your marks\"))\n",
    "while True:\n",
    "    if(marks>=50):\n",
    "        print(\"Mubarak hu ap pass hu\")\n",
    "        break\n",
    "    else:\n",
    "         print(\"Unfortunately,You are fail but try again \")\n",
    "         marks=int(input(\"Enter your marks\"))\n",
    "        \n",
    "        "
   ]
  },
  {
   "cell_type": "code",
   "execution_count": null,
   "id": "fd3300e7-f381-4e3a-814f-bd5b7388ead2",
   "metadata": {},
   "outputs": [
    {
     "name": "stdout",
     "output_type": "stream",
     "text": [
      "0\n",
      "1\n",
      "2\n",
      "3\n",
      "4\n"
     ]
    }
   ],
   "source": [
    "for x in range(11):\n",
    "    if(x==5):\n",
    "        break # Due to break statement the loop is terminated when the condition is true(x==5)\n",
    "    print(x)"
   ]
  },
  {
   "cell_type": "code",
   "execution_count": null,
   "id": "1d80b0ce-09d9-4da4-a87f-e6697088a96c",
   "metadata": {},
   "outputs": [
    {
     "name": "stdout",
     "output_type": "stream",
     "text": [
      "0\n",
      "1\n",
      "2\n",
      "3\n",
      "4\n",
      "6\n",
      "7\n",
      "8\n",
      "9\n",
      "10\n"
     ]
    }
   ],
   "source": [
    "for x in range(11):\n",
    "    if(x==5):\n",
    "        continue # Due to continue statement the specific  iteration will be skiped in the above case when x==5 the iteration will be skiped... \n",
    "    print(x)"
   ]
  },
  {
   "cell_type": "markdown",
   "id": "281a0fb2",
   "metadata": {},
   "source": [
    "# match_Statement() "
   ]
  },
  {
   "cell_type": "code",
   "execution_count": null,
   "id": "08a82112",
   "metadata": {},
   "outputs": [],
   "source": [
    "'''match_statement:A match statement works like switch satement  in c++ and c.\n",
    "where a Statement compares a value to several different conditions until one is met '''"
   ]
  },
  {
   "cell_type": "code",
   "execution_count": null,
   "id": "8a14444c",
   "metadata": {},
   "outputs": [
    {
     "name": "stdout",
     "output_type": "stream",
     "text": [
      "You Enterd A Vowel\n"
     ]
    }
   ],
   "source": [
    "'''Example : write a function definition to check is the user entered a vowel or not using a match statement'''\n",
    "def vowel_checker(value):\n",
    "    match value:\n",
    "        case 'a'|'A'|'e'|'E'|'i'|'I'|'o'|'O'| 'u'|'U':\n",
    "            print(\"You Enterd A Vowel\")\n",
    "        case _:\n",
    "            print(\"YOu Not Entered A Vowel\")\n",
    "character=input(\"Enter a Alphabet and check is it a vowel or not \")\n",
    "vowel_checker(character)\n",
    "            "
   ]
  },
  {
   "cell_type": "code",
   "execution_count": null,
   "id": "9d440910",
   "metadata": {},
   "outputs": [
    {
     "name": "stdout",
     "output_type": "stream",
     "text": [
      "Umiar Baloch! It is a weekday, so be prepared to go to work.\n"
     ]
    }
   ],
   "source": [
    "'''Write a program using a match-case statement that takes\n",
    "a day name as input from the user and prints whether it's a weekday or a weekend.'''\n",
    "\n",
    "# Defining a function\n",
    "def weekday_and_weekend_checker(ch, name):\n",
    "    free = True\n",
    "\n",
    "    # Convert input to lowercase\n",
    "    ch = ch.strip().lower()\n",
    "\n",
    "    while free:\n",
    "        match ch:\n",
    "            # Condition for weekday\n",
    "            case \"monday\" | \"tuesday\" | \"wednesday\" | \"thursday\" | \"friday\":\n",
    "                print(f\"{name}! It is a weekday, so be prepared to go to work.\")\n",
    "                free = False\n",
    "\n",
    "            # Condition for weekend     \n",
    "            case \"saturday\" | \"sunday\":\n",
    "                print(f\"Congratulations {name}, it is a weekend — take a good nap!\")\n",
    "                free = False\n",
    "\n",
    "            # For invalid input\n",
    "            case _:\n",
    "                print(\"Invalid input. Please enter a valid day name.\")\n",
    "                day = input(\"Try again: \")\n",
    "                ch = day.lower()\n",
    "\n",
    "day = input(\"Enter the day: \")\n",
    "name = input(\"Enter your Name: \")\n",
    "\n",
    "weekday_and_weekend_checker(day, name)\n",
    "\n"
   ]
  },
  {
   "cell_type": "markdown",
   "id": "b76aa588",
   "metadata": {},
   "source": [
    "Errors, exceptions and file handling"
   ]
  }
 ],
 "metadata": {
  "kernelspec": {
   "display_name": "Python 3",
   "language": "python",
   "name": "python3"
  },
  "language_info": {
   "codemirror_mode": {
    "name": "ipython",
    "version": 3
   },
   "file_extension": ".py",
   "mimetype": "text/x-python",
   "name": "python",
   "nbconvert_exporter": "python",
   "pygments_lexer": "ipython3",
   "version": "3.13.1"
  }
 },
 "nbformat": 4,
 "nbformat_minor": 5
}
