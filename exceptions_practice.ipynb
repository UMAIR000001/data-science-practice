{
 "cells": [
  {
   "cell_type": "markdown",
   "id": "26f11e0e",
   "metadata": {},
   "source": [
    "# Errors, exceptions"
   ]
  },
  {
   "cell_type": "code",
   "execution_count": 41,
   "id": "9f577fef",
   "metadata": {},
   "outputs": [
    {
     "data": {
      "text/plain": [
       "'Exception in python : They are Known errors that need to be handled and are called exceptions.\\n* These errors occures during Execuation Time \\nFor Example :\\n5/0  '"
      ]
     },
     "execution_count": 41,
     "metadata": {},
     "output_type": "execute_result"
    }
   ],
   "source": [
    "'''Exception in python : They are Known errors that need to be handled and are called exceptions.\n",
    "* These errors occures during Execuation Time \n",
    "For Example :\n",
    "5/0  '''"
   ]
  },
  {
   "cell_type": "code",
   "execution_count": 42,
   "id": "c8294531",
   "metadata": {},
   "outputs": [
    {
     "name": "stdout",
     "output_type": "stream",
     "text": [
      "something went wrong\n"
     ]
    }
   ],
   "source": [
    "'''def :\"Exceptions in Python are used to handle errors and display meaningful error messages instead of crashing the program.\"'''\n",
    "def divide_by(a,b):\n",
    "    return a/b\n",
    "try:\n",
    "    print(divide_by(10,0))\n",
    "except:\n",
    "    print(\"something went wrong\")"
   ]
  },
  {
   "cell_type": "code",
   "execution_count": 43,
   "id": "5a9c8e0f",
   "metadata": {},
   "outputs": [
    {
     "name": "stdout",
     "output_type": "stream",
     "text": [
      "Oops! Can't divide by zero.\n"
     ]
    }
   ],
   "source": [
    "\n",
    "def divide_by(a,b):\n",
    "    return a/b\n",
    "try:\n",
    "    print(divide_by(10,0))\n",
    "#If the code throws a ZeroDivisionError, the first block runs.\n",
    "except ZeroDivisionError:\n",
    "    print(\"Oops! Can't divide by zero.\")\n",
    "#If it's a ValueError, the second block runs.\n",
    "except ValueError:\n",
    "    print(\"Oops! That's a wrong value.\")\n",
    "\n",
    "#If it's any other error, the last block (general Exception) runs.\n",
    "except Exception as e:\n",
    "    print(f\"Some other error happened: {e}\")\n"
   ]
  },
  {
   "cell_type": "markdown",
   "id": "03ac1b98",
   "metadata": {},
   "source": [
    "# Exercises of Exceptions "
   ]
  },
  {
   "cell_type": "code",
   "execution_count": 44,
   "id": "0a173153",
   "metadata": {},
   "outputs": [
    {
     "data": {
      "text/plain": [
       "'\\nExercise\\nYour task in this exercise is to add code to trap exceptions and handle them in a more user-friendly way. \\n\\nIndexError\\nThe below code has one problem. It is trying to locate an item from the\\nlist that does not exist. Running the code will throw the IndexError. Add exception handling to stop the error from being thrown\\nand return a more user-friendly message such as \"Item does not exist in the list\".\\n'"
      ]
     },
     "execution_count": 44,
     "metadata": {},
     "output_type": "execute_result"
    }
   ],
   "source": [
    "'''\n",
    "Exercise\n",
    "Your task in this exercise is to add code to trap exceptions and handle them in a more user-friendly way. \n",
    "\n",
    "IndexError\n",
    "The below code has one problem. It is trying to locate an item from the\n",
    "list that does not exist. Running the code will throw the IndexError. Add exception handling to stop the error from being thrown\n",
    "and return a more user-friendly message such as \"Item does not exist in the list\".\n",
    "'''"
   ]
  },
  {
   "cell_type": "code",
   "execution_count": 45,
   "id": "0c68e2ea",
   "metadata": {},
   "outputs": [
    {
     "name": "stdout",
     "output_type": "stream",
     "text": [
      "Item does not exist in the list\n"
     ]
    }
   ],
   "source": [
    "\n",
    "try:\n",
    "     value=[1,2,3,4,5]\n",
    "     print(value[5])\n",
    "except:\n",
    "    print(\"Item does not exist in the list\")"
   ]
  },
  {
   "cell_type": "code",
   "execution_count": 46,
   "id": "d3d8c17d",
   "metadata": {},
   "outputs": [
    {
     "data": {
      "text/plain": [
       "'FileNotFoundError\\nThe code below is looking for a file that does not exist.\\nAdd exception handling to catch this error and return the following \"The file could not be found\".'"
      ]
     },
     "execution_count": 46,
     "metadata": {},
     "output_type": "execute_result"
    }
   ],
   "source": [
    "'''FileNotFoundError\n",
    "The code below is looking for a file that does not exist.\n",
    "Add exception handling to catch this error and return the following \"The file could not be found\".'''"
   ]
  },
  {
   "cell_type": "code",
   "execution_count": 47,
   "id": "54ae885e",
   "metadata": {},
   "outputs": [
    {
     "name": "stdout",
     "output_type": "stream",
     "text": [
      "THe file could not be found\n"
     ]
    }
   ],
   "source": [
    "try:\n",
    "    with open('file_does_not_exist.txt', 'r') as file:\n",
    "        print(file.read())\n",
    "except :\n",
    "    print(\"THe file could not be found\")"
   ]
  },
  {
   "cell_type": "code",
   "execution_count": 48,
   "id": "da58bd96",
   "metadata": {},
   "outputs": [
    {
     "data": {
      "text/plain": [
       "'ZeroDivisionError\\nIn math there are rules about dividing by zero. The below code is trying to do just that and will throw a ZeroDivisionError.\\nAdd exception handling to return back 0 instead of allowing the error to be thrown.'"
      ]
     },
     "execution_count": 48,
     "metadata": {},
     "output_type": "execute_result"
    }
   ],
   "source": [
    "'''ZeroDivisionError\n",
    "In math there are rules about dividing by zero. The below code is trying to do just that and will throw a ZeroDivisionError.\n",
    "Add exception handling to return back 0 instead of allowing the error to be thrown.'''"
   ]
  },
  {
   "cell_type": "code",
   "execution_count": 49,
   "id": "078695b3",
   "metadata": {},
   "outputs": [
    {
     "name": "stdout",
     "output_type": "stream",
     "text": [
      "0\n"
     ]
    }
   ],
   "source": [
    "def divide_by(a, b):\n",
    "    try:   \n",
    "        return a / b\n",
    "    except ZeroDivisionError as e:\n",
    "        return 0\n",
    "print(divide_by(10,0))\n"
   ]
  }
 ],
 "metadata": {
  "kernelspec": {
   "display_name": "Python 3",
   "language": "python",
   "name": "python3"
  },
  "language_info": {
   "codemirror_mode": {
    "name": "ipython",
    "version": 3
   },
   "file_extension": ".py",
   "mimetype": "text/x-python",
   "name": "python",
   "nbconvert_exporter": "python",
   "pygments_lexer": "ipython3",
   "version": "3.13.1"
  }
 },
 "nbformat": 4,
 "nbformat_minor": 5
}
