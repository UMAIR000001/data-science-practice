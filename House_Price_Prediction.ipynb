{
 "cells": [
  {
   "cell_type": "code",
   "execution_count": null,
   "metadata": {
    "_cell_guid": "3fe2046d-2ee0-41c9-8864-9b65395b7ce2",
    "_uuid": "ceb81122-4b44-464d-a79e-f180da135259",
    "collapsed": false,
    "execution": {
     "iopub.execute_input": "2025-07-05T07:24:50.026960Z",
     "iopub.status.busy": "2025-07-05T07:24:50.026725Z",
     "iopub.status.idle": "2025-07-05T07:24:57.304620Z",
     "shell.execute_reply": "2025-07-05T07:24:57.296688Z",
     "shell.execute_reply.started": "2025-07-05T07:24:50.026937Z"
    },
    "jupyter": {
     "outputs_hidden": false
    },
    "trusted": true
   },
   "outputs": [],
   "source": [
    "#  Import Libraries\n",
    "import numpy as np\n",
    "import pandas as pd\n",
    "from xgboost import XGBRegressor\n"
   ]
  },
  {
   "cell_type": "code",
   "execution_count": null,
   "metadata": {},
   "outputs": [],
   "source": [
    "#  Load Data\n",
    "train = pd.read_csv(\"/kaggle/input/house-prices-advanced-regression-techniques/train.csv\")\n",
    "test = pd.read_csv(\"/kaggle/input/house-prices-advanced-regression-techniques/test.csv\")"
   ]
  },
  {
   "cell_type": "code",
   "execution_count": null,
   "metadata": {},
   "outputs": [],
   "source": [
    "#  Log-transform target to reduce skewness\n",
    "train[\"SalePrice\"] = np.log1p(train[\"SalePrice\"])"
   ]
  },
  {
   "cell_type": "code",
   "execution_count": null,
   "metadata": {},
   "outputs": [],
   "source": [
    "\n",
    "#  Feature Engineering\n",
    "train[\"TotalSF\"] = train[\"TotalBsmtSF\"] + train[\"1stFlrSF\"] + train[\"2ndFlrSF\"]\n",
    "test[\"TotalSF\"] = test[\"TotalBsmtSF\"] + test[\"1stFlrSF\"] + test[\"2ndFlrSF\"]\n",
    "\n",
    "train[\"TotalBath\"] = (train[\"FullBath\"] + 0.5 * train[\"HalfBath\"] +\n",
    "                      train[\"BsmtFullBath\"] + 0.5 * train[\"BsmtHalfBath\"])\n",
    "test[\"TotalBath\"] = (test[\"FullBath\"] + 0.5 * test[\"HalfBath\"] +\n",
    "                     test[\"BsmtFullBath\"] + 0.5 * test[\"BsmtHalfBath\"])\n",
    "\n",
    "train[\"TotalPorchSF\"] = (train[\"OpenPorchSF\"] + train[\"EnclosedPorch\"] +\n",
    "                         train[\"3SsnPorch\"] + train[\"ScreenPorch\"])\n",
    "test[\"TotalPorchSF\"] = (test[\"OpenPorchSF\"] + test[\"EnclosedPorch\"] +\n",
    "                        test[\"3SsnPorch\"] + test[\"ScreenPorch\"])"
   ]
  },
  {
   "cell_type": "code",
   "execution_count": null,
   "metadata": {},
   "outputs": [],
   "source": [
    "\n",
    "#  Combine for preprocessing\n",
    "train_id = train[\"Id\"]\n",
    "test_id = test[\"Id\"]\n",
    "combined = pd.concat([train.drop([\"SalePrice\", \"Id\"], axis=1), test.drop(\"Id\", axis=1)], axis=0)"
   ]
  },
  {
   "cell_type": "code",
   "execution_count": null,
   "metadata": {},
   "outputs": [],
   "source": [
    "#Handle Missing Values\n",
    "numeric_cols = combined.select_dtypes(include=['float64', 'int64']).columns\n",
    "combined[numeric_cols] = combined[numeric_cols].fillna(combined[numeric_cols].mean())\n",
    "\n",
    "categorical_cols = combined.select_dtypes(include=['object']).columns\n",
    "combined[categorical_cols] = combined[categorical_cols].fillna(combined[categorical_cols].mode().iloc[0])\n"
   ]
  },
  {
   "cell_type": "code",
   "execution_count": null,
   "metadata": {},
   "outputs": [],
   "source": [
    "#  One-hot Encoding\n",
    "combined = pd.get_dummies(combined)"
   ]
  },
  {
   "cell_type": "code",
   "execution_count": null,
   "metadata": {},
   "outputs": [],
   "source": [
    "#  Split back\n",
    "X = combined[:len(train)]\n",
    "X_test = combined[len(train):]\n",
    "y = train[\"SalePrice\"]"
   ]
  },
  {
   "cell_type": "code",
   "execution_count": null,
   "metadata": {},
   "outputs": [],
   "source": [
    "#  Train Model on Full Data\n",
    "model = XGBRegressor(\n",
    "    n_estimators=500,\n",
    "    learning_rate=0.03,\n",
    "    max_depth=5,\n",
    "    subsample=0.8,\n",
    "    colsample_bytree=0.8,\n",
    "    random_state=42,\n",
    "    n_jobs=-1\n",
    "    )\n",
    "model.fit(X, y)"
   ]
  },
  {
   "cell_type": "code",
   "execution_count": null,
   "metadata": {},
   "outputs": [],
   "source": [
    "# 📈 Predict\n",
    "test_preds = model.predict(X_test)\n",
    "final_preds = np.expm1(test_preds)  # reverse log1p\n"
   ]
  },
  {
   "cell_type": "code",
   "execution_count": null,
   "metadata": {},
   "outputs": [],
   "source": [
    " # Submission\n",
    "submission = pd.DataFrame({\n",
    "    \"Id\": test_id,\n",
    "    \"SalePrice\": final_preds\n",
    "})\n",
    "submission.to_csv(\"submission.csv\", index=False)"
   ]
  },
  {
   "cell_type": "code",
   "execution_count": null,
   "metadata": {},
   "outputs": [],
   "source": []
  }
 ],
 "metadata": {
  "kaggle": {
   "accelerator": "none",
   "dataSources": [
    {
     "databundleVersionId": 868283,
     "sourceId": 5407,
     "sourceType": "competition"
    }
   ],
   "dockerImageVersionId": 31040,
   "isGpuEnabled": false,
   "isInternetEnabled": true,
   "language": "python",
   "sourceType": "notebook"
  },
  "kernelspec": {
   "display_name": "Python 3",
   "language": "python",
   "name": "python3"
  },
  "language_info": {
   "codemirror_mode": {
    "name": "ipython",
    "version": 3
   },
   "file_extension": ".py",
   "mimetype": "text/x-python",
   "name": "python",
   "nbconvert_exporter": "python",
   "pygments_lexer": "ipython3",
   "version": "3.11.11"
  }
 },
 "nbformat": 4,
 "nbformat_minor": 4
}
