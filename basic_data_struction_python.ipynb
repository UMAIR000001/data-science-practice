{
 "cells": [
  {
   "cell_type": "markdown",
   "metadata": {},
   "source": [
    " # PYTHON PART -02\n",
    " "
   ]
  },
  {
   "cell_type": "code",
   "execution_count": null,
   "metadata": {},
   "outputs": [
    {
     "name": "stdout",
     "output_type": "stream",
     "text": [
      "[81, 97, 91, 72]\n"
     ]
    }
   ],
   "source": [
    " # LIST\n",
    "# Practice Question 01:\n",
    "score = [81, 97, 55, 91, 65, 50, 72,44,33,22,1]\n",
    "high_score=[]\n",
    "for x in score:\n",
    "    if(x>70):\n",
    "        high_score.append(x)\n",
    "print(high_score)\n"
   ]
  },
  {
   "cell_type": "code",
   "execution_count": null,
   "metadata": {},
   "outputs": [
    {
     "name": "stdout",
     "output_type": "stream",
     "text": [
      "The Sum is :  15\n",
      "The Reverse of Given List is : [10, 9, 8, 7, 6, 5, 4, 3, 2, 1]\n"
     ]
    }
   ],
   "source": [
    "# Practice Question 02: By Umair\n",
    "num=[1,2,3,4,5,6,7,8,9,10,11,12,13,14,15]\n",
    "add=0\n",
    "for x in range(num[0],num[6]): # fir x in num\n",
    "    add=add+x\n",
    "    x=x+1\n",
    "print(\"The Sum is : \",add)\n",
    "rev=num[::-1]\n",
    "print(\"The Reverse of Given List is :\",rev)\n",
    "\n",
    "    "
   ]
  },
  {
   "cell_type": "code",
   "execution_count": null,
   "metadata": {},
   "outputs": [],
   "source": [
    "# Practice Question 02: By Instructor\n",
    "num=[1,2,3,4,5,6,7,8,9,10]\n",
    "print(\"The Sum Of First Five numbers are :\",sum(num[:5]))\n",
    "print(\"The Reverse Of List is :\",num[::-1])\n"
   ]
  },
  {
   "cell_type": "code",
   "execution_count": 123,
   "metadata": {},
   "outputs": [],
   "source": [
    "num=[1,2,3,4,5,6,7,8,9,10]\n",
    "print(\"The Sum of last three digits are :\",sum(num[7:])) # code is correct but the jupter is giving error ?"
   ]
  },
  {
   "cell_type": "code",
   "execution_count": 1,
   "metadata": {},
   "outputs": [
    {
     "name": "stdout",
     "output_type": "stream",
     "text": [
      "THe Old List is : [1, 2, 3, 4, 5, 6, 7, 8, 9, 10]\n",
      "The New list is  [6, 7, 8, 9, 10, 1, 2, 3, 4, 5]\n",
      "The Sum Of Last Three Digit of Old List is  27\n"
     ]
    }
   ],
   "source": [
    "#Practice Question 02: By Umair Baloch\n",
    "#Code is correct but the jupter is giving error ?\n",
    "num=[1,2,3,4,5,6,7,8,9,10]\n",
    "add=sum(num[7:])\n",
    "n_num=[]\n",
    "x=0\n",
    "for x in num[5:]:\n",
    "    n_num.append(x)\n",
    "    x=x+1\n",
    "for x in num[:5]:\n",
    "    n_num.append(x)\n",
    "    x=x+1\n",
    "print(\"THe Old List is :\",num)\n",
    "print(\"The New list is \",n_num)\n",
    "print(\"The Sum Of Last Three Digit of Old List is \",add)\n"
   ]
  },
  {
   "cell_type": "code",
   "execution_count": 127,
   "metadata": {},
   "outputs": [
    {
     "name": "stdout",
     "output_type": "stream",
     "text": [
      "[1, 2, 3]\n"
     ]
    }
   ],
   "source": [
    "num=[1,23,4,1,2,3]\n",
    "new_num=num[3:]\n",
    "print(new_num)"
   ]
  },
  {
   "cell_type": "markdown",
   "metadata": {},
   "source": [
    " # Lecture -14 "
   ]
  },
  {
   "cell_type": "markdown",
   "metadata": {},
   "source": [
    "# length of list"
   ]
  },
  {
   "cell_type": "code",
   "execution_count": 133,
   "metadata": {},
   "outputs": [
    {
     "name": "stdout",
     "output_type": "stream",
     "text": [
      "The Length of of [1, 2, 3, 4, 5, 6, 7, 8, 9, 10] is  10\n"
     ]
    }
   ],
   "source": [
    "num=[1,2,3,4,5,6,7,8,9,10]\n",
    "print(f\"The Length of {num} is \",len(num))"
   ]
  },
  {
   "cell_type": "markdown",
   "metadata": {},
   "source": [
    "# Mutability Property of list "
   ]
  },
  {
   "cell_type": "code",
   "execution_count": 136,
   "metadata": {},
   "outputs": [
    {
     "name": "stdout",
     "output_type": "stream",
     "text": [
      "[2, 4, 6, 8, 10, 12]\n"
     ]
    }
   ],
   "source": [
    "num=[2,4,6,7,10,12]\n",
    "num[3]=8\n",
    "print(num)"
   ]
  },
  {
   "cell_type": "code",
   "execution_count": 138,
   "metadata": {},
   "outputs": [
    {
     "name": "stdout",
     "output_type": "stream",
     "text": [
      "[2, 4, 6, 'Umair sb', 10, 12]\n"
     ]
    }
   ],
   "source": [
    "num=[2,4,6,7,10,12]\n",
    "num[3]=\"Umair sb\"\n",
    "print(num)"
   ]
  },
  {
   "cell_type": "code",
   "execution_count": 156,
   "metadata": {},
   "outputs": [
    {
     "name": "stdout",
     "output_type": "stream",
     "text": [
      "<class 'tuple'>\n",
      "<class 'tuple'>\n"
     ]
    }
   ],
   "source": [
    "empty_taple=tuple()\n",
    "empty=()\n",
    "print(type(empty_taple))\n",
    "print(type(empty))"
   ]
  },
  {
   "cell_type": "markdown",
   "metadata": {},
   "source": [
    " # Change a range of items values"
   ]
  },
  {
   "cell_type": "code",
   "execution_count": 159,
   "metadata": {},
   "outputs": [
    {
     "name": "stdout",
     "output_type": "stream",
     "text": [
      "[1, 2, 'third', 'Foruth', 5, 6]\n"
     ]
    }
   ],
   "source": [
    "a=[1,2,3,4,5,6]\n",
    "a[2]=\"third\"\n",
    "a[3]=\"Foruth\"\n",
    "print(a)"
   ]
  },
  {
   "cell_type": "markdown",
   "metadata": {},
   "source": [
    " # Add List Items"
   ]
  },
  {
   "cell_type": "code",
   "execution_count": 162,
   "metadata": {},
   "outputs": [
    {
     "name": "stdout",
     "output_type": "stream",
     "text": [
      "[50, 40, 98, 87, 100]\n"
     ]
    }
   ],
   "source": [
    "marks=[50,40,98,87]\n",
    "marks.append(100)\n",
    "print(marks)"
   ]
  },
  {
   "cell_type": "code",
   "execution_count": 164,
   "metadata": {},
   "outputs": [
    {
     "name": "stdout",
     "output_type": "stream",
     "text": [
      "[50, 40, 98, 87, 'I am here also ']\n"
     ]
    }
   ],
   "source": [
    "marks=[50,40,98,87]\n",
    "marks.append(\"I am here also \")\n",
    "print(marks)"
   ]
  },
  {
   "cell_type": "markdown",
   "metadata": {},
   "source": [
    " # Remove the Items"
   ]
  },
  {
   "cell_type": "code",
   "execution_count": 171,
   "metadata": {},
   "outputs": [
    {
     "name": "stdout",
     "output_type": "stream",
     "text": [
      "[1, 2, 3, 4, 5, 6, 7, 8, 9, 10]\n"
     ]
    }
   ],
   "source": [
    "a=[1,2,3,4,5,6,7,8,9,89,10]\n",
    "a.remove(89)\n",
    "print(a)"
   ]
  },
  {
   "cell_type": "markdown",
   "metadata": {},
   "source": [
    "# Join the List"
   ]
  },
  {
   "cell_type": "code",
   "execution_count": 176,
   "metadata": {},
   "outputs": [
    {
     "name": "stdout",
     "output_type": "stream",
     "text": [
      "['Hardworking', 'Patience', 'Positive Thinking', 'Laziness', 'Over_thinking']\n"
     ]
    }
   ],
   "source": [
    "g_habit=[\"Hardworking\",\"Patience\",\"Positive Thinking\"]\n",
    "b_habit=[\"Laziness\",\"Over_thinking\"]\n",
    "print(g_habit+b_habit)"
   ]
  },
  {
   "cell_type": "markdown",
   "metadata": {},
   "source": [
    "# Checking the element in list"
   ]
  },
  {
   "cell_type": "code",
   "execution_count": 181,
   "metadata": {},
   "outputs": [
    {
     "data": {
      "text/plain": [
       "False"
      ]
     },
     "execution_count": 181,
     "metadata": {},
     "output_type": "execute_result"
    }
   ],
   "source": [
    "num=[1,2,3,4,5,6,7,8,9]\n",
    "5 in num\n",
    "10 in num"
   ]
  },
  {
   "cell_type": "markdown",
   "metadata": {},
   "source": [
    "# Reversing the list "
   ]
  },
  {
   "cell_type": "code",
   "execution_count": 196,
   "metadata": {},
   "outputs": [
    {
     "name": "stdout",
     "output_type": "stream",
     "text": [
      "[10, 9, 8, 7, 6, 5, 4, 3, 2, 1]\n"
     ]
    }
   ],
   "source": [
    "num=[1,2,3,4,5,6,7,8,9,10]\n",
    "num.reverse()\n",
    "print(num)"
   ]
  },
  {
   "cell_type": "code",
   "execution_count": null,
   "metadata": {},
   "outputs": [],
   "source": []
  },
  {
   "cell_type": "code",
   "execution_count": null,
   "metadata": {},
   "outputs": [],
   "source": []
  },
  {
   "cell_type": "code",
   "execution_count": null,
   "metadata": {},
   "outputs": [],
   "source": []
  },
  {
   "cell_type": "code",
   "execution_count": null,
   "metadata": {},
   "outputs": [],
   "source": []
  },
  {
   "cell_type": "code",
   "execution_count": null,
   "metadata": {},
   "outputs": [],
   "source": []
  },
  {
   "cell_type": "markdown",
   "metadata": {},
   "source": [
    "# Tupled in Python Part-1\n",
    "# Context"
   ]
  },
  {
   "cell_type": "code",
   "execution_count": null,
   "metadata": {},
   "outputs": [],
   "source": [
    "Creating Tuble\n",
    "Single Element tuple\n",
    "empty Tuple\n",
    "mixed data type tuple\n",
    "nested tuple\n",
    "Comverted list to tuple\n",
    "Converting string to tuple\n",
    "Converting Dictionary to tuple\n",
    "Converting set into tuple\n",
    "Practice tuple\n",
    "\n"
   ]
  },
  {
   "cell_type": "code",
   "execution_count": 203,
   "metadata": {},
   "outputs": [
    {
     "name": "stdout",
     "output_type": "stream",
     "text": [
      "(1, 2, 3)\n",
      "<class 'tuple'>\n"
     ]
    }
   ],
   "source": [
    "num=(1,2,3)\n",
    "print(num)\n",
    "print(type(num))"
   ]
  },
  {
   "cell_type": "code",
   "execution_count": 207,
   "metadata": {},
   "outputs": [
    {
     "name": "stdout",
     "output_type": "stream",
     "text": [
      "<class 'tuple'>\n",
      "<class 'int'>\n"
     ]
    }
   ],
   "source": [
    "num =(2,) # tuple for single element\n",
    "num1=(2) # thus when declaring single elemnt in tuple a comma is essential\n",
    "print(type(num))\n",
    "print(type(num1))"
   ]
  },
  {
   "cell_type": "markdown",
   "metadata": {},
   "source": [
    "num=()\n",
    "num1=tuple()\n",
    "print(num)\n",
    "print(num1)\n",
    "print(type(num))\n",
    "print(type(num1))"
   ]
  },
  {
   "cell_type": "code",
   "execution_count": 209,
   "metadata": {},
   "outputs": [
    {
     "name": "stdout",
     "output_type": "stream",
     "text": [
      "(1, 2, 'Third', 'Foruth')\n"
     ]
    }
   ],
   "source": [
    "num=(1,2,\"Third\",\"Foruth\")\n",
    "print(num)"
   ]
  },
  {
   "cell_type": "code",
   "execution_count": 211,
   "metadata": {},
   "outputs": [
    {
     "name": "stdout",
     "output_type": "stream",
     "text": [
      "(1, 2, 3, (2, 4, 6, 8), 'Umair', 'Baloch')\n"
     ]
    }
   ],
   "source": [
    "num=(1,2,3,(2,4,6,8),\"Umair\",\"Baloch\")\n",
    "print(num)"
   ]
  },
  {
   "cell_type": "markdown",
   "metadata": {},
   "source": [
    "# Tuple Constructor "
   ]
  },
  {
   "cell_type": "code",
   "execution_count": 217,
   "metadata": {},
   "outputs": [
    {
     "name": "stdout",
     "output_type": "stream",
     "text": [
      "[1, 2, 3, 4, 5, 6, 7, 8, 9]\n",
      "<class 'list'>\n",
      "(1, 2, 3, 4, 5, 6, 7, 8, 9)\n",
      "<class 'tuple'>\n"
     ]
    }
   ],
   "source": [
    "num=[1,2,3,4,5,6,7,8,9]\n",
    "print(num)\n",
    "print(type(num))\n",
    "new_num=tuple(num)\n",
    "print(new_num)\n",
    "print(type(new_num))"
   ]
  },
  {
   "cell_type": "code",
   "execution_count": 221,
   "metadata": {},
   "outputs": [
    {
     "name": "stdout",
     "output_type": "stream",
     "text": [
      "Mohammad Umair hafeez\n",
      "<class 'str'>\n",
      "('M', 'o', 'h', 'a', 'm', 'm', 'a', 'd', ' ', 'U', 'm', 'a', 'i', 'r', ' ', 'h', 'a', 'f', 'e', 'e', 'z')\n",
      "<class 'tuple'>\n"
     ]
    }
   ],
   "source": [
    "name=\"Mohammad Umair hafeez\"\n",
    "print(name)\n",
    "print(type(name))\n",
    "new_name=tuple(name)\n",
    "print(new_name)\n",
    "print(type(new_name))"
   ]
  },
  {
   "cell_type": "code",
   "execution_count": 227,
   "metadata": {},
   "outputs": [
    {
     "name": "stdout",
     "output_type": "stream",
     "text": [
      "{'a': 1, 'b': 2, 'c': 3}\n",
      "<class 'dict'>\n",
      "('a', 'b', 'c')\n",
      "<class 'tuple'>\n"
     ]
    }
   ],
   "source": [
    "num={'a':1,'b':2,'c':3}\n",
    "print(num)\n",
    "print(type(num))\n",
    "new_num=tuple(num)\n",
    "print(new_num)\n",
    "print(type(new_num))\n",
    "\n"
   ]
  },
  {
   "cell_type": "code",
   "execution_count": 223,
   "metadata": {},
   "outputs": [
    {
     "name": "stdout",
     "output_type": "stream",
     "text": [
      "{1, 2, 3, 4, 5, 6, 7, 8, 9}\n",
      "<class 'set'>\n",
      "(1, 2, 3, 4, 5, 6, 7, 8, 9)\n",
      "<class 'tuple'>\n"
     ]
    }
   ],
   "source": [
    "num={1,2,3,4,5,6,7,8,9}\n",
    "print(num)\n",
    "print(type(num))\n",
    "new_num=tuple(num)\n",
    "print(new_num)\n",
    "print(type(new_num))"
   ]
  },
  {
   "cell_type": "markdown",
   "metadata": {},
   "source": [
    " # Practice"
   ]
  },
  {
   "cell_type": "code",
   "execution_count": null,
   "metadata": {},
   "outputs": [],
   "source": []
  },
  {
   "cell_type": "code",
   "execution_count": null,
   "metadata": {},
   "outputs": [],
   "source": []
  },
  {
   "cell_type": "code",
   "execution_count": null,
   "metadata": {},
   "outputs": [],
   "source": []
  },
  {
   "cell_type": "markdown",
   "metadata": {},
   "source": [
    "# Tuple in python part -2\n",
    "# Context"
   ]
  },
  {
   "cell_type": "code",
   "execution_count": null,
   "metadata": {},
   "outputs": [],
   "source": [
    "Indexing In tuple\n",
    "Positive Indexing \n",
    "Negative Indexing \n",
    "Slicing\n",
    "Negative Slicing\n",
    "Reversing Tuple\n",
    "Properties of Tuple\n",
    "Method of tuple\n",
    "count method\n",
    "index method"
   ]
  },
  {
   "cell_type": "code",
   "execution_count": 233,
   "metadata": {},
   "outputs": [
    {
     "name": "stdout",
     "output_type": "stream",
     "text": [
      "Mohammad\n",
      "Umair\n",
      "Hafeez\n"
     ]
    }
   ],
   "source": [
    "num=(\"Mohammad\",\"Umair\",\"Hafeez\")\n",
    "print(num[0])\n",
    "print(num[1])\n",
    "print(num[2])"
   ]
  },
  {
   "cell_type": "code",
   "execution_count": 235,
   "metadata": {},
   "outputs": [
    {
     "name": "stdout",
     "output_type": "stream",
     "text": [
      "Hafeez\n",
      "Umair\n",
      "Mohammad\n"
     ]
    }
   ],
   "source": [
    "num=(\"Mohammad\",\"Umair\",\"Hafeez\")\n",
    "print(num[-1])\n",
    "print(num[-2])\n",
    "print(num[-3])"
   ]
  },
  {
   "cell_type": "code",
   "execution_count": 243,
   "metadata": {},
   "outputs": [
    {
     "name": "stdout",
     "output_type": "stream",
     "text": [
      "('Mohammad', 'Umair', 'Hafeez', 'Baloch', 'khan', 'Balochistan')\n",
      "('Mohammad', 'Umair', 'Hafeez')\n",
      "('Balochistan',)\n",
      "('Mohammad', 'Umair', 'Hafeez', 'Baloch', 'khan')\n"
     ]
    }
   ],
   "source": [
    "num=(\"Mohammad\",\"Umair\",\"Hafeez\",\"Baloch\",\"khan\",\"Balochistan\")\n",
    "print(num[0:])\n",
    "print(num[0:3])\n",
    "print(num[-1:])\n",
    "print(num[:-1])"
   ]
  },
  {
   "cell_type": "code",
   "execution_count": 245,
   "metadata": {},
   "outputs": [
    {
     "name": "stdout",
     "output_type": "stream",
     "text": [
      "('Balochistan', 'khan', 'Baloch', 'Hafeez', 'Umair', 'Mohammad')\n"
     ]
    }
   ],
   "source": [
    "num=(\"Mohammad\",\"Umair\",\"Hafeez\",\"Baloch\",\"khan\",\"Balochistan\")\n",
    "print(num[::-1])"
   ]
  },
  {
   "cell_type": "code",
   "execution_count": 251,
   "metadata": {},
   "outputs": [
    {
     "data": {
      "text/plain": [
       "3"
      ]
     },
     "execution_count": 251,
     "metadata": {},
     "output_type": "execute_result"
    }
   ],
   "source": [
    "num=(1,1,1,2,3,4,56,7,5,7,64,2)\n",
    "num.count(1) # count() it is used to find how many time a elememt is repeated in a tuple"
   ]
  },
  {
   "cell_type": "markdown",
   "metadata": {},
   "source": [
    "# Tuple in Python Part No-3 \n",
    "# Context"
   ]
  },
  {
   "cell_type": "code",
   "execution_count": null,
   "metadata": {},
   "outputs": [],
   "source": [
    "Converting The tuple to list\n",
    "Adding items\n",
    "Changing items\n",
    "Removing Items\n",
    "Joining items\n",
    "loop in tuple\n",
    "Delecting items\n",
    "Multipling Items\n",
    "Practice Items\n"
   ]
  },
  {
   "cell_type": "code",
   "execution_count": 257,
   "metadata": {},
   "outputs": [
    {
     "name": "stdout",
     "output_type": "stream",
     "text": [
      "(1, 2, 3)\n",
      "<class 'tuple'>\n",
      "[1, 2, 3]\n",
      "<class 'list'>\n"
     ]
    }
   ],
   "source": [
    "num=(1,2,3)\n",
    "print(num)\n",
    "print(type(num))\n",
    "n_num=list(num)\n",
    "print(n_num)\n",
    "print(type(n_num))\n"
   ]
  },
  {
   "cell_type": "code",
   "execution_count": 266,
   "metadata": {},
   "outputs": [
    {
     "name": "stdout",
     "output_type": "stream",
     "text": [
      "(1, 2, 3)\n",
      "<class 'tuple'>\n",
      "[1, 2, 3, 4]\n",
      "<class 'list'>\n",
      "(1, 2, 3, 4)\n",
      "<class 'tuple'>\n"
     ]
    }
   ],
   "source": [
    "num=(1,2,3)\n",
    "print(num)\n",
    "print(type(num))\n",
    "n_num=list(num)\n",
    "n_num.append(4)\n",
    "print(n_num)\n",
    "print(type(n_num))\n",
    "again_num=tuple(n_num)\n",
    "print(again_num)\n",
    "print(type(again_num))"
   ]
  },
  {
   "cell_type": "code",
   "execution_count": 278,
   "metadata": {},
   "outputs": [
    {
     "name": "stdout",
     "output_type": "stream",
     "text": [
      "Combination of Two tuple ('Mohammad', 'Umair')\n"
     ]
    }
   ],
   "source": [
    "num1=(\"Mohammad\",)\n",
    "num2=(\"Umair\",)\n",
    "num3=num1+num2\n",
    "print(\"Combination of Two tuple\",num3)"
   ]
  },
  {
   "cell_type": "code",
   "execution_count": 284,
   "metadata": {},
   "outputs": [
    {
     "name": "stdout",
     "output_type": "stream",
     "text": [
      "('A', 'B', 'C', 'D', 'E', 'F')\n",
      "<class 'tuple'>\n",
      "['A', 'C', 'D', 'E', 'F']\n",
      "<class 'list'>\n",
      "('A', 'C', 'D', 'E', 'F')\n",
      "<class 'tuple'>\n"
     ]
    }
   ],
   "source": [
    "num=(\"A\",\"B\",\"C\",\"D\",\"E\",\"F\")\n",
    "print(num)\n",
    "print(type(num))\n",
    "n_num=list(num)\n",
    "n_num.remove(\"B\")\n",
    "print(n_num)\n",
    "print(type(n_num))\n",
    "again_num=tuple(n_num)\n",
    "print(again_num)\n",
    "print(type(again_num))"
   ]
  },
  {
   "cell_type": "code",
   "execution_count": 288,
   "metadata": {},
   "outputs": [
    {
     "name": "stdout",
     "output_type": "stream",
     "text": [
      "('A', 'B', 'C', 'D', 'E', 'F')\n",
      "<class 'tuple'>\n",
      "['A', 'B', 'I am here', 'D', 'E', 'F']\n",
      "<class 'list'>\n",
      "('A', 'B', 'I am here', 'D', 'E', 'F')\n",
      "<class 'tuple'>\n"
     ]
    }
   ],
   "source": [
    "num=(\"A\",\"B\",\"C\",\"D\",\"E\",\"F\")\n",
    "print(num)\n",
    "print(type(num))\n",
    "n_num=list(num)\n",
    "n_num[2]=\"I am here\"\n",
    "print(n_num)\n",
    "print(type(n_num))\n",
    "again_num=tuple(n_num)\n",
    "print(again_num)\n",
    "print(type(again_num))"
   ]
  },
  {
   "cell_type": "code",
   "execution_count": 290,
   "metadata": {},
   "outputs": [
    {
     "name": "stdout",
     "output_type": "stream",
     "text": [
      "1\n",
      "2\n",
      "3\n",
      "4\n",
      "5\n",
      "6\n"
     ]
    }
   ],
   "source": [
    "num=(1,2,3,4,5,6)\n",
    "for x in num:\n",
    "    print(x)"
   ]
  },
  {
   "cell_type": "code",
   "execution_count": 294,
   "metadata": {},
   "outputs": [
    {
     "name": "stdout",
     "output_type": "stream",
     "text": [
      "(1, 2, 3, 'First', 'Second', 'Third')\n"
     ]
    }
   ],
   "source": [
    "num1=(1,2,3)\n",
    "num2=(\"First\",\"Second\",\"Third\")\n",
    "num3=num1+num2\n",
    "print(num3)"
   ]
  },
  {
   "cell_type": "code",
   "execution_count": 308,
   "metadata": {},
   "outputs": [
    {
     "name": "stdout",
     "output_type": "stream",
     "text": [
      "(1, 2, 3, 1, 2, 3, 1, 2, 3, 1, 2, 3)\n",
      "(1, 2, 3)\n"
     ]
    }
   ],
   "source": [
    "num==(\"First\",\"Second\",\"Third\")\n",
    "num1=(1,2,3)\n",
    "print(num)\n",
    "print(num1)\n"
   ]
  },
  {
   "cell_type": "code",
   "execution_count": 322,
   "metadata": {},
   "outputs": [
    {
     "name": "stdout",
     "output_type": "stream",
     "text": [
      "('First', 'Second', 'Third', 'First', 'Second', 'Third')\n",
      "(1, 2, 3, 1, 2, 3)\n"
     ]
    }
   ],
   "source": [
    "num=(\"First\",\"Second\",\"Third\")\n",
    "num1=(1,2,3)\n",
    "num=num*2\n",
    "num1=num1*2\n",
    "print(num)\n",
    "print(num1)\n",
    "\n"
   ]
  },
  {
   "cell_type": "code",
   "execution_count": null,
   "metadata": {},
   "outputs": [],
   "source": []
  }
 ],
 "metadata": {
  "kernelspec": {
   "display_name": "Python 3 (ipykernel)",
   "language": "python",
   "name": "python3"
  },
  "language_info": {
   "codemirror_mode": {
    "name": "ipython",
    "version": 3
   },
   "file_extension": ".py",
   "mimetype": "text/x-python",
   "name": "python",
   "nbconvert_exporter": "python",
   "pygments_lexer": "ipython3",
   "version": "3.12.4"
  }
 },
 "nbformat": 4,
 "nbformat_minor": 4
}
