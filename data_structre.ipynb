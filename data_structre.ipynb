{
 "cells": [
  {
   "cell_type": "markdown",
   "metadata": {},
   "source": [
    "# DATA_STRUCTURE PRACTICE"
   ]
  },
  {
   "cell_type": "code",
   "execution_count": 15,
   "metadata": {},
   "outputs": [
    {
     "name": "stdout",
     "output_type": "stream",
     "text": [
      "{'id': 12458, 'name': 'Paul', 'department': 'House Floor'}\n"
     ]
    }
   ],
   "source": [
    "employee_list = [(12345, \"John\", \"Kitchen\"), (12458, \"Paul\", \"House Floor\")]\n",
    "\n",
    "def get_employee(id):\n",
    "    for employee in employee_list:\n",
    "        if employee[0] == id:\n",
    "            return {\"id\": employee[0], \"name\": employee[1], \"department\": employee[2]}\n",
    "\n",
    "print(get_employee(12458))\n",
    "\n"
   ]
  },
  {
   "cell_type": "code",
   "execution_count": 28,
   "metadata": {},
   "outputs": [
    {
     "name": "stdout",
     "output_type": "stream",
     "text": [
      "Sorry! This Student Data is not found \n",
      "None\n"
     ]
    }
   ],
   "source": [
    "'''In this example, there's a list of Students that study in a small home.\n",
    "You need to be able to find an student by their student ID - an integer-based numeric Roll_number.\n",
    "The function student_search() contains\n",
    "a for loop to iterate over the list of student and returns an student object if the roll_number matches '''\n",
    "student_list=[(1711,\"Umair Baloch\",\"Bsc data science\")\n",
    "              ,(1712,\"Ehtisham \",\"Nursing\")\n",
    "              ,(536,\"Old Umiar\",\"Time_pass\")\n",
    "              ]\n",
    "def student_search(roll_number):\n",
    "    for student in student_list:\n",
    "        if(student[0]==roll_number):\n",
    "            return {\"Roll_number \": student[0],\"Name \":student[1] ,\"Course_of_study \" :student[2] }\n",
    "    return print(\"Sorry! This Student Data is not found \") \n",
    "print(student_search(786))       "
   ]
  },
  {
   "cell_type": "code",
   "execution_count": 33,
   "metadata": {},
   "outputs": [
    {
     "name": "stdout",
     "output_type": "stream",
     "text": [
      "{'Name ': 'Choto Umiar', 'Age ': 18, 'School ': 'Elegance School Quetta,Balochistan'}\n",
      "{'Name ': 'Mohammad Umiar Hafeez', 'Age ': 13, 'College ': 'Balochistan Residential College Turbat'}\n",
      "{'Name ': 'Mohammad Umiar Hafeez', 'Age ': 20, 'College ': 'Islamia University Bahawalpur'}\n"
     ]
    }
   ],
   "source": [
    "student_list={\n",
    "    1711:{\n",
    "        \"Name \":\"Mohammad Umiar Hafeez\",\n",
    "        \"Age \": 13,\n",
    "         \"College \":\"Balochistan Residential College Turbat\"\n",
    "    },\n",
    "     1712:{\n",
    "           \"Name \":\"Ehtisham  Hafeez\",\n",
    "        \"Age \": 18,\n",
    "         \"College \":\"Balochistan Residential College Turbat\"\n",
    "    },\n",
    "    \n",
    "      536:{\n",
    "           \"Name \":\"Choto Umiar\",\n",
    "        \"Age \": 18,\n",
    "         \"School \":\"Elegance School Quetta,Balochistan\"\n",
    "    },\n",
    "    \n",
    "       2085:{\n",
    "              \"Name \":\"Mohammad Umiar Hafeez\",\n",
    "        \"Age \": 20,\n",
    "         \"College \":\"Islamia University Bahawalpur\"\n",
    "    }\n",
    "        \n",
    "    }\n",
    "def student_search(roll_num):\n",
    "    if roll_num in student_list:\n",
    "        return student_list[roll_num]\n",
    "    else:\n",
    "        print(\"sorry ! This Student data is not found\")\n",
    "    \n",
    "print(student_search(536))\n",
    "print(student_search(1711))\n",
    "print(student_search(2085))\n"
   ]
  },
  {
   "cell_type": "code",
   "execution_count": null,
   "metadata": {},
   "outputs": [],
   "source": []
  },
  {
   "cell_type": "code",
   "execution_count": null,
   "metadata": {},
   "outputs": [],
   "source": []
  }
 ],
 "metadata": {
  "kernelspec": {
   "display_name": "Python 3",
   "language": "python",
   "name": "python3"
  },
  "language_info": {
   "codemirror_mode": {
    "name": "ipython",
    "version": 3
   },
   "file_extension": ".py",
   "mimetype": "text/x-python",
   "name": "python",
   "nbconvert_exporter": "python",
   "pygments_lexer": "ipython3",
   "version": "3.13.1"
  }
 },
 "nbformat": 4,
 "nbformat_minor": 4
}
