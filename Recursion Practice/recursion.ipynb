{
 "cells": [
  {
   "cell_type": "markdown",
   "metadata": {},
   "source": [
    "# Recursion \n"
   ]
  },
  {
   "cell_type": "code",
   "execution_count": null,
   "metadata": {},
   "outputs": [
    {
     "name": "stdout",
     "output_type": "stream",
     "text": [
      "Game Over\n"
     ]
    }
   ],
   "source": [
    "# Recursion : when i fuction call itself then it is called recursion without the help of loop\n",
    "#Example 1\n",
    "def count_down(number):\n",
    "    if(number==0):# base condition number==0\n",
    "        print(\"Game Over\")\n",
    "    else:\n",
    "        print(number)\n",
    "        count_down(number-1)\n",
    "count_down(10)"
   ]
  },
  {
   "cell_type": "code",
   "execution_count": 35,
   "metadata": {},
   "outputs": [
    {
     "name": "stdout",
     "output_type": "stream",
     "text": [
      "120\n"
     ]
    }
   ],
   "source": [
    "#Example 2\n",
    "def factorial(number):\n",
    "    if number==1: #base condition\n",
    "        return 1 # it is essential to return one for factorial\n",
    "    else:\n",
    "        return number * factorial(number-1) #Recursion\n",
    "print(factorial(5))"
   ]
  },
  {
   "cell_type": "code",
   "execution_count": null,
   "metadata": {},
   "outputs": [
    {
     "name": "stdout",
     "output_type": "stream",
     "text": [
      "10\n"
     ]
    }
   ],
   "source": [
    "# Test\n",
    "#print the numbers from 1 to 10 using recursion\n",
    "def number(num):\n",
    "    if(num==10):\n",
    "        return num\n",
    "    else:\n",
    "        print(num)\n",
    "        return number(num+1)\n",
    "print(number(1))"
   ]
  },
  {
   "cell_type": "code",
   "execution_count": 20,
   "metadata": {},
   "outputs": [
    {
     "name": "stdout",
     "output_type": "stream",
     "text": [
      "The sum of n natural numbers are :  21\n"
     ]
    }
   ],
   "source": [
    "# Q Find the sum of the first n natural numbers using recursion.\n",
    "def add(num):\n",
    "    if(num==0):\n",
    "         return 0\n",
    "    else:\n",
    "        return num+add(num-1)\n",
    "num=int(input(\"Enter the number :\"))\n",
    "print(\"The sum of n natural numbers are : \",add(num))"
   ]
  },
  {
   "cell_type": "code",
   "execution_count": null,
   "metadata": {},
   "outputs": [
    {
     "name": "stdout",
     "output_type": "stream",
     "text": [
      "16\n"
     ]
    }
   ],
   "source": [
    "# it Write a recursive function to calculate the power of a number. (power(x, n) = x^n)\n",
    "def power(num,po):\n",
    "    if po==0:\n",
    "        return 1\n",
    "    else:\n",
    "        return num*power(num,po-1)\n",
    "print(power(2,4))"
   ]
  },
  {
   "cell_type": "code",
   "execution_count": null,
   "metadata": {},
   "outputs": [],
   "source": [
    "#find the sum of n natural numbers (w3school)\n",
    "def tri_recursion(k):\n",
    "  if(k > 0):\n",
    "    result = k + tri_recursion(k - 1)\n",
    "    print(result)\n",
    "  else:\n",
    "    result = 0\n",
    "  return result\n",
    "\n",
    "print(\"Recursion Example Results:\")\n",
    "tri_recursion(6)\n"
   ]
  },
  {
   "cell_type": "code",
   "execution_count": null,
   "metadata": {},
   "outputs": [
    {
     "name": "stdout",
     "output_type": "stream",
     "text": [
      "None\n"
     ]
    }
   ],
   "source": [
    "#impicit example of recursion returning nothing is okay in if statement but if you use else statelemt it cause an error int+none error\n",
    "def add(num):\n",
    "    if(num==0):\n",
    "        return \n",
    "    print(num)\n",
    "    return num+add(num-1)\n",
    "print(add(5))"
   ]
  },
  {
   "cell_type": "code",
   "execution_count": null,
   "metadata": {},
   "outputs": [],
   "source": [
    "# Example of indirect recursion\n",
    "def num(n):\n",
    "    if n<=1:\n",
    "        return 1\n",
    "    print(n)\n",
    "    return num1(n-1)\n",
    "def num1(n):\n",
    "    print(n)\n",
    "    return num(n-1)\n",
    "print(num1(10))\n"
   ]
  },
  {
   "cell_type": "code",
   "execution_count": null,
   "metadata": {},
   "outputs": [
    {
     "name": "stdout",
     "output_type": "stream",
     "text": [
      "1  Mohammad Umair Hafeez\n"
     ]
    }
   ],
   "source": [
    "# Test print your name ten times without using loop and manaualy.\n",
    "'''Your code works correctly, but using global variables inside a function is not a good practice in Python.\n",
    "\n",
    "Why is using global count bad?\n",
    "It makes the function dependent on an external variable (count), reducing reusability.\n",
    "It can cause unexpected behavior if count is changed elsewhere in the program.\n",
    "Functions should ideally be self-contained and work with parameters instead of global variables.'''\n",
    "count=1\n",
    "def print_name(times):\n",
    "    if(times<=0): #base condition\n",
    "        return 0\n",
    "    global count\n",
    "    print(count,\" Mohammad Umair Hafeez\")\n",
    "    count+=1\n",
    "    print_name(times-1)# recursive case\n",
    "print_name(10)"
   ]
  },
  {
   "cell_type": "code",
   "execution_count": null,
   "metadata": {},
   "outputs": [],
   "source": [
    "# Test print your name ten times without using loop and manaualy.\n",
    "def printer(name,count=1): \n",
    "    if(count<=10):\n",
    "        print(count,name)\n",
    "        return printer(name,count+1)\n",
    "printer(\"Mohammad Umair Hafeez\")\n",
    "    #Excellent Work now your code is more optimize "
   ]
  },
  {
   "cell_type": "code",
   "execution_count": 10,
   "metadata": {},
   "outputs": [
    {
     "name": "stdout",
     "output_type": "stream",
     "text": [
      "The factorial of 5 is 120\n"
     ]
    }
   ],
   "source": [
    "# Another example of find  Factorial through Recursive function\n",
    "n=int(input(\"Enter a number \"))\n",
    "def fact(n):\n",
    "    if n==0:\n",
    "        return 1 \n",
    "    return n*fact(n-1)\n",
    "result=fact(n)\n",
    "print(f\"The factorial of {n} is {result}\")"
   ]
  },
  {
   "cell_type": "code",
   "execution_count": null,
   "metadata": {},
   "outputs": [
    {
     "name": "stdout",
     "output_type": "stream",
     "text": [
      "The power of 2 is 5 so The the result is 32 \n"
     ]
    }
   ],
   "source": [
    "# Finding the power of given number by user Using the Recursive function.\n",
    "num=int(input(\"Enter the number : \"))\n",
    "po=int(input(\"Enter the number power  : \"))\n",
    "def power_calculator(num,po):\n",
    "    if po==0:\n",
    "        return 1\n",
    "    return num*power_calculator(num,po-1)\n",
    "result=power_calculator(num,po)\n",
    "print(f\"The power of {num} is {po} so The the result is { result} \")"
   ]
  },
  {
   "cell_type": "code",
   "execution_count": null,
   "metadata": {},
   "outputs": [
    {
     "name": "stdout",
     "output_type": "stream",
     "text": [
      "Mubarak hu ye ek prime number hai \n"
     ]
    }
   ],
   "source": [
    "                             \n",
    "# Checking if a given number by user is Prime or not using the concept of recursion\n",
    "number=int(input(\"Enter the number and finds it is a prime number or not\"))\n",
    "def prime_checker(num,i=None):\n",
    "    if num<2:\n",
    "           return 0\n",
    "    if i is None:\n",
    "            i=num-1\n",
    "    if i==1:\n",
    "            return 1\n",
    "    if num%i==0:\n",
    "            return 0\n",
    "    return prime_checker(num,i-1)\n",
    "    \n",
    "result=prime_checker(number)\n",
    "if result==1:\n",
    "    print(\"Mubarak hu ye ek prime number hai \")\n",
    "elif result==0:\n",
    "    print(\"Unfortunately, ye ek prime number nahi hai \")\n",
    "    "
   ]
  },
  {
   "cell_type": "code",
   "execution_count": 62,
   "metadata": {},
   "outputs": [
    {
     "name": "stdout",
     "output_type": "stream",
     "text": [
      "5\n"
     ]
    }
   ],
   "source": [
    "def count_of(num):\n",
    "    if num<10:\n",
    "        return 1\n",
    "    return 1+count_of(num//10)\n",
    "print(count_of(21222))"
   ]
  },
  {
   "cell_type": "code",
   "execution_count": null,
   "metadata": {},
   "outputs": [
    {
     "name": "stdout",
     "output_type": "stream",
     "text": [
      "5\n"
     ]
    }
   ],
   "source": [
    "#Finding the number of digit in the given number using the concept of recursion\n",
    "def count_of(num, count=1):\n",
    "    if num < 10:\n",
    "        return count  # Return the count when the number becomes single digit\n",
    "    return count_of(num // 10, count + 1)\n",
    "\n",
    "print(count_of(17283))\n"
   ]
  },
  {
   "cell_type": "code",
   "execution_count": 88,
   "metadata": {},
   "outputs": [
    {
     "name": "stdout",
     "output_type": "stream",
     "text": [
      "8\n"
     ]
    }
   ],
   "source": [
    "def febo(num):\n",
    "    if num == 0:\n",
    "        return 0\n",
    "    elif num == 1:\n",
    "        return 1\n",
    "    else:\n",
    "        return febo(num - 1) + febo(num - 2)\n",
    "\n",
    "print(febo(6))  \n"
   ]
  }
 ],
 "metadata": {
  "kernelspec": {
   "display_name": "base",
   "language": "python",
   "name": "python3"
  },
  "language_info": {
   "codemirror_mode": {
    "name": "ipython",
    "version": 3
   },
   "file_extension": ".py",
   "mimetype": "text/x-python",
   "name": "python",
   "nbconvert_exporter": "python",
   "pygments_lexer": "ipython3",
   "version": "3.12.4"
  }
 },
 "nbformat": 4,
 "nbformat_minor": 2
}
