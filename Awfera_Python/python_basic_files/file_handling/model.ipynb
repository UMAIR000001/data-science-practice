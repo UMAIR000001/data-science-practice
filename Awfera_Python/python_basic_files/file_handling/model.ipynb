{
 "cells": [
  {
   "cell_type": "markdown",
   "id": "813bda04",
   "metadata": {},
   "source": [
    "📁 File Handling in Python\n",
    "In Python, file handling allows you to create, read, write, and close files. Two main functions used for this are open() and close().\n",
    "\n",
    "🔹 1. open() Function\n",
    "The open() function is used to open a file so that you can read from, write to, or create it.\n",
    "\n",
    "Syntax:\n",
    "open(file_name , mode)\n",
    "file_name: The name or path of the file you want to open.\n",
    "\n",
    "mode: Specifies the action to perform on the file (read, write, etc.) and the format (text or binary).\n",
    "\n",
    "🔸 Common File Modes\n",
    "Mode\tDescription\n",
    "'r'\tRead (text mode). File must exist.\n",
    "'r+'\tRead and write (text mode). File must exist.\n",
    "'w'\tWrite (text mode). Creates a new file or overwrites an existing one.\n",
    "'a'\tAppend (text mode). Adds content at the end of the file.\n",
    "'rb'\tRead (binary mode).\n",
    "'wb'\tWrite (binary mode).\n",
    "'ab'\tAppend (binary mode).\n",
    "Note:\n",
    "The mode argument is optional. If omitted, Python defaults to 'r' (read mode).\n",
    "\n",
    "✅ Example:\n",
    "file = open(\"demo.txt\", \"r\")\n",
    "\n",
    "🔹 2. close() Function\n",
    "The close() function is used to close an open file, releasing the resources associated with it.\n",
    "file.close()\n",
    "It does not return anything.\n",
    "Always close a file after completing file operations to avoid memory leaks or file corruption.\n",
    "\n",
    "✅ Recommended Way: with open() Block\n",
    "Using with open() is the preferred and safer method because it automatically closes the file after you're done — even if an error occurs.\n",
    "with open(\"demo.txt\", \"r\") as file:\n",
    "    content = file.read()\n",
    "    print(content)\n",
    "This is cleaner, prevents bugs, and is considered best practice.\n",
    "\n",
    "📁 Python file handling is NOT limited to .txt files.\n",
    "Python can handle many types of files, depending on how you open them (i.e., mode and format).\n",
    "\n",
    "✅ Here's a breakdown:\n",
    "1. Text Files (.txt, .csv, .html, .log, .json, etc.)\n",
    "Use text mode (default: 'r', 'w', 'a', etc.)\n"
   ]
  },
  {
   "cell_type": "code",
   "execution_count": null,
   "id": "15dc5a4a",
   "metadata": {},
   "outputs": [
    {
     "name": "stdout",
     "output_type": "stream",
     "text": [
      "print(\"Hey Umair i am a statement from print_statemnt.txt file \")\n",
      "\n"
     ]
    }
   ],
   "source": [
    "\n",
    "# Demo Practice\n",
    "file =open('print_statement.txt', 'r')\n",
    "\n",
    "data_single_line =file.readline() # used for accessing a single line\n",
    "\n",
    "data_multi_line =file.readlines() # used for accessing a multi lines\n",
    "\n",
    "print(data_single_line)\n",
    "file.close()\n",
    "# print(file.readline) Error because the connection is closed "
   ]
  },
  {
   "cell_type": "code",
   "execution_count": 77,
   "id": "24e7019a",
   "metadata": {},
   "outputs": [
    {
     "name": "stdout",
     "output_type": "stream",
     "text": [
      "print(\"Hey Umair i am a statement from print_statemnt.txt file \")\n",
      "\n"
     ]
    }
   ],
   "source": [
    "with open('print_statement.txt', 'r') as demo:\n",
    "    data=demo.readline()\n",
    "    print(data)\n",
    "    # There is no need to add close() function  because  with open function automatically closes the file \n",
    "    "
   ]
  },
  {
   "cell_type": "markdown",
   "id": "e90e39f1",
   "metadata": {},
   "source": [
    "# Creating a file "
   ]
  },
  {
   "cell_type": "code",
   "execution_count": null,
   "id": "b06a7afb",
   "metadata": {},
   "outputs": [],
   "source": [
    "# -----------------------------------------------\n",
    "# File Handling Example with try-except in Python\n",
    "# -----------------------------------------------\n",
    "\n",
    "try:\n",
    "    # Open (or create) a file in write mode ('w')\n",
    "    # Using 'with' automatically closes the file after the block ends\n",
    "    with open('create_new_file.txt', 'w') as file:\n",
    "        \n",
    "        # Write multiple lines to the file\n",
    "        # '\\n' creates a new line between the sentences\n",
    "        file.writelines([\n",
    "            'This is the first line created',\n",
    "            '\\nThis is the second line created'\n",
    "        ])\n",
    "\n",
    "# Handle the case if the file path is incorrect or the file can't be accessed\n",
    "except FileNotFoundError as e:\n",
    "    print(\"Error:\", e)\n",
    "\n",
    "# -----------------------------------------------\n",
    "# Extra Notes:\n",
    "# -----------------------------------------------\n",
    "# ✔ Files can only be created using either:\n",
    "#   - 'w' (write mode): creates a new file or overwrites an existing one\n",
    "#   - 'a' (append mode): creates a new file if it doesn't exist or adds content to the end\n",
    "#\n",
    "# ✔ If you accidentally write something wrong, you can fix it by using 'w' mode\n",
    "#   which overwrites the existing file content.\n"
   ]
  },
  {
   "cell_type": "markdown",
   "id": "1c518a92",
   "metadata": {},
   "source": [
    "# Reading File "
   ]
  },
  {
   "cell_type": "markdown",
   "id": "1ebb0f4a",
   "metadata": {},
   "source": [
    " ---------------------------------------------\n",
    " 📚 File Reading Methods in Python\n",
    " ---------------------------------------------\n",
    " There are 3 main ways to read content from a file in Python:\n",
    "\n",
    " 1️⃣ read():\n",
    "    - Returns the entire file content as a single string.\n",
    "    - Example: file.read()\n",
    "\n",
    " 2️⃣ readlines():\n",
    "    - Similar to read(), but returns a list of lines (each line as an element).\n",
    "    - Example: file.readlines()\n",
    "\n",
    " 3️⃣ readline():\n",
    "    - Reads and returns only one line at a time.\n",
    "    - You can optionally specify the number of characters to read: file.readline(10)\n",
    "\n",
    " 📝 Note:\n",
    " You can use all three based on your needs:\n",
    " - Use read() if you want everything at once.\n",
    " - Use readlines() if you want to loop over lines.\n",
    " - Use readline() if you want one line at a time (like in a loop).\n"
   ]
  },
  {
   "cell_type": "code",
   "execution_count": null,
   "id": "259f0791",
   "metadata": {},
   "outputs": [
    {
     "name": "stdout",
     "output_type": "stream",
     "text": [
      "print(\"Hey Umair i am a statement from print_statemnt.txt file \")\n",
      "\n"
     ]
    }
   ],
   "source": [
    "# ---------------------------------------------\n",
    "# Reading a file using 'with' block in Python\n",
    "# ---------------------------------------------\n",
    "\n",
    "# 'with' statement is used to open the file safely.\n",
    "# It ensures the file is automatically closed after reading.\n",
    "with open('print_statement.txt', 'r') as file:\n",
    "\n",
    "    # ✅ .read() reads the entire content of the file as one single string\n",
    "    print(file.read())\n",
    "\n",
    "    # 🔽 Uncomment the below lines one by one to test other reading methods:\n",
    "\n",
    "    # ✅ .readlines() reads all lines and returns them as a list (each line as a separate string)\n",
    "    # print(file.readlines())\n",
    "\n",
    "    # ✅ .readline() reads only the first line from the file\n",
    "    # print(file.readline())\n"
   ]
  },
  {
   "cell_type": "markdown",
   "id": "2cce492d",
   "metadata": {},
   "source": []
  }
 ],
 "metadata": {
  "kernelspec": {
   "display_name": "Python 3",
   "language": "python",
   "name": "python3"
  },
  "language_info": {
   "codemirror_mode": {
    "name": "ipython",
    "version": 3
   },
   "file_extension": ".py",
   "mimetype": "text/x-python",
   "name": "python",
   "nbconvert_exporter": "python",
   "pygments_lexer": "ipython3",
   "version": "3.13.1"
  }
 },
 "nbformat": 4,
 "nbformat_minor": 5
}
