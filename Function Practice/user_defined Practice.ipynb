{
 "cells": [
  {
   "cell_type": "markdown",
   "metadata": {},
   "source": [
    "# Beginner level questions"
   ]
  },
  {
   "cell_type": "markdown",
   "metadata": {},
   "source": [
    "'''🔹 Question 1: Basic Function\\nWrite a function called greet_user that\n",
    " takes a name as a parameter and prints:\\n\"Hello, [name]! Welcome to Python world.'"
   ]
  },
  {
   "cell_type": "code",
   "execution_count": 31,
   "metadata": {},
   "outputs": [
    {
     "name": "stdout",
     "output_type": "stream",
     "text": [
      "Hello,Umair! Welcome to python world.\n"
     ]
    }
   ],
   "source": [
    "#fucntion Declaration\n",
    "def greet_user(name): \n",
    "    # body of function\n",
    "    print(f\"Hello,{name}! Welcome to python world.\")\n",
    "\n",
    "greet_user(\"Umair\") # Calling of Function"
   ]
  },
  {
   "cell_type": "code",
   "execution_count": 32,
   "metadata": {},
   "outputs": [
    {
     "data": {
      "text/plain": [
       "'\\n 🔹 Question 2: Return Statement\\nWrite a function called square_number that takes a number as input and returns its square.\\n\\n'"
      ]
     },
     "execution_count": 32,
     "metadata": {},
     "output_type": "execute_result"
    }
   ],
   "source": [
    "'''\n",
    " 🔹 Question 2: Return Statement\n",
    "Write a function called square_number that takes a number as input and returns its square.\n",
    "\n",
    "'''"
   ]
  },
  {
   "cell_type": "code",
   "execution_count": 33,
   "metadata": {},
   "outputs": [
    {
     "name": "stdout",
     "output_type": "stream",
     "text": [
      "the square of 3 is 9\n"
     ]
    }
   ],
   "source": [
    "def square_number(num):\n",
    "    \n",
    "    return num*num\n",
    "\n",
    "number=int(input(\"Enter a number and get its Square\")) #Taking input\n",
    "\n",
    "print(f\"the square of {number} is {square_number(number)}\") "
   ]
  },
  {
   "cell_type": "code",
   "execution_count": 34,
   "metadata": {},
   "outputs": [
    {
     "data": {
      "text/plain": [
       "'🔹 Question 3: Multiple Parameters\\nWrite a function called add_numbers that takes two numbers and returns their sum.\\n'"
      ]
     },
     "execution_count": 34,
     "metadata": {},
     "output_type": "execute_result"
    }
   ],
   "source": [
    "'''🔹 Question 3: Multiple Parameters\n",
    "Write a function called add_numbers that takes two numbers and returns their sum.\n",
    "'''\n"
   ]
  },
  {
   "cell_type": "code",
   "execution_count": 35,
   "metadata": {},
   "outputs": [
    {
     "name": "stdout",
     "output_type": "stream",
     "text": [
      "The sum of 2 and 2 is 4\n"
     ]
    }
   ],
   "source": [
    "def add_numbers(x,y): \n",
    "    \n",
    "    return x+y\n",
    "\n",
    "#Taking numbers from user \n",
    "num1=int(input(\"Enter the valaue for num1\"))\n",
    "num2=int(input(\"Enter the valaue for num2\"))\n",
    "\n",
    "# Function calling \n",
    "print(f\"The sum of {num1} and {num2} is {add_numbers(num1,num2)}\")\n"
   ]
  },
  {
   "cell_type": "code",
   "execution_count": 36,
   "metadata": {},
   "outputs": [
    {
     "data": {
      "text/plain": [
       "'\\n🔹 Question 4: Default Parameter\\nWrite a function called print_info that takes a name and an optional age (default is 18), and prints:\\n\"Name: Umair, Age: 18\" (or any name and age based on input)'"
      ]
     },
     "execution_count": 36,
     "metadata": {},
     "output_type": "execute_result"
    }
   ],
   "source": [
    "'''\n",
    "🔹 Question 4: Default Parameter\n",
    "Write a function called print_info that takes a name and an optional age (default is 18), and prints:\n",
    "\"Name: Umair, Age: 18\" (or any name and age based on input)'''"
   ]
  },
  {
   "cell_type": "code",
   "execution_count": 37,
   "metadata": {},
   "outputs": [
    {
     "name": "stdout",
     "output_type": "stream",
     "text": [
      " Name : Mohammmad Umair Hafeez, Age: 20\n"
     ]
    }
   ],
   "source": [
    "def print_info(name,age=18):\n",
    "   # Body of Function \n",
    "    \n",
    "    print(f\" Name : {name}, Age: {age}\")\n",
    "#Calling the function\n",
    "print_info(\"Mohammmad Umair Hafeez\",20)"
   ]
  },
  {
   "cell_type": "code",
   "execution_count": 38,
   "metadata": {},
   "outputs": [
    {
     "data": {
      "text/plain": [
       "'\\n🔹 Question 5: Function with Loop\\nWrite a function called print_even_numbers that takes a number n and prints all even numbers from 1 to n.\\n\\n'"
      ]
     },
     "execution_count": 38,
     "metadata": {},
     "output_type": "execute_result"
    }
   ],
   "source": [
    "'''\n",
    "🔹 Question 5: Function with Loop\n",
    "Write a function called print_even_numbers that takes a number n and prints all even numbers from 1 to n.\n",
    "\n",
    "'''"
   ]
  },
  {
   "cell_type": "code",
   "execution_count": 39,
   "metadata": {},
   "outputs": [
    {
     "name": "stdout",
     "output_type": "stream",
     "text": [
      "These numbers are even from 1 : to 2\n",
      "2\n"
     ]
    }
   ],
   "source": [
    "def print_even_numbers(n):\n",
    "    #Body of function\n",
    "    for x in range(1,n+1):  \n",
    "        if (x%2==0): #condition of checking a even numbers\n",
    "            print(f\"{x}\")\n",
    "number=int(input(\"Enter a number :\")) # Taking input from user\n",
    "\n",
    "print(f\"These numbers are even from 1 : to {number}\")\n",
    "#Calling the function \n",
    "print_even_numbers(number)"
   ]
  },
  {
   "cell_type": "markdown",
   "metadata": {},
   "source": [
    "# Intermediate Level Questions"
   ]
  },
  {
   "cell_type": "code",
   "execution_count": null,
   "metadata": {},
   "outputs": [],
   "source": [
    "'''✅ Q1.\n",
    "Function with Condition:\n",
    "Write a function check_pass_fail(marks) that takes a student's marks (0–100).\n",
    "\n",
    "If marks ≥ 50, return \"Pass\"\n",
    "\n",
    "Else return \"Fail\"'''"
   ]
  },
  {
   "cell_type": "code",
   "execution_count": null,
   "metadata": {},
   "outputs": [
    {
     "data": {
      "text/plain": [
       "'Unfortunately, you are failed '"
      ]
     },
     "execution_count": 41,
     "metadata": {},
     "output_type": "execute_result"
    }
   ],
   "source": [
    "def check_pass_fail(marks):\n",
    "    \n",
    "    # Body of function \n",
    "    if marks>=50:\n",
    "        \n",
    "        return \"Congratulation! you are Pass\"\n",
    "    \n",
    "    else:\n",
    "        \n",
    "        return \"Unfortunately, you are failed \"\n",
    "    \n",
    "    # Taking marks from user\n",
    "marks=int(input(\"Enter your marks between [0,100]\"))\n",
    "\n",
    "check_pass_fail(marks) # Function call\n",
    "        "
   ]
  },
  {
   "cell_type": "code",
   "execution_count": null,
   "metadata": {},
   "outputs": [],
   "source": [
    "'''✅ Q2.\n",
    "Function Calling Another Function:\n",
    "Define a function calculate_area(length, width) to calculate the area of a rectangle.\n",
    "Then define another function print_area() that:\n",
    "\n",
    "Takes input from the user\n",
    "\n",
    "Calls calculate_area()\n",
    "\n",
    "Prints the result'''"
   ]
  },
  {
   "cell_type": "code",
   "execution_count": 47,
   "metadata": {},
   "outputs": [
    {
     "name": "stdout",
     "output_type": "stream",
     "text": [
      "The Area of rectangle of length 2 and width 3 is  6\n"
     ]
    }
   ],
   "source": [
    "def calculate_area(length,width):\n",
    "    \n",
    "    \n",
    "    return length*width\n",
    "def print_area():\n",
    "    \n",
    "    length=int(input(\"Enter the length of rectangle \"))\n",
    "    width=int(input(\"Enter the width of rectangle \"))\n",
    "    \n",
    "    print(f\"The Area of rectangle of length {length} and width {width} is  {calculate_area(length,width)}\")\n",
    "print_area()"
   ]
  },
  {
   "cell_type": "code",
   "execution_count": null,
   "metadata": {},
   "outputs": [],
   "source": [
    "'''✅ Q3.\n",
    "Working with List in Function:\n",
    "Write a function sum_list(numbers) that takes a list of integers and returns the total sum.\n",
    "Example: sum_list([1, 2, 3, 4]) → returns 10'''"
   ]
  },
  {
   "cell_type": "code",
   "execution_count": 50,
   "metadata": {},
   "outputs": [
    {
     "data": {
      "text/plain": [
       "' the sum of [1, 2, 3, 4, 5] list elements is 15 '"
      ]
     },
     "execution_count": 50,
     "metadata": {},
     "output_type": "execute_result"
    }
   ],
   "source": [
    "def sum_list(numbers):\n",
    "    return f\" the sum of {num} list elements is {sum(numbers)} \"\n",
    "num=[1,2,3,4,5]\n",
    "sum_list(num)\n"
   ]
  },
  {
   "cell_type": "code",
   "execution_count": null,
   "metadata": {},
   "outputs": [],
   "source": [
    "'''✅ Q4.\n",
    "Keyword and Positional Arguments:\n",
    "Write a function show_profile(name, city, age) and call it:\n",
    "\n",
    "Once using positional arguments\n",
    "\n",
    "Once using keyword arguments'''"
   ]
  },
  {
   "cell_type": "code",
   "execution_count": null,
   "metadata": {},
   "outputs": [
    {
     "name": "stdout",
     "output_type": "stream",
     "text": [
      "My Name is Umair and I am 19 years old and I am living in Quetta City.\n",
      "My Name is Mohammad Umair Hafeez  and I am 20 years old and I am living in Bahawalpur City.\n"
     ]
    }
   ],
   "source": [
    "def show_profile(name=\"Umair\",city=\"Quetta\",age=19):\n",
    "    print(f\"My Name is {name} and I am {age} years old and I am living in {city} City.\")\n",
    "show_profile() # Calling  Postional arguments \n",
    "show_profile(name=\"Mohammad Umair Hafeez \",city=\"Bahawalpur\",age=20) # Calling  Keyword arguemnts "
   ]
  },
  {
   "cell_type": "code",
   "execution_count": null,
   "metadata": {},
   "outputs": [],
   "source": [
    "'''✅ Q5.\n",
    "Function Reusability:\n",
    "Write a function is_even(num) that returns True if a number is even, else False.\n",
    "Then use this function inside another function filter_even(numbers) that takes a list and returns only the even numbers from it.\n",
    "\n",
    "'''"
   ]
  },
  {
   "cell_type": "code",
   "execution_count": 67,
   "metadata": {},
   "outputs": [
    {
     "name": "stdout",
     "output_type": "stream",
     "text": [
      "The Number 3 is Even: False\n",
      "Section One code completed\n",
      "The filtered list of Even nuumber is: [2, 4, 6, 8, 10]\n",
      "The filtered List is made of [1, 2, 3, 4, 5, 6, 7, 8, 9, 10]\n"
     ]
    }
   ],
   "source": [
    "\n",
    "#                     **************************section:1**********************************\n",
    "def is_even(num):\n",
    "    # Body of Function\n",
    "    if num%2==0: #Condition of Checking Even numbers \n",
    "        \n",
    "        return True\n",
    "    \n",
    "    else:\n",
    "         \n",
    "        return False\n",
    " # Taking input from the User \n",
    "number=int(input(\"Enter a number and findout is it a even or not\"))\n",
    "\n",
    " # Calling the Function\n",
    "print(f\"The Number {number} is Even: {is_even(number)}\")\n",
    "\n",
    "print(\"Section One code completed\")\n",
    "#                      ******************************************section:1*************************************\n",
    "\n",
    "def filter_even(numbers):\n",
    "    # Body of Function\n",
    "    even_list=[]\n",
    "    \n",
    "    for x in numbers:\n",
    "            \n",
    "            if is_even(x): #Condition for Checking each elemnet in the list \n",
    "                \n",
    "                even_list.append(x)\n",
    "    \n",
    "    return even_list # Returning the filtered List of even numbers \n",
    "                \n",
    "original_list=[1,2,3,4,5,6,7,8,9,10]\n",
    "\n",
    " # Calling the Fucntion\n",
    "print(f\"The filtered list of Even nuumber is: {filter_even(original_list)}\") \n",
    "\n",
    "\n",
    "print(f\"The filtered List is made of {original_list}\")                \n",
    "        "
   ]
  }
 ],
 "metadata": {
  "kernelspec": {
   "display_name": "Python 3",
   "language": "python",
   "name": "python3"
  },
  "language_info": {
   "codemirror_mode": {
    "name": "ipython",
    "version": 3
   },
   "file_extension": ".py",
   "mimetype": "text/x-python",
   "name": "python",
   "nbconvert_exporter": "python",
   "pygments_lexer": "ipython3",
   "version": "3.13.1"
  }
 },
 "nbformat": 4,
 "nbformat_minor": 2
}
