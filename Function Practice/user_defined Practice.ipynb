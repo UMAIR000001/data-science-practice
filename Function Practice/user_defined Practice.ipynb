{
 "cells": [
  {
   "cell_type": "code",
   "execution_count": null,
   "metadata": {},
   "outputs": [],
   "source": [
    "''' beginner level question \n",
    "🔹 Question 1: Basic Function\n",
    "Write a function called greet_user that takes a name as a parameter and prints:\n",
    "\"Hello, [name]! Welcome to Python world.'''"
   ]
  },
  {
   "cell_type": "code",
   "execution_count": null,
   "metadata": {},
   "outputs": [
    {
     "name": "stdout",
     "output_type": "stream",
     "text": [
      "Hello,Umair! Welcome to python world.\n"
     ]
    }
   ],
   "source": [
    "#fucntion Declaration\n",
    "def greet_user(name): \n",
    "    # body of function\n",
    "    print(f\"Hello,{name}! Welcome to python world.\")\n",
    "\n",
    "greet_user(\"Umair\") # Calling of Function"
   ]
  },
  {
   "cell_type": "code",
   "execution_count": null,
   "metadata": {},
   "outputs": [],
   "source": [
    "'''\n",
    " 🔹 Question 2: Return Statement\n",
    "Write a function called square_number that takes a number as input and returns its square.\n",
    "\n",
    "'''"
   ]
  },
  {
   "cell_type": "code",
   "execution_count": null,
   "metadata": {},
   "outputs": [
    {
     "name": "stdout",
     "output_type": "stream",
     "text": [
      "the square of 5 is 25\n"
     ]
    }
   ],
   "source": [
    "def square_number(num):\n",
    "    \n",
    "    return num*num\n",
    "\n",
    "number=int(input(\"Enter a number and get its Square\")) #Taking input\n",
    "\n",
    "print(f\"the square of {number} is {square_number(number)}\") "
   ]
  },
  {
   "cell_type": "code",
   "execution_count": null,
   "metadata": {},
   "outputs": [],
   "source": [
    "'''🔹 Question 3: Multiple Parameters\n",
    "Write a function called add_numbers that takes two numbers and returns their sum.\n",
    "'''\n"
   ]
  },
  {
   "cell_type": "code",
   "execution_count": 5,
   "metadata": {},
   "outputs": [
    {
     "name": "stdout",
     "output_type": "stream",
     "text": [
      "The sum of 2 and 5 is 7\n"
     ]
    }
   ],
   "source": [
    "def add_numbers(x,y): \n",
    "    \n",
    "    return x+y\n",
    "\n",
    "#Taking numbers from user \n",
    "num1=int(input(\"Enter the valaue for num1\"))\n",
    "num2=int(input(\"Enter the valaue for num2\"))\n",
    "\n",
    "# Function calling \n",
    "print(f\"The sum of {num1} and {num2} is {add_numbers(num1,num2)}\")\n"
   ]
  },
  {
   "cell_type": "code",
   "execution_count": null,
   "metadata": {},
   "outputs": [],
   "source": [
    "'''\n",
    "🔹 Question 4: Default Parameter\n",
    "Write a function called print_info that takes a name and an optional age (default is 18), and prints:\n",
    "\"Name: Umair, Age: 18\" (or any name and age based on input)'''"
   ]
  },
  {
   "cell_type": "code",
   "execution_count": null,
   "metadata": {},
   "outputs": [
    {
     "name": "stdout",
     "output_type": "stream",
     "text": [
      " Name : Mohammmad Umair Hafeez, Age: 20\n"
     ]
    }
   ],
   "source": [
    "def print_info(name,age=18):\n",
    "   # Body of Function \n",
    "    \n",
    "    print(f\" Name : {name}, Age: {age}\")\n",
    "#Calling the function\n",
    "print_info(\"Mohammmad Umair Hafeez\",20)"
   ]
  },
  {
   "cell_type": "code",
   "execution_count": null,
   "metadata": {},
   "outputs": [],
   "source": [
    "'''\n",
    "🔹 Question 5: Function with Loop\n",
    "Write a function called print_even_numbers that takes a number n and prints all even numbers from 1 to n.\n",
    "\n",
    "'''"
   ]
  },
  {
   "cell_type": "code",
   "execution_count": null,
   "metadata": {},
   "outputs": [
    {
     "name": "stdout",
     "output_type": "stream",
     "text": [
      "These numbers are even from 1 : to 20\n",
      "2\n",
      "4\n",
      "6\n",
      "8\n",
      "10\n",
      "12\n",
      "14\n",
      "16\n",
      "18\n",
      "20\n"
     ]
    }
   ],
   "source": [
    "def print_even_numbers(n):\n",
    "    #Body of function\n",
    "    for x in range(1,n+1):  \n",
    "        if (x%2==0): #condition of checking a even numbers\n",
    "            print(f\"{x}\")\n",
    "number=int(input(\"Enter a number :\")) # Taking input from user\n",
    "\n",
    "print(f\"These numbers are even from 1 : to {number}\")\n",
    "#Calling the function \n",
    "print_even_numbers(number)"
   ]
  }
 ],
 "metadata": {
  "kernelspec": {
   "display_name": "Python 3",
   "language": "python",
   "name": "python3"
  },
  "language_info": {
   "codemirror_mode": {
    "name": "ipython",
    "version": 3
   },
   "file_extension": ".py",
   "mimetype": "text/x-python",
   "name": "python",
   "nbconvert_exporter": "python",
   "pygments_lexer": "ipython3",
   "version": "3.13.1"
  }
 },
 "nbformat": 4,
 "nbformat_minor": 2
}
