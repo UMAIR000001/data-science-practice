{
 "cells": [
  {
   "cell_type": "code",
   "execution_count": 9,
   "id": "2657dc60-7361-4430-8087-71e2a9626d03",
   "metadata": {},
   "outputs": [],
   "source": [
    "#----------------DAY-02 OF PYTHON---------"
   ]
  },
  {
   "cell_type": "code",
   "execution_count": null,
   "id": "3b56bfe2-7b2a-45ab-ac79-a0f15da4d812",
   "metadata": {},
   "outputs": [
    {
     "name": "stdout",
     "output_type": "stream",
     "text": [
      "My name is : Umair Hafeez and my semister is : 1\n"
     ]
    }
   ],
   "source": [
    "name =\" Mohammad Umair Hafeez\"\n",
    "semister =1\n",
    "print(\"My name is :\",name,\"and my semister is :\",semister)"
   ]
  },
  {
   "cell_type": "code",
   "execution_count": 15,
   "id": "145e66ac-1464-45a4-8ab1-c470c9778906",
   "metadata": {},
   "outputs": [
    {
     "name": "stdout",
     "output_type": "stream",
     "text": [
      "False\n"
     ]
    }
   ],
   "source": [
    "print(1==0)"
   ]
  },
  {
   "cell_type": "code",
   "execution_count": 29,
   "id": "c1d40b55-f529-4999-9cf6-dc77be94c4b4",
   "metadata": {},
   "outputs": [
    {
     "name": "stdout",
     "output_type": "stream",
     "text": [
      "12\n"
     ]
    }
   ],
   "source": [
    "#---------Data-types and nameing of variables--------\n",
    "#1-as=2 not valid\n",
    "_a=2\n",
    "_=1\n",
    "a123123=12\n",
    "print(a123123)"
   ]
  },
  {
   "cell_type": "code",
   "execution_count": null,
   "id": "e733d70f-4487-4ddc-a572-16583320450b",
   "metadata": {},
   "outputs": [
    {
     "name": "stdout",
     "output_type": "stream",
     "text": [
      "<class 'int'>\n",
      "<class 'float'>\n",
      "<class 'str'>\n",
      "<class 'list'>\n",
      "<class 'bool'>\n",
      "<class 'complex'>\n",
      "<class 'str'>\n"
     ]
    }
   ],
   "source": [
    "#----Data-Type finder keyword(type(variable_name)----------\n",
    "#it is a case-Sensitive Language\n",
    "num0=1\n",
    "num1=2.2\n",
    "num2=\"Umair\"\n",
    "num3=[12,12,33,55]\n",
    "num4=True \n",
    "num5=12+2j\n",
    "num6='Baloch'\n",
    "print(type(num0))\n",
    "print(type(num1))\n",
    "print(type(num2))\n",
    "print(type(num3))\n",
    "print(type(num4))\n",
    "print(type(num5))\n",
    "print(type(num6))"
   ]
  },
  {
   "cell_type": "code",
   "execution_count": 67,
   "id": "4ca3a214-5232-4647-9b3e-fac456c1387a",
   "metadata": {},
   "outputs": [
    {
     "name": "stdout",
     "output_type": "stream",
     "text": [
      "MuhammadUmairHafeez\n",
      "Muhammad Umair Hafeez\n"
     ]
    }
   ],
   "source": [
    "# ---how to cancatenate variable values for Strings------\n",
    "first_name=\"Muhammad\"\n",
    "middle_name=\"Umair\"\n",
    "last_name=\"Hafeez\"\n",
    "full_name=first_name + middle_name + last_name\n",
    "print(full_name) #Without space \n",
    "full_name_WithSpace=first_name +\" \"+ middle_name +\" \"+ last_name\n",
    "print(full_name_WithSpace) #With space \n"
   ]
  },
  {
   "cell_type": "code",
   "execution_count": 69,
   "id": "955fc93e-cfbe-498b-8722-fd70f23a6620",
   "metadata": {},
   "outputs": [
    {
     "name": "stdout",
     "output_type": "stream",
     "text": [
      "5\n",
      "10\n"
     ]
    }
   ],
   "source": [
    "x=5\n",
    "print(x)\n",
    "x=10\n",
    "print(x)"
   ]
  },
  {
   "cell_type": "code",
   "execution_count": null,
   "id": "5be9bf09-3a38-441f-aad1-c707b015d807",
   "metadata": {},
   "outputs": [],
   "source": [
    "# ------OPERATORS AND ITS TYPES --------------"
   ]
  },
  {
   "cell_type": "code",
   "execution_count": 71,
   "id": "e3d30728-c3cc-44f2-a369-c7bd5959baa4",
   "metadata": {},
   "outputs": [
    {
     "name": "stdout",
     "output_type": "stream",
     "text": [
      "23\n"
     ]
    }
   ],
   "source": [
    "#Addition\n",
    "num1=12\n",
    "num2=11\n",
    "print(num1+num2)\n"
   ]
  },
  {
   "cell_type": "code",
   "execution_count": 74,
   "id": "f8753470-9aed-4baa-8c97-b863f34ae730",
   "metadata": {},
   "outputs": [
    {
     "name": "stdout",
     "output_type": "stream",
     "text": [
      "2.3\n"
     ]
    }
   ],
   "source": [
    "num1=1.2\n",
    "num2=1.1\n",
    "print(num1+num2)"
   ]
  },
  {
   "cell_type": "code",
   "execution_count": 76,
   "id": "cb1b9a5a-2141-4048-9b45-13d1e0151cf9",
   "metadata": {
    "scrolled": true
   },
   "outputs": [
    {
     "name": "stdout",
     "output_type": "stream",
     "text": [
      "Umair Baloch\n"
     ]
    }
   ],
   "source": [
    "first=\"Umair\"\n",
    "second=\"Baloch\"\n",
    "print(first+\" \"+second)"
   ]
  },
  {
   "cell_type": "code",
   "execution_count": 78,
   "id": "b5df4ca4-0e7b-4135-bb4a-2a84203a3cea",
   "metadata": {},
   "outputs": [
    {
     "name": "stdout",
     "output_type": "stream",
     "text": [
      "(5+6j)\n"
     ]
    }
   ],
   "source": [
    "num1=2+3j\n",
    "num2=3+3j\n",
    "print(num1+num2)"
   ]
  },
  {
   "cell_type": "code",
   "execution_count": 80,
   "id": "bd2fd722-f31b-4c00-8f93-f63e64495c39",
   "metadata": {},
   "outputs": [
    {
     "name": "stdout",
     "output_type": "stream",
     "text": [
      "1\n"
     ]
    }
   ],
   "source": [
    "# Subtraction\n",
    "num1=12\n",
    "num2=11\n",
    "print(num1-num2)\n"
   ]
  },
  {
   "cell_type": "code",
   "execution_count": 82,
   "id": "5670deb6-cb3b-4a38-bc01-6d55bfd3d0ca",
   "metadata": {},
   "outputs": [
    {
     "name": "stdout",
     "output_type": "stream",
     "text": [
      "0.09999999999999987\n"
     ]
    }
   ],
   "source": [
    "num1=1.2\n",
    "num2=1.1\n",
    "print(num1-num2)"
   ]
  },
  {
   "cell_type": "code",
   "execution_count": 84,
   "id": "0ad0376b-7eab-47b9-8d41-435f3db61236",
   "metadata": {},
   "outputs": [
    {
     "ename": "TypeError",
     "evalue": "unsupported operand type(s) for -: 'str' and 'str'",
     "output_type": "error",
     "traceback": [
      "\u001b[1;31m---------------------------------------------------------------------------\u001b[0m",
      "\u001b[1;31mTypeError\u001b[0m                                 Traceback (most recent call last)",
      "Cell \u001b[1;32mIn[84], line 3\u001b[0m\n\u001b[0;32m      1\u001b[0m first\u001b[38;5;241m=\u001b[39m\u001b[38;5;124m\"\u001b[39m\u001b[38;5;124mUmair\u001b[39m\u001b[38;5;124m\"\u001b[39m\n\u001b[0;32m      2\u001b[0m second\u001b[38;5;241m=\u001b[39m\u001b[38;5;124m\"\u001b[39m\u001b[38;5;124mBaloch\u001b[39m\u001b[38;5;124m\"\u001b[39m\n\u001b[1;32m----> 3\u001b[0m \u001b[38;5;28mprint\u001b[39m(first\u001b[38;5;241m-\u001b[39m\u001b[38;5;124m\"\u001b[39m\u001b[38;5;124m \u001b[39m\u001b[38;5;124m\"\u001b[39m\u001b[38;5;241m-\u001b[39msecond)\n",
      "\u001b[1;31mTypeError\u001b[0m: unsupported operand type(s) for -: 'str' and 'str'"
     ]
    }
   ],
   "source": [
    "first=\"Umair\"\n",
    "second=\"Baloch\"\n",
    "print(first-\" \"-second) #Not valid"
   ]
  },
  {
   "cell_type": "code",
   "execution_count": 86,
   "id": "1451f5f5-c912-4ce9-9674-45566de69874",
   "metadata": {},
   "outputs": [
    {
     "name": "stdout",
     "output_type": "stream",
     "text": [
      "(-1+0j)\n"
     ]
    }
   ],
   "source": [
    "num1=2+3j\n",
    "num2=3+3j\n",
    "print(num1-num2)"
   ]
  },
  {
   "cell_type": "code",
   "execution_count": 88,
   "id": "75fd15de-bac2-4f7d-a92b-033ed617074f",
   "metadata": {},
   "outputs": [
    {
     "name": "stdout",
     "output_type": "stream",
     "text": [
      "132\n"
     ]
    }
   ],
   "source": [
    "# Multiplication\n",
    "num1=12\n",
    "num2=11\n",
    "print(num1*num2)\n"
   ]
  },
  {
   "cell_type": "code",
   "execution_count": 90,
   "id": "adbb8a20-d25f-466a-9d05-2f28a40f157e",
   "metadata": {},
   "outputs": [
    {
     "name": "stdout",
     "output_type": "stream",
     "text": [
      "1.32\n"
     ]
    }
   ],
   "source": [
    "num1=1.2\n",
    "num2=1.1\n",
    "print(num1*num2)"
   ]
  },
  {
   "cell_type": "code",
   "execution_count": 98,
   "id": "854922b7-ab13-4925-bf82-cf83a057f93c",
   "metadata": {},
   "outputs": [
    {
     "name": "stdout",
     "output_type": "stream",
     "text": [
      "UmairUmair\n"
     ]
    }
   ],
   "source": [
    "first=\"Umair\"\n",
    "second=\"Baloch\"\n",
    "print(first*2) #Valid\n",
    "#print(first*\" \"*second) #Not valid\n",
    "#print(first*first) Not valid\n"
   ]
  },
  {
   "cell_type": "code",
   "execution_count": 94,
   "id": "8596ef2a-3d07-4548-a180-46b3e41561ba",
   "metadata": {},
   "outputs": [
    {
     "name": "stdout",
     "output_type": "stream",
     "text": [
      "(-3+15j)\n"
     ]
    }
   ],
   "source": [
    "num1=2+3j\n",
    "num2=3+3j\n",
    "print(num1*num2)"
   ]
  },
  {
   "cell_type": "code",
   "execution_count": 100,
   "id": "45102573-bc81-4000-b2e3-56dd12421c21",
   "metadata": {},
   "outputs": [
    {
     "name": "stdout",
     "output_type": "stream",
     "text": [
      "1.0909090909090908\n"
     ]
    }
   ],
   "source": [
    "# Division _symbol(/)\n",
    "num1=12\n",
    "num2=11\n",
    "print(num1/num2)\n"
   ]
  },
  {
   "cell_type": "code",
   "execution_count": null,
   "id": "00c0a787-eccd-4ee1-bde1-e2dfb8bf6c85",
   "metadata": {},
   "outputs": [],
   "source": [
    "num1=1.2\n",
    "num2=1.1\n",
    "print(num1/num2)"
   ]
  },
  {
   "cell_type": "code",
   "execution_count": 104,
   "id": "408eb2bb-c8b3-4482-a532-0b1d29e3b2b1",
   "metadata": {},
   "outputs": [
    {
     "name": "stdout",
     "output_type": "stream",
     "text": [
      "1.0\n"
     ]
    }
   ],
   "source": [
    "first=\"Umair\"\n",
    "second=\"Baloch\"\n",
    "print(first/2) # Not Valid\n",
    "#print(first*\" \"*second) #Not valid\n",
    "#print(first*first) Not valid\n"
   ]
  },
  {
   "cell_type": "code",
   "execution_count": 106,
   "id": "c624ab5b-8f0f-4cf2-aaba-61fa333a3464",
   "metadata": {},
   "outputs": [
    {
     "name": "stdout",
     "output_type": "stream",
     "text": [
      "(0.8333333333333334+0.16666666666666666j)\n"
     ]
    }
   ],
   "source": [
    "num1=2+3j\n",
    "num2=3+3j\n",
    "print(num1/num2)"
   ]
  },
  {
   "cell_type": "code",
   "execution_count": null,
   "id": "515d068a-ff9c-4083-bf77-2e26cfb7a289",
   "metadata": {},
   "outputs": [],
   "source": [
    "------Reminder------"
   ]
  },
  {
   "cell_type": "code",
   "execution_count": 108,
   "id": "2ee2031d-564b-4f40-9cdb-7fe76790dc20",
   "metadata": {},
   "outputs": [
    {
     "name": "stdout",
     "output_type": "stream",
     "text": [
      "12\n"
     ]
    }
   ],
   "source": [
    "num1=12\n",
    "num2=22\n",
    "print(num1%num2)"
   ]
  },
  {
   "cell_type": "code",
   "execution_count": null,
   "id": "be8f90b3-dc75-4714-bb3c-e5d1f7fd05ed",
   "metadata": {},
   "outputs": [],
   "source": [
    "-----Quotient-----\n"
   ]
  },
  {
   "cell_type": "code",
   "execution_count": 116,
   "id": "fd175dfe-36c7-4a53-858d-986e931a4df5",
   "metadata": {},
   "outputs": [
    {
     "name": "stdout",
     "output_type": "stream",
     "text": [
      "5\n"
     ]
    }
   ],
   "source": [
    "num1=60\n",
    "num2=12\n",
    "print(num1//num2)"
   ]
  },
  {
   "cell_type": "code",
   "execution_count": null,
   "id": "b4f7fd90-7902-4392-8f1b-5574c4449f3b",
   "metadata": {},
   "outputs": [],
   "source": [
    "----Exponent-------"
   ]
  },
  {
   "cell_type": "code",
   "execution_count": 124,
   "id": "1f5a43d2-6935-472c-a72c-ac7021fd5510",
   "metadata": {},
   "outputs": [
    {
     "name": "stdout",
     "output_type": "stream",
     "text": [
      "32\n"
     ]
    }
   ],
   "source": [
    "num1=2\n",
    "print(num1**5)"
   ]
  },
  {
   "cell_type": "code",
   "execution_count": null,
   "id": "2095df63-6c24-4d20-94ed-43156c24ca4b",
   "metadata": {},
   "outputs": [],
   "source": []
  }
 ],
 "metadata": {
  "kernelspec": {
   "display_name": "Python 3 (ipykernel)",
   "language": "python",
   "name": "python3"
  },
  "language_info": {
   "codemirror_mode": {
    "name": "ipython",
    "version": 3
   },
   "file_extension": ".py",
   "mimetype": "text/x-python",
   "name": "python",
   "nbconvert_exporter": "python",
   "pygments_lexer": "ipython3",
   "version": "3.12.4"
  }
 },
 "nbformat": 4,
 "nbformat_minor": 5
}
