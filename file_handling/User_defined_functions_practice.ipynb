{
 "cells": [
  {
   "cell_type": "code",
   "execution_count": null,
   "id": "3161526d",
   "metadata": {},
   "outputs": [
    {
     "name": "stdout",
     "output_type": "stream",
     "text": [
      "Dog 1 Name: Tommy its Owner Name: John Address: 1234 Elm St and contact number : 555-1234\n"
     ]
    }
   ],
   "source": [
    "#course by codecamp oop given by Akmal Sir For practice\n",
    "class dog:\n",
    "    def __init__(self,name,breed,owner):\n",
    "        self.name=name\n",
    "        self.breed=breed\n",
    "        self.owner=owner\n",
    "class dog_owner:\n",
    "    def __init__(self,name,address,contact_no):\n",
    "        self.name=name\n",
    "        self.address=address\n",
    "        self.contact_no=contact_no\n",
    "dog1_owner=dog_owner(\"John\",\"1234 Elm St\",\"555-1234\")\n",
    "dog1=dog(\"Tommy\",\"Labrador\",dog1_owner)\n",
    "\n",
    "dog2_owner=dog_owner(\"Alice\",\"5678 Oak St\",\"555-5678\")\n",
    "dog2=dog(\"Max\",\"Beagle\",dog2_owner)\n",
    "print(f\"Dog 1 Name: {dog1.name} its Owner Name: {dog1_owner.name} Address: {dog1_owner.address} and contact number : {dog1_owner.contact_no}\")\n",
    "\n",
    "\n",
    "        \n",
    "    "
   ]
  },
  {
   "cell_type": "code",
   "execution_count": null,
   "id": "7ae7b4c3",
   "metadata": {},
   "outputs": [
    {
     "name": "stdout",
     "output_type": "stream",
     "text": [
      " Student 1 Name is Umair Roll Number is 536\n",
      "Major is Data Science and hobbies are Watching Reels,Anime\n",
      "and Trying to be Discipline\n"
     ]
    }
   ],
   "source": [
    "#----------main Class-----------------\n",
    "class students:\n",
    "    def __init__(self,name,roll_num,majors,hobbies):\n",
    "        self.name=name\n",
    "        self.roll_num=roll_num\n",
    "        self.majors=majors\n",
    "        self.hobbies=hobbies\n",
    "\n",
    "#----------Secondary Class-----------------\n",
    "#Secondary Class for Declaring Hobbies of students\n",
    "class hobbies:\n",
    "    def __init__(self,hobby_one,hobby_two):\n",
    "        self.hobby_one=hobby_one\n",
    "        self.hobby_two=hobby_two\n",
    "#************************************************************\n",
    "#                   Declaration of Objects        \n",
    "hobbies_of_student_1=hobbies(\"Watching Reels,Anime\",\"Trying to be Discipline\")\n",
    "student_1=students(\"Umair\",536,\"Data Science\",hobbies_of_student_1)\n",
    "\n",
    "print(f''' Student 1 Name is {student_1.name} Roll Number is {student_1.roll_num}\n",
    "Major is {student_1.majors} and hobbies are {hobbies_of_student_1.hobby_one}\n",
    "and {hobbies_of_student_1.hobby_two}''')"
   ]
  }
 ],
 "metadata": {
  "kernelspec": {
   "display_name": "base",
   "language": "python",
   "name": "python3"
  },
  "language_info": {
   "codemirror_mode": {
    "name": "ipython",
    "version": 3
   },
   "file_extension": ".py",
   "mimetype": "text/x-python",
   "name": "python",
   "nbconvert_exporter": "python",
   "pygments_lexer": "ipython3",
   "version": "3.12.4"
  }
 },
 "nbformat": 4,
 "nbformat_minor": 5
}
